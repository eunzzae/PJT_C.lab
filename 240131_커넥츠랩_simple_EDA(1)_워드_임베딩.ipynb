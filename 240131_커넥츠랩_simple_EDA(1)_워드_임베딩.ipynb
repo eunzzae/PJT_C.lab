{
  "nbformat": 4,
  "nbformat_minor": 0,
  "metadata": {
    "colab": {
      "provenance": [],
      "machine_shape": "hm",
      "gpuType": "V100",
      "mount_file_id": "1pa13MW1Jio9c1liN20ZnVkyIMQOs-or_",
      "authorship_tag": "ABX9TyPHnbMhbmd6QgZsaWsIcYEn",
      "include_colab_link": true
    },
    "kernelspec": {
      "name": "python3",
      "display_name": "Python 3"
    },
    "language_info": {
      "name": "python"
    },
    "accelerator": "GPU"
  },
  "cells": [
    {
      "cell_type": "markdown",
      "metadata": {
        "id": "view-in-github",
        "colab_type": "text"
      },
      "source": [
        "<a href=\"https://colab.research.google.com/github/eunzzae/PJT_C.lab/blob/main/240131_%EC%BB%A4%EB%84%A5%EC%B8%A0%EB%9E%A9_simple_EDA(1)_%EC%9B%8C%EB%93%9C_%EC%9E%84%EB%B2%A0%EB%94%A9.ipynb\" target=\"_parent\"><img src=\"https://colab.research.google.com/assets/colab-badge.svg\" alt=\"Open In Colab\"/></a>"
      ]
    },
    {
      "cell_type": "markdown",
      "source": [
        "# 양육 레터에서 키워드 추출한 거 단어 임베딩 (word2vec)"
      ],
      "metadata": {
        "id": "xTxEthRXvgpy"
      }
    },
    {
      "cell_type": "code",
      "execution_count": null,
      "metadata": {
        "id": "0bk3tLw0ImJt",
        "colab": {
          "base_uri": "https://localhost:8080/"
        },
        "outputId": "9dd7ba17-1bb5-4394-f1bc-bfe3e26ece7b"
      },
      "outputs": [
        {
          "output_type": "stream",
          "name": "stdout",
          "text": [
            "Drive already mounted at /content/drive; to attempt to forcibly remount, call drive.mount(\"/content/drive\", force_remount=True).\n"
          ]
        }
      ],
      "source": [
        "from google.colab import drive\n",
        "drive.mount('/content/drive')"
      ]
    },
    {
      "cell_type": "code",
      "source": [
        "# 데이터분석 4종 세트\n",
        "import numpy as np\n",
        "import pandas as pd\n",
        "import matplotlib.pyplot as plt\n",
        "import seaborn as sns\n"
      ],
      "metadata": {
        "id": "q73cUtdsJgVn"
      },
      "execution_count": null,
      "outputs": []
    },
    {
      "cell_type": "code",
      "source": [
        "base_path = '/content/drive/MyDrive/Colab Notebooks/data/connects_lab/버전관리/'\n",
        "customer = pd.read_excel(base_path+'Data_1_Simulated_Customer_Data_50k.xlsx')\n",
        "course = pd.read_excel(base_path+'Data_2_TalkD_coursemap_v2.xlsx')"
      ],
      "metadata": {
        "id": "fjGbskSBJjJ2"
      },
      "execution_count": null,
      "outputs": []
    },
    {
      "cell_type": "code",
      "source": [
        "customer.head()"
      ],
      "metadata": {
        "colab": {
          "base_uri": "https://localhost:8080/",
          "height": 573
        },
        "id": "AJLXYfyuKJ2O",
        "outputId": "fbdf76c3-6c65-42b6-cfb7-ac5ea36d9e49"
      },
      "execution_count": null,
      "outputs": [
        {
          "output_type": "execute_result",
          "data": {
            "text/plain": [
              "  Name  Age  Child_Age_Months  Number_of_Children  Gender Child_1_Gender  \\\n",
              "0  조서연   30                 3                   1  Female           Male   \n",
              "1  최하은   34                42                   1  Female         Female   \n",
              "2  이현우   34                27                   1    Male         Female   \n",
              "3  장예은   36                47                   2  Female         Female   \n",
              "4  최예은   32                22                   3  Female         Female   \n",
              "\n",
              "  Child_2_Gender Child_3_Gender         Parenting_Concerns  \\\n",
              "0            NaN            NaN      ['건강', '감정표현', '양육법']   \n",
              "1            NaN            NaN  ['수면', '부모역할', '양육 스트레스']   \n",
              "2            NaN            NaN  ['발달', '상호작용', '양육 스트레스']   \n",
              "3         Female            NaN  ['양육 스트레스', '수면', '감정표현']   \n",
              "4         Female           Male     ['관계', '감정표현', '부모역할']   \n",
              "\n",
              "   Parenting_Stress_Level                                   Parenting_Letter  \\\n",
              "0                       5  육아에 대한 고민을 나누고 싶어 글을 씁니다, 저는 30세의 엄마입니다. 양육의 어...   \n",
              "1                       5  안녕하세요, 저는 34세의 엄마입니다. 지치고 막막함을 느끼고 있습니다. 제 육아 ...   \n",
              "2                       4  안녕하세요, 저는 34세의 아빠입니다. 이러한 상황이 저를 매우 우울하게 만듭니다....   \n",
              "3                       4  이 글을 통해 도움을 구하고자 합니다. 저는 36세의 엄마입니다. 양육의 어려움에 ...   \n",
              "4                       1  안녕하세요, 저는 32세의 엄마입니다. 양육의 어려움에 직면하고 있습니다. 제 육아...   \n",
              "\n",
              "   Child_1_Age_Months  Child_2_Age_Months  Child_3_Age_Months  \n",
              "0                   3                 NaN                 NaN  \n",
              "1                  42                 NaN                 NaN  \n",
              "2                  27                 NaN                 NaN  \n",
              "3                  67                47.0                 NaN  \n",
              "4                 120                72.0                22.0  "
            ],
            "text/html": [
              "\n",
              "  <div id=\"df-4daa5969-3157-4cd5-9a58-67be0d481226\" class=\"colab-df-container\">\n",
              "    <div>\n",
              "<style scoped>\n",
              "    .dataframe tbody tr th:only-of-type {\n",
              "        vertical-align: middle;\n",
              "    }\n",
              "\n",
              "    .dataframe tbody tr th {\n",
              "        vertical-align: top;\n",
              "    }\n",
              "\n",
              "    .dataframe thead th {\n",
              "        text-align: right;\n",
              "    }\n",
              "</style>\n",
              "<table border=\"1\" class=\"dataframe\">\n",
              "  <thead>\n",
              "    <tr style=\"text-align: right;\">\n",
              "      <th></th>\n",
              "      <th>Name</th>\n",
              "      <th>Age</th>\n",
              "      <th>Child_Age_Months</th>\n",
              "      <th>Number_of_Children</th>\n",
              "      <th>Gender</th>\n",
              "      <th>Child_1_Gender</th>\n",
              "      <th>Child_2_Gender</th>\n",
              "      <th>Child_3_Gender</th>\n",
              "      <th>Parenting_Concerns</th>\n",
              "      <th>Parenting_Stress_Level</th>\n",
              "      <th>Parenting_Letter</th>\n",
              "      <th>Child_1_Age_Months</th>\n",
              "      <th>Child_2_Age_Months</th>\n",
              "      <th>Child_3_Age_Months</th>\n",
              "    </tr>\n",
              "  </thead>\n",
              "  <tbody>\n",
              "    <tr>\n",
              "      <th>0</th>\n",
              "      <td>조서연</td>\n",
              "      <td>30</td>\n",
              "      <td>3</td>\n",
              "      <td>1</td>\n",
              "      <td>Female</td>\n",
              "      <td>Male</td>\n",
              "      <td>NaN</td>\n",
              "      <td>NaN</td>\n",
              "      <td>['건강', '감정표현', '양육법']</td>\n",
              "      <td>5</td>\n",
              "      <td>육아에 대한 고민을 나누고 싶어 글을 씁니다, 저는 30세의 엄마입니다. 양육의 어...</td>\n",
              "      <td>3</td>\n",
              "      <td>NaN</td>\n",
              "      <td>NaN</td>\n",
              "    </tr>\n",
              "    <tr>\n",
              "      <th>1</th>\n",
              "      <td>최하은</td>\n",
              "      <td>34</td>\n",
              "      <td>42</td>\n",
              "      <td>1</td>\n",
              "      <td>Female</td>\n",
              "      <td>Female</td>\n",
              "      <td>NaN</td>\n",
              "      <td>NaN</td>\n",
              "      <td>['수면', '부모역할', '양육 스트레스']</td>\n",
              "      <td>5</td>\n",
              "      <td>안녕하세요, 저는 34세의 엄마입니다. 지치고 막막함을 느끼고 있습니다. 제 육아 ...</td>\n",
              "      <td>42</td>\n",
              "      <td>NaN</td>\n",
              "      <td>NaN</td>\n",
              "    </tr>\n",
              "    <tr>\n",
              "      <th>2</th>\n",
              "      <td>이현우</td>\n",
              "      <td>34</td>\n",
              "      <td>27</td>\n",
              "      <td>1</td>\n",
              "      <td>Male</td>\n",
              "      <td>Female</td>\n",
              "      <td>NaN</td>\n",
              "      <td>NaN</td>\n",
              "      <td>['발달', '상호작용', '양육 스트레스']</td>\n",
              "      <td>4</td>\n",
              "      <td>안녕하세요, 저는 34세의 아빠입니다. 이러한 상황이 저를 매우 우울하게 만듭니다....</td>\n",
              "      <td>27</td>\n",
              "      <td>NaN</td>\n",
              "      <td>NaN</td>\n",
              "    </tr>\n",
              "    <tr>\n",
              "      <th>3</th>\n",
              "      <td>장예은</td>\n",
              "      <td>36</td>\n",
              "      <td>47</td>\n",
              "      <td>2</td>\n",
              "      <td>Female</td>\n",
              "      <td>Female</td>\n",
              "      <td>Female</td>\n",
              "      <td>NaN</td>\n",
              "      <td>['양육 스트레스', '수면', '감정표현']</td>\n",
              "      <td>4</td>\n",
              "      <td>이 글을 통해 도움을 구하고자 합니다. 저는 36세의 엄마입니다. 양육의 어려움에 ...</td>\n",
              "      <td>67</td>\n",
              "      <td>47.0</td>\n",
              "      <td>NaN</td>\n",
              "    </tr>\n",
              "    <tr>\n",
              "      <th>4</th>\n",
              "      <td>최예은</td>\n",
              "      <td>32</td>\n",
              "      <td>22</td>\n",
              "      <td>3</td>\n",
              "      <td>Female</td>\n",
              "      <td>Female</td>\n",
              "      <td>Female</td>\n",
              "      <td>Male</td>\n",
              "      <td>['관계', '감정표현', '부모역할']</td>\n",
              "      <td>1</td>\n",
              "      <td>안녕하세요, 저는 32세의 엄마입니다. 양육의 어려움에 직면하고 있습니다. 제 육아...</td>\n",
              "      <td>120</td>\n",
              "      <td>72.0</td>\n",
              "      <td>22.0</td>\n",
              "    </tr>\n",
              "  </tbody>\n",
              "</table>\n",
              "</div>\n",
              "    <div class=\"colab-df-buttons\">\n",
              "\n",
              "  <div class=\"colab-df-container\">\n",
              "    <button class=\"colab-df-convert\" onclick=\"convertToInteractive('df-4daa5969-3157-4cd5-9a58-67be0d481226')\"\n",
              "            title=\"Convert this dataframe to an interactive table.\"\n",
              "            style=\"display:none;\">\n",
              "\n",
              "  <svg xmlns=\"http://www.w3.org/2000/svg\" height=\"24px\" viewBox=\"0 -960 960 960\">\n",
              "    <path d=\"M120-120v-720h720v720H120Zm60-500h600v-160H180v160Zm220 220h160v-160H400v160Zm0 220h160v-160H400v160ZM180-400h160v-160H180v160Zm440 0h160v-160H620v160ZM180-180h160v-160H180v160Zm440 0h160v-160H620v160Z\"/>\n",
              "  </svg>\n",
              "    </button>\n",
              "\n",
              "  <style>\n",
              "    .colab-df-container {\n",
              "      display:flex;\n",
              "      gap: 12px;\n",
              "    }\n",
              "\n",
              "    .colab-df-convert {\n",
              "      background-color: #E8F0FE;\n",
              "      border: none;\n",
              "      border-radius: 50%;\n",
              "      cursor: pointer;\n",
              "      display: none;\n",
              "      fill: #1967D2;\n",
              "      height: 32px;\n",
              "      padding: 0 0 0 0;\n",
              "      width: 32px;\n",
              "    }\n",
              "\n",
              "    .colab-df-convert:hover {\n",
              "      background-color: #E2EBFA;\n",
              "      box-shadow: 0px 1px 2px rgba(60, 64, 67, 0.3), 0px 1px 3px 1px rgba(60, 64, 67, 0.15);\n",
              "      fill: #174EA6;\n",
              "    }\n",
              "\n",
              "    .colab-df-buttons div {\n",
              "      margin-bottom: 4px;\n",
              "    }\n",
              "\n",
              "    [theme=dark] .colab-df-convert {\n",
              "      background-color: #3B4455;\n",
              "      fill: #D2E3FC;\n",
              "    }\n",
              "\n",
              "    [theme=dark] .colab-df-convert:hover {\n",
              "      background-color: #434B5C;\n",
              "      box-shadow: 0px 1px 3px 1px rgba(0, 0, 0, 0.15);\n",
              "      filter: drop-shadow(0px 1px 2px rgba(0, 0, 0, 0.3));\n",
              "      fill: #FFFFFF;\n",
              "    }\n",
              "  </style>\n",
              "\n",
              "    <script>\n",
              "      const buttonEl =\n",
              "        document.querySelector('#df-4daa5969-3157-4cd5-9a58-67be0d481226 button.colab-df-convert');\n",
              "      buttonEl.style.display =\n",
              "        google.colab.kernel.accessAllowed ? 'block' : 'none';\n",
              "\n",
              "      async function convertToInteractive(key) {\n",
              "        const element = document.querySelector('#df-4daa5969-3157-4cd5-9a58-67be0d481226');\n",
              "        const dataTable =\n",
              "          await google.colab.kernel.invokeFunction('convertToInteractive',\n",
              "                                                    [key], {});\n",
              "        if (!dataTable) return;\n",
              "\n",
              "        const docLinkHtml = 'Like what you see? Visit the ' +\n",
              "          '<a target=\"_blank\" href=https://colab.research.google.com/notebooks/data_table.ipynb>data table notebook</a>'\n",
              "          + ' to learn more about interactive tables.';\n",
              "        element.innerHTML = '';\n",
              "        dataTable['output_type'] = 'display_data';\n",
              "        await google.colab.output.renderOutput(dataTable, element);\n",
              "        const docLink = document.createElement('div');\n",
              "        docLink.innerHTML = docLinkHtml;\n",
              "        element.appendChild(docLink);\n",
              "      }\n",
              "    </script>\n",
              "  </div>\n",
              "\n",
              "\n",
              "<div id=\"df-9a899dd4-abb8-4b00-b04f-f732fa90749b\">\n",
              "  <button class=\"colab-df-quickchart\" onclick=\"quickchart('df-9a899dd4-abb8-4b00-b04f-f732fa90749b')\"\n",
              "            title=\"Suggest charts\"\n",
              "            style=\"display:none;\">\n",
              "\n",
              "<svg xmlns=\"http://www.w3.org/2000/svg\" height=\"24px\"viewBox=\"0 0 24 24\"\n",
              "     width=\"24px\">\n",
              "    <g>\n",
              "        <path d=\"M19 3H5c-1.1 0-2 .9-2 2v14c0 1.1.9 2 2 2h14c1.1 0 2-.9 2-2V5c0-1.1-.9-2-2-2zM9 17H7v-7h2v7zm4 0h-2V7h2v10zm4 0h-2v-4h2v4z\"/>\n",
              "    </g>\n",
              "</svg>\n",
              "  </button>\n",
              "\n",
              "<style>\n",
              "  .colab-df-quickchart {\n",
              "      --bg-color: #E8F0FE;\n",
              "      --fill-color: #1967D2;\n",
              "      --hover-bg-color: #E2EBFA;\n",
              "      --hover-fill-color: #174EA6;\n",
              "      --disabled-fill-color: #AAA;\n",
              "      --disabled-bg-color: #DDD;\n",
              "  }\n",
              "\n",
              "  [theme=dark] .colab-df-quickchart {\n",
              "      --bg-color: #3B4455;\n",
              "      --fill-color: #D2E3FC;\n",
              "      --hover-bg-color: #434B5C;\n",
              "      --hover-fill-color: #FFFFFF;\n",
              "      --disabled-bg-color: #3B4455;\n",
              "      --disabled-fill-color: #666;\n",
              "  }\n",
              "\n",
              "  .colab-df-quickchart {\n",
              "    background-color: var(--bg-color);\n",
              "    border: none;\n",
              "    border-radius: 50%;\n",
              "    cursor: pointer;\n",
              "    display: none;\n",
              "    fill: var(--fill-color);\n",
              "    height: 32px;\n",
              "    padding: 0;\n",
              "    width: 32px;\n",
              "  }\n",
              "\n",
              "  .colab-df-quickchart:hover {\n",
              "    background-color: var(--hover-bg-color);\n",
              "    box-shadow: 0 1px 2px rgba(60, 64, 67, 0.3), 0 1px 3px 1px rgba(60, 64, 67, 0.15);\n",
              "    fill: var(--button-hover-fill-color);\n",
              "  }\n",
              "\n",
              "  .colab-df-quickchart-complete:disabled,\n",
              "  .colab-df-quickchart-complete:disabled:hover {\n",
              "    background-color: var(--disabled-bg-color);\n",
              "    fill: var(--disabled-fill-color);\n",
              "    box-shadow: none;\n",
              "  }\n",
              "\n",
              "  .colab-df-spinner {\n",
              "    border: 2px solid var(--fill-color);\n",
              "    border-color: transparent;\n",
              "    border-bottom-color: var(--fill-color);\n",
              "    animation:\n",
              "      spin 1s steps(1) infinite;\n",
              "  }\n",
              "\n",
              "  @keyframes spin {\n",
              "    0% {\n",
              "      border-color: transparent;\n",
              "      border-bottom-color: var(--fill-color);\n",
              "      border-left-color: var(--fill-color);\n",
              "    }\n",
              "    20% {\n",
              "      border-color: transparent;\n",
              "      border-left-color: var(--fill-color);\n",
              "      border-top-color: var(--fill-color);\n",
              "    }\n",
              "    30% {\n",
              "      border-color: transparent;\n",
              "      border-left-color: var(--fill-color);\n",
              "      border-top-color: var(--fill-color);\n",
              "      border-right-color: var(--fill-color);\n",
              "    }\n",
              "    40% {\n",
              "      border-color: transparent;\n",
              "      border-right-color: var(--fill-color);\n",
              "      border-top-color: var(--fill-color);\n",
              "    }\n",
              "    60% {\n",
              "      border-color: transparent;\n",
              "      border-right-color: var(--fill-color);\n",
              "    }\n",
              "    80% {\n",
              "      border-color: transparent;\n",
              "      border-right-color: var(--fill-color);\n",
              "      border-bottom-color: var(--fill-color);\n",
              "    }\n",
              "    90% {\n",
              "      border-color: transparent;\n",
              "      border-bottom-color: var(--fill-color);\n",
              "    }\n",
              "  }\n",
              "</style>\n",
              "\n",
              "  <script>\n",
              "    async function quickchart(key) {\n",
              "      const quickchartButtonEl =\n",
              "        document.querySelector('#' + key + ' button');\n",
              "      quickchartButtonEl.disabled = true;  // To prevent multiple clicks.\n",
              "      quickchartButtonEl.classList.add('colab-df-spinner');\n",
              "      try {\n",
              "        const charts = await google.colab.kernel.invokeFunction(\n",
              "            'suggestCharts', [key], {});\n",
              "      } catch (error) {\n",
              "        console.error('Error during call to suggestCharts:', error);\n",
              "      }\n",
              "      quickchartButtonEl.classList.remove('colab-df-spinner');\n",
              "      quickchartButtonEl.classList.add('colab-df-quickchart-complete');\n",
              "    }\n",
              "    (() => {\n",
              "      let quickchartButtonEl =\n",
              "        document.querySelector('#df-9a899dd4-abb8-4b00-b04f-f732fa90749b button');\n",
              "      quickchartButtonEl.style.display =\n",
              "        google.colab.kernel.accessAllowed ? 'block' : 'none';\n",
              "    })();\n",
              "  </script>\n",
              "</div>\n",
              "\n",
              "    </div>\n",
              "  </div>\n"
            ]
          },
          "metadata": {},
          "execution_count": 4
        }
      ]
    },
    {
      "cell_type": "code",
      "source": [
        "course.head()"
      ],
      "metadata": {
        "colab": {
          "base_uri": "https://localhost:8080/",
          "height": 293
        },
        "id": "ccM3L4x5LaVk",
        "outputId": "36f3d072-0423-48d3-b005-64b74ebb2721"
      },
      "execution_count": null,
      "outputs": [
        {
          "output_type": "execute_result",
          "data": {
            "text/plain": [
              "  일련번호 주제    구분 내용구분         시기          코스 명  3T  NVC  육아정보 양육자Only  \\\n",
              "0    1    Basic  NaN  가입 직후/all           첫걸음   4    4     2     NaN   \n",
              "1    2    Basic   발달       ~24m  생애초기 (intro)   5    3     2     NaN   \n",
              "2    3    Basic   발달     22~27m           두돌    4    4     2     NaN   \n",
              "3    4    Basic   발달     34~39m           세돌    2    6     2     NaN   \n",
              "4    5    Basic   발달       45m~    네돌 (outro)   2    6     2     NaN   \n",
              "\n",
              "                         추천태그                            세부내용  기간\\n(week)  \n",
              "0                    입문,기초,필수                (3T/NVC기초) + 양육관           2  \n",
              "1         생애초기, 기초,언어자극,상호작용   언어자극과 두뇌발달, 아이들 발화 이전의 상호작용 방법           1  \n",
              "2  24개월, 두돌, 발달사항, 세살, 싫어, 왜요        두돌 발달사항 체크와 해당기간 상호작용 방법           1  \n",
              "3    36개월, 세돌, 발달사항, 미운네살, 싫어        세돌 발달사항 체크와 해당기간 상호작용 방법           1  \n",
              "4          48개월, 네돌, 발달사항, 졸업        네돌 발달사항 체크와 해당기간 상호작용 방법           1  "
            ],
            "text/html": [
              "\n",
              "  <div id=\"df-9d20866d-814a-4f64-970c-a5668b64e24e\" class=\"colab-df-container\">\n",
              "    <div>\n",
              "<style scoped>\n",
              "    .dataframe tbody tr th:only-of-type {\n",
              "        vertical-align: middle;\n",
              "    }\n",
              "\n",
              "    .dataframe tbody tr th {\n",
              "        vertical-align: top;\n",
              "    }\n",
              "\n",
              "    .dataframe thead th {\n",
              "        text-align: right;\n",
              "    }\n",
              "</style>\n",
              "<table border=\"1\" class=\"dataframe\">\n",
              "  <thead>\n",
              "    <tr style=\"text-align: right;\">\n",
              "      <th></th>\n",
              "      <th>일련번호</th>\n",
              "      <th>주제    구분</th>\n",
              "      <th>내용구분</th>\n",
              "      <th>시기</th>\n",
              "      <th>코스 명</th>\n",
              "      <th>3T</th>\n",
              "      <th>NVC</th>\n",
              "      <th>육아정보</th>\n",
              "      <th>양육자Only</th>\n",
              "      <th>추천태그</th>\n",
              "      <th>세부내용</th>\n",
              "      <th>기간\\n(week)</th>\n",
              "    </tr>\n",
              "  </thead>\n",
              "  <tbody>\n",
              "    <tr>\n",
              "      <th>0</th>\n",
              "      <td>1</td>\n",
              "      <td>Basic</td>\n",
              "      <td>NaN</td>\n",
              "      <td>가입 직후/all</td>\n",
              "      <td>첫걸음</td>\n",
              "      <td>4</td>\n",
              "      <td>4</td>\n",
              "      <td>2</td>\n",
              "      <td>NaN</td>\n",
              "      <td>입문,기초,필수</td>\n",
              "      <td>(3T/NVC기초) + 양육관</td>\n",
              "      <td>2</td>\n",
              "    </tr>\n",
              "    <tr>\n",
              "      <th>1</th>\n",
              "      <td>2</td>\n",
              "      <td>Basic</td>\n",
              "      <td>발달</td>\n",
              "      <td>~24m</td>\n",
              "      <td>생애초기 (intro)</td>\n",
              "      <td>5</td>\n",
              "      <td>3</td>\n",
              "      <td>2</td>\n",
              "      <td>NaN</td>\n",
              "      <td>생애초기, 기초,언어자극,상호작용</td>\n",
              "      <td>언어자극과 두뇌발달, 아이들 발화 이전의 상호작용 방법</td>\n",
              "      <td>1</td>\n",
              "    </tr>\n",
              "    <tr>\n",
              "      <th>2</th>\n",
              "      <td>3</td>\n",
              "      <td>Basic</td>\n",
              "      <td>발달</td>\n",
              "      <td>22~27m</td>\n",
              "      <td>두돌</td>\n",
              "      <td>4</td>\n",
              "      <td>4</td>\n",
              "      <td>2</td>\n",
              "      <td>NaN</td>\n",
              "      <td>24개월, 두돌, 발달사항, 세살, 싫어, 왜요</td>\n",
              "      <td>두돌 발달사항 체크와 해당기간 상호작용 방법</td>\n",
              "      <td>1</td>\n",
              "    </tr>\n",
              "    <tr>\n",
              "      <th>3</th>\n",
              "      <td>4</td>\n",
              "      <td>Basic</td>\n",
              "      <td>발달</td>\n",
              "      <td>34~39m</td>\n",
              "      <td>세돌</td>\n",
              "      <td>2</td>\n",
              "      <td>6</td>\n",
              "      <td>2</td>\n",
              "      <td>NaN</td>\n",
              "      <td>36개월, 세돌, 발달사항, 미운네살, 싫어</td>\n",
              "      <td>세돌 발달사항 체크와 해당기간 상호작용 방법</td>\n",
              "      <td>1</td>\n",
              "    </tr>\n",
              "    <tr>\n",
              "      <th>4</th>\n",
              "      <td>5</td>\n",
              "      <td>Basic</td>\n",
              "      <td>발달</td>\n",
              "      <td>45m~</td>\n",
              "      <td>네돌 (outro)</td>\n",
              "      <td>2</td>\n",
              "      <td>6</td>\n",
              "      <td>2</td>\n",
              "      <td>NaN</td>\n",
              "      <td>48개월, 네돌, 발달사항, 졸업</td>\n",
              "      <td>네돌 발달사항 체크와 해당기간 상호작용 방법</td>\n",
              "      <td>1</td>\n",
              "    </tr>\n",
              "  </tbody>\n",
              "</table>\n",
              "</div>\n",
              "    <div class=\"colab-df-buttons\">\n",
              "\n",
              "  <div class=\"colab-df-container\">\n",
              "    <button class=\"colab-df-convert\" onclick=\"convertToInteractive('df-9d20866d-814a-4f64-970c-a5668b64e24e')\"\n",
              "            title=\"Convert this dataframe to an interactive table.\"\n",
              "            style=\"display:none;\">\n",
              "\n",
              "  <svg xmlns=\"http://www.w3.org/2000/svg\" height=\"24px\" viewBox=\"0 -960 960 960\">\n",
              "    <path d=\"M120-120v-720h720v720H120Zm60-500h600v-160H180v160Zm220 220h160v-160H400v160Zm0 220h160v-160H400v160ZM180-400h160v-160H180v160Zm440 0h160v-160H620v160ZM180-180h160v-160H180v160Zm440 0h160v-160H620v160Z\"/>\n",
              "  </svg>\n",
              "    </button>\n",
              "\n",
              "  <style>\n",
              "    .colab-df-container {\n",
              "      display:flex;\n",
              "      gap: 12px;\n",
              "    }\n",
              "\n",
              "    .colab-df-convert {\n",
              "      background-color: #E8F0FE;\n",
              "      border: none;\n",
              "      border-radius: 50%;\n",
              "      cursor: pointer;\n",
              "      display: none;\n",
              "      fill: #1967D2;\n",
              "      height: 32px;\n",
              "      padding: 0 0 0 0;\n",
              "      width: 32px;\n",
              "    }\n",
              "\n",
              "    .colab-df-convert:hover {\n",
              "      background-color: #E2EBFA;\n",
              "      box-shadow: 0px 1px 2px rgba(60, 64, 67, 0.3), 0px 1px 3px 1px rgba(60, 64, 67, 0.15);\n",
              "      fill: #174EA6;\n",
              "    }\n",
              "\n",
              "    .colab-df-buttons div {\n",
              "      margin-bottom: 4px;\n",
              "    }\n",
              "\n",
              "    [theme=dark] .colab-df-convert {\n",
              "      background-color: #3B4455;\n",
              "      fill: #D2E3FC;\n",
              "    }\n",
              "\n",
              "    [theme=dark] .colab-df-convert:hover {\n",
              "      background-color: #434B5C;\n",
              "      box-shadow: 0px 1px 3px 1px rgba(0, 0, 0, 0.15);\n",
              "      filter: drop-shadow(0px 1px 2px rgba(0, 0, 0, 0.3));\n",
              "      fill: #FFFFFF;\n",
              "    }\n",
              "  </style>\n",
              "\n",
              "    <script>\n",
              "      const buttonEl =\n",
              "        document.querySelector('#df-9d20866d-814a-4f64-970c-a5668b64e24e button.colab-df-convert');\n",
              "      buttonEl.style.display =\n",
              "        google.colab.kernel.accessAllowed ? 'block' : 'none';\n",
              "\n",
              "      async function convertToInteractive(key) {\n",
              "        const element = document.querySelector('#df-9d20866d-814a-4f64-970c-a5668b64e24e');\n",
              "        const dataTable =\n",
              "          await google.colab.kernel.invokeFunction('convertToInteractive',\n",
              "                                                    [key], {});\n",
              "        if (!dataTable) return;\n",
              "\n",
              "        const docLinkHtml = 'Like what you see? Visit the ' +\n",
              "          '<a target=\"_blank\" href=https://colab.research.google.com/notebooks/data_table.ipynb>data table notebook</a>'\n",
              "          + ' to learn more about interactive tables.';\n",
              "        element.innerHTML = '';\n",
              "        dataTable['output_type'] = 'display_data';\n",
              "        await google.colab.output.renderOutput(dataTable, element);\n",
              "        const docLink = document.createElement('div');\n",
              "        docLink.innerHTML = docLinkHtml;\n",
              "        element.appendChild(docLink);\n",
              "      }\n",
              "    </script>\n",
              "  </div>\n",
              "\n",
              "\n",
              "<div id=\"df-b8088438-aebd-4912-8c62-d4a0a3ea2762\">\n",
              "  <button class=\"colab-df-quickchart\" onclick=\"quickchart('df-b8088438-aebd-4912-8c62-d4a0a3ea2762')\"\n",
              "            title=\"Suggest charts\"\n",
              "            style=\"display:none;\">\n",
              "\n",
              "<svg xmlns=\"http://www.w3.org/2000/svg\" height=\"24px\"viewBox=\"0 0 24 24\"\n",
              "     width=\"24px\">\n",
              "    <g>\n",
              "        <path d=\"M19 3H5c-1.1 0-2 .9-2 2v14c0 1.1.9 2 2 2h14c1.1 0 2-.9 2-2V5c0-1.1-.9-2-2-2zM9 17H7v-7h2v7zm4 0h-2V7h2v10zm4 0h-2v-4h2v4z\"/>\n",
              "    </g>\n",
              "</svg>\n",
              "  </button>\n",
              "\n",
              "<style>\n",
              "  .colab-df-quickchart {\n",
              "      --bg-color: #E8F0FE;\n",
              "      --fill-color: #1967D2;\n",
              "      --hover-bg-color: #E2EBFA;\n",
              "      --hover-fill-color: #174EA6;\n",
              "      --disabled-fill-color: #AAA;\n",
              "      --disabled-bg-color: #DDD;\n",
              "  }\n",
              "\n",
              "  [theme=dark] .colab-df-quickchart {\n",
              "      --bg-color: #3B4455;\n",
              "      --fill-color: #D2E3FC;\n",
              "      --hover-bg-color: #434B5C;\n",
              "      --hover-fill-color: #FFFFFF;\n",
              "      --disabled-bg-color: #3B4455;\n",
              "      --disabled-fill-color: #666;\n",
              "  }\n",
              "\n",
              "  .colab-df-quickchart {\n",
              "    background-color: var(--bg-color);\n",
              "    border: none;\n",
              "    border-radius: 50%;\n",
              "    cursor: pointer;\n",
              "    display: none;\n",
              "    fill: var(--fill-color);\n",
              "    height: 32px;\n",
              "    padding: 0;\n",
              "    width: 32px;\n",
              "  }\n",
              "\n",
              "  .colab-df-quickchart:hover {\n",
              "    background-color: var(--hover-bg-color);\n",
              "    box-shadow: 0 1px 2px rgba(60, 64, 67, 0.3), 0 1px 3px 1px rgba(60, 64, 67, 0.15);\n",
              "    fill: var(--button-hover-fill-color);\n",
              "  }\n",
              "\n",
              "  .colab-df-quickchart-complete:disabled,\n",
              "  .colab-df-quickchart-complete:disabled:hover {\n",
              "    background-color: var(--disabled-bg-color);\n",
              "    fill: var(--disabled-fill-color);\n",
              "    box-shadow: none;\n",
              "  }\n",
              "\n",
              "  .colab-df-spinner {\n",
              "    border: 2px solid var(--fill-color);\n",
              "    border-color: transparent;\n",
              "    border-bottom-color: var(--fill-color);\n",
              "    animation:\n",
              "      spin 1s steps(1) infinite;\n",
              "  }\n",
              "\n",
              "  @keyframes spin {\n",
              "    0% {\n",
              "      border-color: transparent;\n",
              "      border-bottom-color: var(--fill-color);\n",
              "      border-left-color: var(--fill-color);\n",
              "    }\n",
              "    20% {\n",
              "      border-color: transparent;\n",
              "      border-left-color: var(--fill-color);\n",
              "      border-top-color: var(--fill-color);\n",
              "    }\n",
              "    30% {\n",
              "      border-color: transparent;\n",
              "      border-left-color: var(--fill-color);\n",
              "      border-top-color: var(--fill-color);\n",
              "      border-right-color: var(--fill-color);\n",
              "    }\n",
              "    40% {\n",
              "      border-color: transparent;\n",
              "      border-right-color: var(--fill-color);\n",
              "      border-top-color: var(--fill-color);\n",
              "    }\n",
              "    60% {\n",
              "      border-color: transparent;\n",
              "      border-right-color: var(--fill-color);\n",
              "    }\n",
              "    80% {\n",
              "      border-color: transparent;\n",
              "      border-right-color: var(--fill-color);\n",
              "      border-bottom-color: var(--fill-color);\n",
              "    }\n",
              "    90% {\n",
              "      border-color: transparent;\n",
              "      border-bottom-color: var(--fill-color);\n",
              "    }\n",
              "  }\n",
              "</style>\n",
              "\n",
              "  <script>\n",
              "    async function quickchart(key) {\n",
              "      const quickchartButtonEl =\n",
              "        document.querySelector('#' + key + ' button');\n",
              "      quickchartButtonEl.disabled = true;  // To prevent multiple clicks.\n",
              "      quickchartButtonEl.classList.add('colab-df-spinner');\n",
              "      try {\n",
              "        const charts = await google.colab.kernel.invokeFunction(\n",
              "            'suggestCharts', [key], {});\n",
              "      } catch (error) {\n",
              "        console.error('Error during call to suggestCharts:', error);\n",
              "      }\n",
              "      quickchartButtonEl.classList.remove('colab-df-spinner');\n",
              "      quickchartButtonEl.classList.add('colab-df-quickchart-complete');\n",
              "    }\n",
              "    (() => {\n",
              "      let quickchartButtonEl =\n",
              "        document.querySelector('#df-b8088438-aebd-4912-8c62-d4a0a3ea2762 button');\n",
              "      quickchartButtonEl.style.display =\n",
              "        google.colab.kernel.accessAllowed ? 'block' : 'none';\n",
              "    })();\n",
              "  </script>\n",
              "</div>\n",
              "\n",
              "    </div>\n",
              "  </div>\n"
            ]
          },
          "metadata": {},
          "execution_count": 5
        }
      ]
    },
    {
      "cell_type": "markdown",
      "source": [
        "# 한글 글꼴 설치"
      ],
      "metadata": {
        "id": "5f7Ryf8MeIBw"
      }
    },
    {
      "cell_type": "code",
      "source": [
        "!sudo apt-get install -y fonts-nanum\n",
        "!sudo fc-cache -fv\n",
        "!rm ~/.cache/matplotlib -rf\n"
      ],
      "metadata": {
        "colab": {
          "base_uri": "https://localhost:8080/"
        },
        "id": "ccDnBsW4eIfK",
        "outputId": "ba42b32f-d185-4fc0-d6f6-96a754c130fc"
      },
      "execution_count": null,
      "outputs": [
        {
          "output_type": "stream",
          "name": "stdout",
          "text": [
            "Reading package lists... Done\n",
            "Building dependency tree... Done\n",
            "Reading state information... Done\n",
            "fonts-nanum is already the newest version (20200506-1).\n",
            "0 upgraded, 0 newly installed, 0 to remove and 31 not upgraded.\n",
            "/usr/share/fonts: caching, new cache contents: 0 fonts, 1 dirs\n",
            "/usr/share/fonts/truetype: caching, new cache contents: 0 fonts, 3 dirs\n",
            "/usr/share/fonts/truetype/humor-sans: caching, new cache contents: 1 fonts, 0 dirs\n",
            "/usr/share/fonts/truetype/liberation: caching, new cache contents: 16 fonts, 0 dirs\n",
            "/usr/share/fonts/truetype/nanum: caching, new cache contents: 12 fonts, 0 dirs\n",
            "/usr/local/share/fonts: caching, new cache contents: 0 fonts, 0 dirs\n",
            "/root/.local/share/fonts: skipping, no such directory\n",
            "/root/.fonts: skipping, no such directory\n",
            "/usr/share/fonts/truetype: skipping, looped directory detected\n",
            "/usr/share/fonts/truetype/humor-sans: skipping, looped directory detected\n",
            "/usr/share/fonts/truetype/liberation: skipping, looped directory detected\n",
            "/usr/share/fonts/truetype/nanum: skipping, looped directory detected\n",
            "/var/cache/fontconfig: cleaning cache directory\n",
            "/root/.cache/fontconfig: not cleaning non-existent cache directory\n",
            "/root/.fontconfig: not cleaning non-existent cache directory\n",
            "fc-cache: succeeded\n"
          ]
        }
      ]
    },
    {
      "cell_type": "code",
      "source": [
        "import matplotlib.pyplot as plt\n",
        "import matplotlib.font_manager as fm\n",
        "from matplotlib import rc\n",
        "\n",
        "plt.rc('font', family='NanumBarunGothic')\n",
        "plt.rcParams['axes.unicode_minus'] =False"
      ],
      "metadata": {
        "id": "XjJlKkmEeJcO"
      },
      "execution_count": null,
      "outputs": []
    },
    {
      "cell_type": "markdown",
      "source": [
        "# 데이터 확인"
      ],
      "metadata": {
        "id": "4C-2ZC_fJtx4"
      }
    },
    {
      "cell_type": "code",
      "source": [
        "cols_to_visualize = ['Age', 'Child_Age_Months', 'Number_of_Children','Gender','Parenting_Concerns']\n",
        "\n",
        "plt.figure(figsize=(30,10))\n",
        "for i, col in enumerate(cols_to_visualize):\n",
        "    plt.subplot(2,3,i+1)\n",
        "    sns.countplot(x=col, data=customer)\n",
        "    plt.xlabel(col)\n",
        "    plt.ylabel('Count')\n",
        "plt.tight_layout()\n",
        "plt.show()"
      ],
      "metadata": {
        "id": "K84A2v8zLffc",
        "colab": {
          "base_uri": "https://localhost:8080/",
          "height": 478
        },
        "outputId": "1b65ca1b-1ace-4f2c-8485-87e854619a22"
      },
      "execution_count": null,
      "outputs": [
        {
          "output_type": "display_data",
          "data": {
            "text/plain": [
              "<Figure size 3000x1000 with 5 Axes>"
            ],
            "image/png": "[encoded data removed]"
          },
          "metadata": {}
        }
      ]
    },
    {
      "cell_type": "code",
      "source": [
        "# 각 컬럼별 결측치 개수 확인\n",
        "missing_values = customer.isnull().sum()\n",
        "missing_values"
      ],
      "metadata": {
        "colab": {
          "base_uri": "https://localhost:8080/"
        },
        "id": "yoEhA4soR98R",
        "outputId": "330806a0-7fea-4a7f-b50b-d07dbec698a6"
      },
      "execution_count": null,
      "outputs": [
        {
          "output_type": "execute_result",
          "data": {
            "text/plain": [
              "Name                          0\n",
              "Age                           0\n",
              "Child_Age_Months              0\n",
              "Number_of_Children            0\n",
              "Gender                        0\n",
              "Child_1_Gender                0\n",
              "Child_2_Gender            35043\n",
              "Child_3_Gender            47526\n",
              "Parenting_Concerns            0\n",
              "Parenting_Stress_Level        0\n",
              "Parenting_Letter              0\n",
              "Child_1_Age_Months            0\n",
              "Child_2_Age_Months        35043\n",
              "Child_3_Age_Months        47526\n",
              "dtype: int64"
            ]
          },
          "metadata": {},
          "execution_count": 9
        }
      ]
    },
    {
      "cell_type": "code",
      "source": [
        "#결측치확인\n",
        "missing_data = customer.isnull().sum()\n",
        "\n",
        "# 시각화\n",
        "plt.figure(figsize= (15,5))\n",
        "sns.barplot(x=missing_data.index, y=missing_data.values)\n",
        "plt.xticks(rotation=90)\n",
        "plt.ylabel('Numver of missing values')\n",
        "plt.title('Number of missing values in each column')\n",
        "plt.show()"
      ],
      "metadata": {
        "colab": {
          "base_uri": "https://localhost:8080/",
          "height": 618
        },
        "id": "Pf7iXcZoSZBt",
        "outputId": "09de2933-4ac5-45f0-b325-220e03ecb075"
      },
      "execution_count": null,
      "outputs": [
        {
          "output_type": "display_data",
          "data": {
            "text/plain": [
              "<Figure size 1500x500 with 1 Axes>"
            ],
            "image/png": "[encoded data removed]"
          },
          "metadata": {}
        }
      ]
    },
    {
      "cell_type": "code",
      "source": [
        "# 주요 특성들 간 상관 관계 확인\n",
        "correlation_matrix = customer[['Age', 'Child_Age_Months', 'Number_of_Children','Gender','Parenting_Concerns']].corr()\n",
        "\n",
        "plt.figure(figsize=(10,10))\n",
        "sns.heatmap(correlation_matrix, annot=True, cmap='coolwarm', linewidths=0.5)\n",
        "plt.title('Correlation Matrix pf Features')\n",
        "\n",
        "plt.show()"
      ],
      "metadata": {
        "colab": {
          "base_uri": "https://localhost:8080/",
          "height": 908
        },
        "id": "vg6mrhaTS0FW",
        "outputId": "e84b0f14-0de8-4c97-a921-387204e873d1"
      },
      "execution_count": null,
      "outputs": [
        {
          "output_type": "stream",
          "name": "stderr",
          "text": [
            "<ipython-input-11-42b3a24bf699>:2: FutureWarning: The default value of numeric_only in DataFrame.corr is deprecated. In a future version, it will default to False. Select only valid columns or specify the value of numeric_only to silence this warning.\n",
            "  correlation_matrix = customer[['Age', 'Child_Age_Months', 'Number_of_Children','Gender','Parenting_Concerns']].corr()\n"
          ]
        },
        {
          "output_type": "display_data",
          "data": {
            "text/plain": [
              "<Figure size 1000x1000 with 2 Axes>"
            ],
            "image/png": "[encoded data removed]"
          },
          "metadata": {}
        }
      ]
    },
    {
      "cell_type": "markdown",
      "source": [
        "# 텍스트 전처리"
      ],
      "metadata": {
        "id": "_t532iVxJgKT"
      }
    },
    {
      "cell_type": "markdown",
      "source": [
        "## 데이터셋 내 중복 제거"
      ],
      "metadata": {
        "id": "cb4QvDWIJmJH"
      }
    },
    {
      "cell_type": "code",
      "source": [
        "customer_dup = customer.drop_duplicates(['Parenting_Concerns']).reset_index(drop=True)\n",
        "print(f'필터링된 데이터셋 총 개수 : {len(customer_dup)}')"
      ],
      "metadata": {
        "colab": {
          "base_uri": "https://localhost:8080/"
        },
        "id": "OYmrSuUaTTcF",
        "outputId": "be763981-15a5-419c-bee1-a8a96de41784"
      },
      "execution_count": null,
      "outputs": [
        {
          "output_type": "stream",
          "name": "stdout",
          "text": [
            "필터링된 데이터셋 총 개수 : 990\n"
          ]
        }
      ]
    },
    {
      "cell_type": "code",
      "source": [
        "# 길이가 너무 짧은 데이터 제거\n",
        "# 문장 내 길이가 너무 짧은 단어 제거\n",
        "customer['Parenting_Letter'] = customer['Parenting_Letter'].apply(lambda x: ' '.join([token for token in x.split() if len(token) > 2]))\n",
        "customer['Parenting_Letter']"
      ],
      "metadata": {
        "colab": {
          "base_uri": "https://localhost:8080/"
        },
        "id": "BY-ef6pZN7rZ",
        "outputId": "5758e446-9003-4898-cc8c-5fedff63b0c7"
      },
      "execution_count": null,
      "outputs": [
        {
          "output_type": "execute_result",
          "data": {
            "text/plain": [
              "0        육아에 고민을 나누고 씁니다, 30세의 엄마입니다. 양육의 어려움에 직면하고 있습니...\n",
              "1        안녕하세요, 34세의 엄마입니다. 지치고 막막함을 느끼고 있습니다. 고민은 아이가 ...\n",
              "2        안녕하세요, 34세의 아빠입니다. 이러한 상황이 우울하게 만듭니다. 고민은 아이의 ...\n",
              "3        도움을 구하고자 합니다. 36세의 엄마입니다. 양육의 어려움에 직면하고 있습니다. ...\n",
              "4        안녕하세요, 32세의 엄마입니다. 양육의 어려움에 직면하고 있습니다. 고민은 아이와...\n",
              "                               ...                        \n",
              "49995    안녕하세요, 32세의 엄마입니다. 이러한 상황이 우울하게 만듭니다. 고민은 연속된 ...\n",
              "49996    도움을 구하고자 합니다. 34세의 엄마입니다. 이러한 상황이 우울하게 만듭니다. 고...\n",
              "49997    안녕하세요, 36세의 엄마입니다. 지치고 막막함을 느끼고 있습니다. 고민은 아이가 ...\n",
              "49998    안녕하세요, 35세의 엄마입니다. 이러한 상황이 우울하게 만듭니다. 고민은 아이와의...\n",
              "49999    육아에 고민을 나누고 씁니다, 32세의 엄마입니다. 양육의 어려움에 직면하고 있습니...\n",
              "Name: Parenting_Letter, Length: 50000, dtype: object"
            ]
          },
          "metadata": {},
          "execution_count": 13
        }
      ]
    },
    {
      "cell_type": "code",
      "source": [
        "# 전체 길이가 10이하이거나 단어가 5개 이하인 데이터 제거\n",
        "customer = customer[customer.Parenting_Letter.apply(lambda x: len(str(x)) > 10 and len(str(x).split()) > 5)].reset_index(drop=True)\n",
        "customer"
      ],
      "metadata": {
        "colab": {
          "base_uri": "https://localhost:8080/",
          "height": 1000
        },
        "id": "47jvl_KoOxbE",
        "outputId": "03327d58-48c6-4c0e-e451-2b0f0f720062"
      },
      "execution_count": null,
      "outputs": [
        {
          "output_type": "execute_result",
          "data": {
            "text/plain": [
              "      Name  Age  Child_Age_Months  Number_of_Children  Gender Child_1_Gender  \\\n",
              "0      조서연   30                 3                   1  Female           Male   \n",
              "1      최하은   34                42                   1  Female         Female   \n",
              "2      이현우   34                27                   1    Male         Female   \n",
              "3      장예은   36                47                   2  Female         Female   \n",
              "4      최예은   32                22                   3  Female         Female   \n",
              "...    ...  ...               ...                 ...     ...            ...   \n",
              "49995  정혜진   32                37                   2  Female         Female   \n",
              "49996  최지은   34                20                   1  Female           Male   \n",
              "49997  최혜진   36                52                   2  Female           Male   \n",
              "49998  김하은   35                58                   1  Female           Male   \n",
              "49999  박수민   32                 8                   1  Female           Male   \n",
              "\n",
              "      Child_2_Gender Child_3_Gender          Parenting_Concerns  \\\n",
              "0                NaN            NaN       ['건강', '감정표현', '양육법']   \n",
              "1                NaN            NaN   ['수면', '부모역할', '양육 스트레스']   \n",
              "2                NaN            NaN   ['발달', '상호작용', '양육 스트레스']   \n",
              "3             Female            NaN   ['양육 스트레스', '수면', '감정표현']   \n",
              "4             Female           Male      ['관계', '감정표현', '부모역할']   \n",
              "...              ...            ...                         ...   \n",
              "49995           Male            NaN  ['양육 스트레스', '학습지도', '양육법']   \n",
              "49996            NaN            NaN       ['수면', '식습관', '상호작용']   \n",
              "49997           Male            NaN     ['건강', '양육 스트레스', '수면']   \n",
              "49998            NaN            NaN       ['양육법', '상호작용', '관계']   \n",
              "49999            NaN            NaN    ['수면', '양육 스트레스', '식습관']   \n",
              "\n",
              "       Parenting_Stress_Level  \\\n",
              "0                           5   \n",
              "1                           5   \n",
              "2                           4   \n",
              "3                           4   \n",
              "4                           1   \n",
              "...                       ...   \n",
              "49995                       4   \n",
              "49996                       5   \n",
              "49997                       5   \n",
              "49998                       3   \n",
              "49999                       3   \n",
              "\n",
              "                                        Parenting_Letter  Child_1_Age_Months  \\\n",
              "0      육아에 고민을 나누고 씁니다, 30세의 엄마입니다. 양육의 어려움에 직면하고 있습니...                   3   \n",
              "1      안녕하세요, 34세의 엄마입니다. 지치고 막막함을 느끼고 있습니다. 고민은 아이가 ...                  42   \n",
              "2      안녕하세요, 34세의 아빠입니다. 이러한 상황이 우울하게 만듭니다. 고민은 아이의 ...                  27   \n",
              "3      도움을 구하고자 합니다. 36세의 엄마입니다. 양육의 어려움에 직면하고 있습니다. ...                  67   \n",
              "4      안녕하세요, 32세의 엄마입니다. 양육의 어려움에 직면하고 있습니다. 고민은 아이와...                 120   \n",
              "...                                                  ...                 ...   \n",
              "49995  안녕하세요, 32세의 엄마입니다. 이러한 상황이 우울하게 만듭니다. 고민은 연속된 ...                  87   \n",
              "49996  도움을 구하고자 합니다. 34세의 엄마입니다. 이러한 상황이 우울하게 만듭니다. 고...                  20   \n",
              "49997  안녕하세요, 36세의 엄마입니다. 지치고 막막함을 느끼고 있습니다. 고민은 아이가 ...                 118   \n",
              "49998  안녕하세요, 35세의 엄마입니다. 이러한 상황이 우울하게 만듭니다. 고민은 아이와의...                  58   \n",
              "49999  육아에 고민을 나누고 씁니다, 32세의 엄마입니다. 양육의 어려움에 직면하고 있습니...                   8   \n",
              "\n",
              "       Child_2_Age_Months  Child_3_Age_Months  \n",
              "0                     NaN                 NaN  \n",
              "1                     NaN                 NaN  \n",
              "2                     NaN                 NaN  \n",
              "3                    47.0                 NaN  \n",
              "4                    72.0                22.0  \n",
              "...                   ...                 ...  \n",
              "49995                37.0                 NaN  \n",
              "49996                 NaN                 NaN  \n",
              "49997                52.0                 NaN  \n",
              "49998                 NaN                 NaN  \n",
              "49999                 NaN                 NaN  \n",
              "\n",
              "[50000 rows x 14 columns]"
            ],
            "text/html": [
              "\n",
              "  <div id=\"df-afd5dfba-9e2a-46ec-a1e3-e49197be8ecd\" class=\"colab-df-container\">\n",
              "    <div>\n",
              "<style scoped>\n",
              "    .dataframe tbody tr th:only-of-type {\n",
              "        vertical-align: middle;\n",
              "    }\n",
              "\n",
              "    .dataframe tbody tr th {\n",
              "        vertical-align: top;\n",
              "    }\n",
              "\n",
              "    .dataframe thead th {\n",
              "        text-align: right;\n",
              "    }\n",
              "</style>\n",
              "<table border=\"1\" class=\"dataframe\">\n",
              "  <thead>\n",
              "    <tr style=\"text-align: right;\">\n",
              "      <th></th>\n",
              "      <th>Name</th>\n",
              "      <th>Age</th>\n",
              "      <th>Child_Age_Months</th>\n",
              "      <th>Number_of_Children</th>\n",
              "      <th>Gender</th>\n",
              "      <th>Child_1_Gender</th>\n",
              "      <th>Child_2_Gender</th>\n",
              "      <th>Child_3_Gender</th>\n",
              "      <th>Parenting_Concerns</th>\n",
              "      <th>Parenting_Stress_Level</th>\n",
              "      <th>Parenting_Letter</th>\n",
              "      <th>Child_1_Age_Months</th>\n",
              "      <th>Child_2_Age_Months</th>\n",
              "      <th>Child_3_Age_Months</th>\n",
              "    </tr>\n",
              "  </thead>\n",
              "  <tbody>\n",
              "    <tr>\n",
              "      <th>0</th>\n",
              "      <td>조서연</td>\n",
              "      <td>30</td>\n",
              "      <td>3</td>\n",
              "      <td>1</td>\n",
              "      <td>Female</td>\n",
              "      <td>Male</td>\n",
              "      <td>NaN</td>\n",
              "      <td>NaN</td>\n",
              "      <td>['건강', '감정표현', '양육법']</td>\n",
              "      <td>5</td>\n",
              "      <td>육아에 고민을 나누고 씁니다, 30세의 엄마입니다. 양육의 어려움에 직면하고 있습니...</td>\n",
              "      <td>3</td>\n",
              "      <td>NaN</td>\n",
              "      <td>NaN</td>\n",
              "    </tr>\n",
              "    <tr>\n",
              "      <th>1</th>\n",
              "      <td>최하은</td>\n",
              "      <td>34</td>\n",
              "      <td>42</td>\n",
              "      <td>1</td>\n",
              "      <td>Female</td>\n",
              "      <td>Female</td>\n",
              "      <td>NaN</td>\n",
              "      <td>NaN</td>\n",
              "      <td>['수면', '부모역할', '양육 스트레스']</td>\n",
              "      <td>5</td>\n",
              "      <td>안녕하세요, 34세의 엄마입니다. 지치고 막막함을 느끼고 있습니다. 고민은 아이가 ...</td>\n",
              "      <td>42</td>\n",
              "      <td>NaN</td>\n",
              "      <td>NaN</td>\n",
              "    </tr>\n",
              "    <tr>\n",
              "      <th>2</th>\n",
              "      <td>이현우</td>\n",
              "      <td>34</td>\n",
              "      <td>27</td>\n",
              "      <td>1</td>\n",
              "      <td>Male</td>\n",
              "      <td>Female</td>\n",
              "      <td>NaN</td>\n",
              "      <td>NaN</td>\n",
              "      <td>['발달', '상호작용', '양육 스트레스']</td>\n",
              "      <td>4</td>\n",
              "      <td>안녕하세요, 34세의 아빠입니다. 이러한 상황이 우울하게 만듭니다. 고민은 아이의 ...</td>\n",
              "      <td>27</td>\n",
              "      <td>NaN</td>\n",
              "      <td>NaN</td>\n",
              "    </tr>\n",
              "    <tr>\n",
              "      <th>3</th>\n",
              "      <td>장예은</td>\n",
              "      <td>36</td>\n",
              "      <td>47</td>\n",
              "      <td>2</td>\n",
              "      <td>Female</td>\n",
              "      <td>Female</td>\n",
              "      <td>Female</td>\n",
              "      <td>NaN</td>\n",
              "      <td>['양육 스트레스', '수면', '감정표현']</td>\n",
              "      <td>4</td>\n",
              "      <td>도움을 구하고자 합니다. 36세의 엄마입니다. 양육의 어려움에 직면하고 있습니다. ...</td>\n",
              "      <td>67</td>\n",
              "      <td>47.0</td>\n",
              "      <td>NaN</td>\n",
              "    </tr>\n",
              "    <tr>\n",
              "      <th>4</th>\n",
              "      <td>최예은</td>\n",
              "      <td>32</td>\n",
              "      <td>22</td>\n",
              "      <td>3</td>\n",
              "      <td>Female</td>\n",
              "      <td>Female</td>\n",
              "      <td>Female</td>\n",
              "      <td>Male</td>\n",
              "      <td>['관계', '감정표현', '부모역할']</td>\n",
              "      <td>1</td>\n",
              "      <td>안녕하세요, 32세의 엄마입니다. 양육의 어려움에 직면하고 있습니다. 고민은 아이와...</td>\n",
              "      <td>120</td>\n",
              "      <td>72.0</td>\n",
              "      <td>22.0</td>\n",
              "    </tr>\n",
              "    <tr>\n",
              "      <th>...</th>\n",
              "      <td>...</td>\n",
              "      <td>...</td>\n",
              "      <td>...</td>\n",
              "      <td>...</td>\n",
              "      <td>...</td>\n",
              "      <td>...</td>\n",
              "      <td>...</td>\n",
              "      <td>...</td>\n",
              "      <td>...</td>\n",
              "      <td>...</td>\n",
              "      <td>...</td>\n",
              "      <td>...</td>\n",
              "      <td>...</td>\n",
              "      <td>...</td>\n",
              "    </tr>\n",
              "    <tr>\n",
              "      <th>49995</th>\n",
              "      <td>정혜진</td>\n",
              "      <td>32</td>\n",
              "      <td>37</td>\n",
              "      <td>2</td>\n",
              "      <td>Female</td>\n",
              "      <td>Female</td>\n",
              "      <td>Male</td>\n",
              "      <td>NaN</td>\n",
              "      <td>['양육 스트레스', '학습지도', '양육법']</td>\n",
              "      <td>4</td>\n",
              "      <td>안녕하세요, 32세의 엄마입니다. 이러한 상황이 우울하게 만듭니다. 고민은 연속된 ...</td>\n",
              "      <td>87</td>\n",
              "      <td>37.0</td>\n",
              "      <td>NaN</td>\n",
              "    </tr>\n",
              "    <tr>\n",
              "      <th>49996</th>\n",
              "      <td>최지은</td>\n",
              "      <td>34</td>\n",
              "      <td>20</td>\n",
              "      <td>1</td>\n",
              "      <td>Female</td>\n",
              "      <td>Male</td>\n",
              "      <td>NaN</td>\n",
              "      <td>NaN</td>\n",
              "      <td>['수면', '식습관', '상호작용']</td>\n",
              "      <td>5</td>\n",
              "      <td>도움을 구하고자 합니다. 34세의 엄마입니다. 이러한 상황이 우울하게 만듭니다. 고...</td>\n",
              "      <td>20</td>\n",
              "      <td>NaN</td>\n",
              "      <td>NaN</td>\n",
              "    </tr>\n",
              "    <tr>\n",
              "      <th>49997</th>\n",
              "      <td>최혜진</td>\n",
              "      <td>36</td>\n",
              "      <td>52</td>\n",
              "      <td>2</td>\n",
              "      <td>Female</td>\n",
              "      <td>Male</td>\n",
              "      <td>Male</td>\n",
              "      <td>NaN</td>\n",
              "      <td>['건강', '양육 스트레스', '수면']</td>\n",
              "      <td>5</td>\n",
              "      <td>안녕하세요, 36세의 엄마입니다. 지치고 막막함을 느끼고 있습니다. 고민은 아이가 ...</td>\n",
              "      <td>118</td>\n",
              "      <td>52.0</td>\n",
              "      <td>NaN</td>\n",
              "    </tr>\n",
              "    <tr>\n",
              "      <th>49998</th>\n",
              "      <td>김하은</td>\n",
              "      <td>35</td>\n",
              "      <td>58</td>\n",
              "      <td>1</td>\n",
              "      <td>Female</td>\n",
              "      <td>Male</td>\n",
              "      <td>NaN</td>\n",
              "      <td>NaN</td>\n",
              "      <td>['양육법', '상호작용', '관계']</td>\n",
              "      <td>3</td>\n",
              "      <td>안녕하세요, 35세의 엄마입니다. 이러한 상황이 우울하게 만듭니다. 고민은 아이와의...</td>\n",
              "      <td>58</td>\n",
              "      <td>NaN</td>\n",
              "      <td>NaN</td>\n",
              "    </tr>\n",
              "    <tr>\n",
              "      <th>49999</th>\n",
              "      <td>박수민</td>\n",
              "      <td>32</td>\n",
              "      <td>8</td>\n",
              "      <td>1</td>\n",
              "      <td>Female</td>\n",
              "      <td>Male</td>\n",
              "      <td>NaN</td>\n",
              "      <td>NaN</td>\n",
              "      <td>['수면', '양육 스트레스', '식습관']</td>\n",
              "      <td>3</td>\n",
              "      <td>육아에 고민을 나누고 씁니다, 32세의 엄마입니다. 양육의 어려움에 직면하고 있습니...</td>\n",
              "      <td>8</td>\n",
              "      <td>NaN</td>\n",
              "      <td>NaN</td>\n",
              "    </tr>\n",
              "  </tbody>\n",
              "</table>\n",
              "<p>50000 rows × 14 columns</p>\n",
              "</div>\n",
              "    <div class=\"colab-df-buttons\">\n",
              "\n",
              "  <div class=\"colab-df-container\">\n",
              "    <button class=\"colab-df-convert\" onclick=\"convertToInteractive('df-afd5dfba-9e2a-46ec-a1e3-e49197be8ecd')\"\n",
              "            title=\"Convert this dataframe to an interactive table.\"\n",
              "            style=\"display:none;\">\n",
              "\n",
              "  <svg xmlns=\"http://www.w3.org/2000/svg\" height=\"24px\" viewBox=\"0 -960 960 960\">\n",
              "    <path d=\"M120-120v-720h720v720H120Zm60-500h600v-160H180v160Zm220 220h160v-160H400v160Zm0 220h160v-160H400v160ZM180-400h160v-160H180v160Zm440 0h160v-160H620v160ZM180-180h160v-160H180v160Zm440 0h160v-160H620v160Z\"/>\n",
              "  </svg>\n",
              "    </button>\n",
              "\n",
              "  <style>\n",
              "    .colab-df-container {\n",
              "      display:flex;\n",
              "      gap: 12px;\n",
              "    }\n",
              "\n",
              "    .colab-df-convert {\n",
              "      background-color: #E8F0FE;\n",
              "      border: none;\n",
              "      border-radius: 50%;\n",
              "      cursor: pointer;\n",
              "      display: none;\n",
              "      fill: #1967D2;\n",
              "      height: 32px;\n",
              "      padding: 0 0 0 0;\n",
              "      width: 32px;\n",
              "    }\n",
              "\n",
              "    .colab-df-convert:hover {\n",
              "      background-color: #E2EBFA;\n",
              "      box-shadow: 0px 1px 2px rgba(60, 64, 67, 0.3), 0px 1px 3px 1px rgba(60, 64, 67, 0.15);\n",
              "      fill: #174EA6;\n",
              "    }\n",
              "\n",
              "    .colab-df-buttons div {\n",
              "      margin-bottom: 4px;\n",
              "    }\n",
              "\n",
              "    [theme=dark] .colab-df-convert {\n",
              "      background-color: #3B4455;\n",
              "      fill: #D2E3FC;\n",
              "    }\n",
              "\n",
              "    [theme=dark] .colab-df-convert:hover {\n",
              "      background-color: #434B5C;\n",
              "      box-shadow: 0px 1px 3px 1px rgba(0, 0, 0, 0.15);\n",
              "      filter: drop-shadow(0px 1px 2px rgba(0, 0, 0, 0.3));\n",
              "      fill: #FFFFFF;\n",
              "    }\n",
              "  </style>\n",
              "\n",
              "    <script>\n",
              "      const buttonEl =\n",
              "        document.querySelector('#df-afd5dfba-9e2a-46ec-a1e3-e49197be8ecd button.colab-df-convert');\n",
              "      buttonEl.style.display =\n",
              "        google.colab.kernel.accessAllowed ? 'block' : 'none';\n",
              "\n",
              "      async function convertToInteractive(key) {\n",
              "        const element = document.querySelector('#df-afd5dfba-9e2a-46ec-a1e3-e49197be8ecd');\n",
              "        const dataTable =\n",
              "          await google.colab.kernel.invokeFunction('convertToInteractive',\n",
              "                                                    [key], {});\n",
              "        if (!dataTable) return;\n",
              "\n",
              "        const docLinkHtml = 'Like what you see? Visit the ' +\n",
              "          '<a target=\"_blank\" href=https://colab.research.google.com/notebooks/data_table.ipynb>data table notebook</a>'\n",
              "          + ' to learn more about interactive tables.';\n",
              "        element.innerHTML = '';\n",
              "        dataTable['output_type'] = 'display_data';\n",
              "        await google.colab.output.renderOutput(dataTable, element);\n",
              "        const docLink = document.createElement('div');\n",
              "        docLink.innerHTML = docLinkHtml;\n",
              "        element.appendChild(docLink);\n",
              "      }\n",
              "    </script>\n",
              "  </div>\n",
              "\n",
              "\n",
              "<div id=\"df-cd4b117f-2122-4071-90e9-e97def0bcf30\">\n",
              "  <button class=\"colab-df-quickchart\" onclick=\"quickchart('df-cd4b117f-2122-4071-90e9-e97def0bcf30')\"\n",
              "            title=\"Suggest charts\"\n",
              "            style=\"display:none;\">\n",
              "\n",
              "<svg xmlns=\"http://www.w3.org/2000/svg\" height=\"24px\"viewBox=\"0 0 24 24\"\n",
              "     width=\"24px\">\n",
              "    <g>\n",
              "        <path d=\"M19 3H5c-1.1 0-2 .9-2 2v14c0 1.1.9 2 2 2h14c1.1 0 2-.9 2-2V5c0-1.1-.9-2-2-2zM9 17H7v-7h2v7zm4 0h-2V7h2v10zm4 0h-2v-4h2v4z\"/>\n",
              "    </g>\n",
              "</svg>\n",
              "  </button>\n",
              "\n",
              "<style>\n",
              "  .colab-df-quickchart {\n",
              "      --bg-color: #E8F0FE;\n",
              "      --fill-color: #1967D2;\n",
              "      --hover-bg-color: #E2EBFA;\n",
              "      --hover-fill-color: #174EA6;\n",
              "      --disabled-fill-color: #AAA;\n",
              "      --disabled-bg-color: #DDD;\n",
              "  }\n",
              "\n",
              "  [theme=dark] .colab-df-quickchart {\n",
              "      --bg-color: #3B4455;\n",
              "      --fill-color: #D2E3FC;\n",
              "      --hover-bg-color: #434B5C;\n",
              "      --hover-fill-color: #FFFFFF;\n",
              "      --disabled-bg-color: #3B4455;\n",
              "      --disabled-fill-color: #666;\n",
              "  }\n",
              "\n",
              "  .colab-df-quickchart {\n",
              "    background-color: var(--bg-color);\n",
              "    border: none;\n",
              "    border-radius: 50%;\n",
              "    cursor: pointer;\n",
              "    display: none;\n",
              "    fill: var(--fill-color);\n",
              "    height: 32px;\n",
              "    padding: 0;\n",
              "    width: 32px;\n",
              "  }\n",
              "\n",
              "  .colab-df-quickchart:hover {\n",
              "    background-color: var(--hover-bg-color);\n",
              "    box-shadow: 0 1px 2px rgba(60, 64, 67, 0.3), 0 1px 3px 1px rgba(60, 64, 67, 0.15);\n",
              "    fill: var(--button-hover-fill-color);\n",
              "  }\n",
              "\n",
              "  .colab-df-quickchart-complete:disabled,\n",
              "  .colab-df-quickchart-complete:disabled:hover {\n",
              "    background-color: var(--disabled-bg-color);\n",
              "    fill: var(--disabled-fill-color);\n",
              "    box-shadow: none;\n",
              "  }\n",
              "\n",
              "  .colab-df-spinner {\n",
              "    border: 2px solid var(--fill-color);\n",
              "    border-color: transparent;\n",
              "    border-bottom-color: var(--fill-color);\n",
              "    animation:\n",
              "      spin 1s steps(1) infinite;\n",
              "  }\n",
              "\n",
              "  @keyframes spin {\n",
              "    0% {\n",
              "      border-color: transparent;\n",
              "      border-bottom-color: var(--fill-color);\n",
              "      border-left-color: var(--fill-color);\n",
              "    }\n",
              "    20% {\n",
              "      border-color: transparent;\n",
              "      border-left-color: var(--fill-color);\n",
              "      border-top-color: var(--fill-color);\n",
              "    }\n",
              "    30% {\n",
              "      border-color: transparent;\n",
              "      border-left-color: var(--fill-color);\n",
              "      border-top-color: var(--fill-color);\n",
              "      border-right-color: var(--fill-color);\n",
              "    }\n",
              "    40% {\n",
              "      border-color: transparent;\n",
              "      border-right-color: var(--fill-color);\n",
              "      border-top-color: var(--fill-color);\n",
              "    }\n",
              "    60% {\n",
              "      border-color: transparent;\n",
              "      border-right-color: var(--fill-color);\n",
              "    }\n",
              "    80% {\n",
              "      border-color: transparent;\n",
              "      border-right-color: var(--fill-color);\n",
              "      border-bottom-color: var(--fill-color);\n",
              "    }\n",
              "    90% {\n",
              "      border-color: transparent;\n",
              "      border-bottom-color: var(--fill-color);\n",
              "    }\n",
              "  }\n",
              "</style>\n",
              "\n",
              "  <script>\n",
              "    async function quickchart(key) {\n",
              "      const quickchartButtonEl =\n",
              "        document.querySelector('#' + key + ' button');\n",
              "      quickchartButtonEl.disabled = true;  // To prevent multiple clicks.\n",
              "      quickchartButtonEl.classList.add('colab-df-spinner');\n",
              "      try {\n",
              "        const charts = await google.colab.kernel.invokeFunction(\n",
              "            'suggestCharts', [key], {});\n",
              "      } catch (error) {\n",
              "        console.error('Error during call to suggestCharts:', error);\n",
              "      }\n",
              "      quickchartButtonEl.classList.remove('colab-df-spinner');\n",
              "      quickchartButtonEl.classList.add('colab-df-quickchart-complete');\n",
              "    }\n",
              "    (() => {\n",
              "      let quickchartButtonEl =\n",
              "        document.querySelector('#df-cd4b117f-2122-4071-90e9-e97def0bcf30 button');\n",
              "      quickchartButtonEl.style.display =\n",
              "        google.colab.kernel.accessAllowed ? 'block' : 'none';\n",
              "    })();\n",
              "  </script>\n",
              "</div>\n",
              "\n",
              "  <div id=\"id_b4856be4-3726-4931-9947-97af699005e4\">\n",
              "    <style>\n",
              "      .colab-df-generate {\n",
              "        background-color: #E8F0FE;\n",
              "        border: none;\n",
              "        border-radius: 50%;\n",
              "        cursor: pointer;\n",
              "        display: none;\n",
              "        fill: #1967D2;\n",
              "        height: 32px;\n",
              "        padding: 0 0 0 0;\n",
              "        width: 32px;\n",
              "      }\n",
              "\n",
              "      .colab-df-generate:hover {\n",
              "        background-color: #E2EBFA;\n",
              "        box-shadow: 0px 1px 2px rgba(60, 64, 67, 0.3), 0px 1px 3px 1px rgba(60, 64, 67, 0.15);\n",
              "        fill: #174EA6;\n",
              "      }\n",
              "\n",
              "      [theme=dark] .colab-df-generate {\n",
              "        background-color: #3B4455;\n",
              "        fill: #D2E3FC;\n",
              "      }\n",
              "\n",
              "      [theme=dark] .colab-df-generate:hover {\n",
              "        background-color: #434B5C;\n",
              "        box-shadow: 0px 1px 3px 1px rgba(0, 0, 0, 0.15);\n",
              "        filter: drop-shadow(0px 1px 2px rgba(0, 0, 0, 0.3));\n",
              "        fill: #FFFFFF;\n",
              "      }\n",
              "    </style>\n",
              "    <button class=\"colab-df-generate\" onclick=\"generateWithVariable('customer')\"\n",
              "            title=\"Generate code using this dataframe.\"\n",
              "            style=\"display:none;\">\n",
              "\n",
              "  <svg xmlns=\"http://www.w3.org/2000/svg\" height=\"24px\"viewBox=\"0 0 24 24\"\n",
              "       width=\"24px\">\n",
              "    <path d=\"M7,19H8.4L18.45,9,17,7.55,7,17.6ZM5,21V16.75L18.45,3.32a2,2,0,0,1,2.83,0l1.4,1.43a1.91,1.91,0,0,1,.58,1.4,1.91,1.91,0,0,1-.58,1.4L9.25,21ZM18.45,9,17,7.55Zm-12,3A5.31,5.31,0,0,0,4.9,8.1,5.31,5.31,0,0,0,1,6.5,5.31,5.31,0,0,0,4.9,4.9,5.31,5.31,0,0,0,6.5,1,5.31,5.31,0,0,0,8.1,4.9,5.31,5.31,0,0,0,12,6.5,5.46,5.46,0,0,0,6.5,12Z\"/>\n",
              "  </svg>\n",
              "    </button>\n",
              "    <script>\n",
              "      (() => {\n",
              "      const buttonEl =\n",
              "        document.querySelector('#id_b4856be4-3726-4931-9947-97af699005e4 button.colab-df-generate');\n",
              "      buttonEl.style.display =\n",
              "        google.colab.kernel.accessAllowed ? 'block' : 'none';\n",
              "\n",
              "      buttonEl.onclick = () => {\n",
              "        google.colab.notebook.generateWithVariable('customer');\n",
              "      }\n",
              "      })();\n",
              "    </script>\n",
              "  </div>\n",
              "\n",
              "    </div>\n",
              "  </div>\n"
            ]
          },
          "metadata": {},
          "execution_count": 14
        }
      ]
    },
    {
      "cell_type": "markdown",
      "source": [
        "## 한국어 불용어 제거"
      ],
      "metadata": {
        "id": "eAUhEnjPP3dQ"
      }
    },
    {
      "cell_type": "code",
      "source": [
        "!pip install konlpy"
      ],
      "metadata": {
        "colab": {
          "base_uri": "https://localhost:8080/"
        },
        "id": "OVuWQ6ROPhmD",
        "outputId": "e34e8b65-1dc6-4270-aa04-fbba30963d95"
      },
      "execution_count": null,
      "outputs": [
        {
          "output_type": "stream",
          "name": "stdout",
          "text": [
            "Requirement already satisfied: konlpy in /usr/local/lib/python3.10/dist-packages (0.6.0)\n",
            "Requirement already satisfied: JPype1>=0.7.0 in /usr/local/lib/python3.10/dist-packages (from konlpy) (1.5.0)\n",
            "Requirement already satisfied: lxml>=4.1.0 in /usr/local/lib/python3.10/dist-packages (from konlpy) (4.9.4)\n",
            "Requirement already satisfied: numpy>=1.6 in /usr/local/lib/python3.10/dist-packages (from konlpy) (1.23.5)\n",
            "Requirement already satisfied: packaging in /usr/local/lib/python3.10/dist-packages (from JPype1>=0.7.0->konlpy) (23.2)\n"
          ]
        }
      ]
    },
    {
      "cell_type": "code",
      "source": [
        "from konlpy.tag import Okt"
      ],
      "metadata": {
        "id": "j_C4tiiFP7z-"
      },
      "execution_count": null,
      "outputs": []
    },
    {
      "cell_type": "code",
      "source": [
        "# 불용어 정의\n",
        "stopwords = ['의','가','이','은','들','는','좀','잘','걍','과','도','를','으로','자','에','와','한','하다']"
      ],
      "metadata": {
        "id": "uzfFTfphP-02"
      },
      "execution_count": null,
      "outputs": []
    },
    {
      "cell_type": "code",
      "source": [
        "customer = list(customer['Parenting_Letter'])"
      ],
      "metadata": {
        "id": "BED26crMQDh7"
      },
      "execution_count": null,
      "outputs": []
    },
    {
      "cell_type": "code",
      "source": [
        "# 형태소 분석기 OKT를 사용한 토큰화 작업\n",
        "okt = Okt()\n",
        "\n",
        "tokenized_data = []\n",
        "\n",
        "for sentence in customer:\n",
        "    temp_X = okt.morphs(sentence, stem=True) # 토큰화\n",
        "    temp_X = [word for word in temp_X if not word in stopwords] # 불용어 제거\n",
        "    tokenized_data.append(temp_X)"
      ],
      "metadata": {
        "id": "ajbBsDGdQGZg"
      },
      "execution_count": null,
      "outputs": []
    },
    {
      "cell_type": "code",
      "source": [
        "tokenized_data[0]"
      ],
      "metadata": {
        "colab": {
          "base_uri": "https://localhost:8080/"
        },
        "id": "DsCsgunWQfdg",
        "outputId": "2ea72f7f-f952-42a7-eef3-1b7a2bb93e4a"
      },
      "execution_count": null,
      "outputs": [
        {
          "output_type": "execute_result",
          "data": {
            "text/plain": [
              "['육아',\n",
              " '고민',\n",
              " '을',\n",
              " '나누다',\n",
              " '쓰다',\n",
              " ',',\n",
              " '30',\n",
              " '세',\n",
              " '엄마',\n",
              " '이다',\n",
              " '.',\n",
              " '양육',\n",
              " '어려움',\n",
              " '직면',\n",
              " '하고',\n",
              " '있다',\n",
              " '.',\n",
              " '고민',\n",
              " '아이',\n",
              " '아프다',\n",
              " '면역',\n",
              " '력',\n",
              " '보이다',\n",
              " ',',\n",
              " '방법',\n",
              " '을',\n",
              " '싶다',\n",
              " '.',\n",
              " '아이',\n",
              " '조절',\n",
              " '어려움',\n",
              " '을',\n",
              " '있다',\n",
              " ',',\n",
              " '어떻다',\n",
              " '지원',\n",
              " '모르다',\n",
              " '.',\n",
              " '조언',\n",
              " '을',\n",
              " '구합',\n",
              " '니',\n",
              " '다',\n",
              " '.']"
            ]
          },
          "metadata": {},
          "execution_count": 20
        }
      ]
    },
    {
      "cell_type": "markdown",
      "source": [
        "## 데이터 분포 확인"
      ],
      "metadata": {
        "id": "fG_ktGRRSN8w"
      }
    },
    {
      "cell_type": "code",
      "source": [
        "print('고민의 최대 길이 : ', max(len(concern) for concern in tokenized_data))\n",
        "print('고민의 평균 길이 : ', sum(map(len, tokenized_data))/len(tokenized_data))\n",
        "plt.hist([len(concern) for concern in tokenized_data], bins=20)\n",
        "plt.xlabel('length of samples')\n",
        "plt.ylabel('number of samples')\n",
        "plt.show()"
      ],
      "metadata": {
        "colab": {
          "base_uri": "https://localhost:8080/",
          "height": 488
        },
        "id": "oyEzo5O8R1Rh",
        "outputId": "34b47d2a-6a63-46a3-8b68-b23d6a3a47c1"
      },
      "execution_count": null,
      "outputs": [
        {
          "output_type": "stream",
          "name": "stdout",
          "text": [
            "고민의 최대 길이 :  60\n",
            "고민의 평균 길이 :  41.92374\n"
          ]
        },
        {
          "output_type": "display_data",
          "data": {
            "text/plain": [
              "<Figure size 640x480 with 1 Axes>"
            ],
            "image/png": "[encoded data removed]"
          },
          "metadata": {}
        }
      ]
    },
    {
      "cell_type": "markdown",
      "source": [
        "## 워드 임베딩 구축"
      ],
      "metadata": {
        "id": "lYnGojP3Sy2W"
      }
    },
    {
      "cell_type": "code",
      "source": [
        "from gensim.models import Word2Vec"
      ],
      "metadata": {
        "id": "cQMgOJPSSuIo"
      },
      "execution_count": null,
      "outputs": []
    },
    {
      "cell_type": "markdown",
      "source": [
        "* gensim에서 제공하는 Word2Vec 모듈을 사용하여 토큰화 된 고민 데이터를 학습한다."
      ],
      "metadata": {
        "id": "MWjppWLYUdNb"
      }
    },
    {
      "cell_type": "code",
      "source": [
        "embedding_dim = 100\n",
        "\n",
        "# \"100차원의 벡터로 모델을 초기화하고, 각 중심 단어 주변에서 앞뒤로 5개의 단어를 살펴보며 첫 번째 에포크의 학습을 수행합니다.\"\n",
        "\n",
        "model = Word2Vec(\n",
        "    sentences = tokenized_data,\n",
        "    vector_size=embedding_dim, # size 대신 vector_size로 변경\n",
        "    window=5,\n",
        "    min_count=5,\n",
        "    workers=4,\n",
        "    epochs=100, # iter 대신 epochs로 변경\n",
        "    sg=0)"
      ],
      "metadata": {
        "id": "rMvM5PXeS2TF"
      },
      "execution_count": null,
      "outputs": []
    },
    {
      "cell_type": "code",
      "source": [
        "# 학습이 완료되면 구축한 임베딩 핼렬의 크기 확인\n",
        "print(model.wv.vectors.shape)"
      ],
      "metadata": {
        "colab": {
          "base_uri": "https://localhost:8080/"
        },
        "id": "33GoUlJwTw_6",
        "outputId": "fe2f096f-89d1-432f-e94f-cd2155c3ed26"
      },
      "execution_count": null,
      "outputs": [
        {
          "output_type": "stream",
          "name": "stdout",
          "text": [
            "(95, 100)\n"
          ]
        }
      ]
    },
    {
      "cell_type": "markdown",
      "source": [
        "* 단어 사전에는 총 95개의 단어가 존재하며, 각각의 단어는 미리 설정한 embedding_dim=100 차원으로 구성되어 있음"
      ],
      "metadata": {
        "id": "D6xKyWu8T8rY"
      }
    },
    {
      "cell_type": "code",
      "source": [
        "word_vectors = model.wv\n",
        "vocabs = list(word_vectors.key_to_index.keys())\n"
      ],
      "metadata": {
        "id": "HV4Oz-wsTw8v"
      },
      "execution_count": null,
      "outputs": []
    },
    {
      "cell_type": "code",
      "source": [
        "vocabs[:100]"
      ],
      "metadata": {
        "colab": {
          "base_uri": "https://localhost:8080/"
        },
        "id": "hVKelzKmTw6P",
        "outputId": "359eb9c0-33f0-49f9-e94d-6a45d4c326b8"
      },
      "execution_count": null,
      "outputs": [
        {
          "output_type": "execute_result",
          "data": {
            "text/plain": [
              "['.',\n",
              " '을',\n",
              " ',',\n",
              " '아이',\n",
              " '고민',\n",
              " '싶다',\n",
              " '세',\n",
              " '이다',\n",
              " '있다',\n",
              " '엄마',\n",
              " '방법',\n",
              " '감사하다',\n",
              " '도움',\n",
              " '다',\n",
              " '하고',\n",
              " '어려움',\n",
              " '양육',\n",
              " '개선',\n",
              " '되다',\n",
              " '직면',\n",
              " '공유',\n",
              " '귀하',\n",
              " '경험',\n",
              " '해주다',\n",
              " '육아',\n",
              " '쓰다',\n",
              " '나누다',\n",
              " '구',\n",
              " '구합',\n",
              " '조언',\n",
              " '니',\n",
              " '상황',\n",
              " '만듭니',\n",
              " '우울하다',\n",
              " '이러하다',\n",
              " '느끼다',\n",
              " '지치다',\n",
              " '막막하다',\n",
              " '주시',\n",
              " '면',\n",
              " '안녕하다',\n",
              " '와의',\n",
              " '의사소통',\n",
              " '거부',\n",
              " '편식',\n",
              " '심하다',\n",
              " '식단',\n",
              " '상태',\n",
              " '걱정',\n",
              " '건강하다',\n",
              " '면역',\n",
              " '아프다',\n",
              " '보이다',\n",
              " '력',\n",
              " '단계',\n",
              " '평균',\n",
              " '보다',\n",
              " '같다',\n",
              " '발달',\n",
              " '패턴',\n",
              " '않다',\n",
              " '낮잠',\n",
              " '어떻다',\n",
              " '지원',\n",
              " '조절',\n",
              " '모르다',\n",
              " '없다',\n",
              " '책임',\n",
              " '스트레스',\n",
              " '로',\n",
              " '자신',\n",
              " '시간',\n",
              " '연속',\n",
              " '아빠',\n",
              " '34',\n",
              " '35',\n",
              " '33',\n",
              " '36',\n",
              " '32',\n",
              " '37',\n",
              " '38',\n",
              " '31',\n",
              " '39',\n",
              " '30',\n",
              " '29',\n",
              " '40',\n",
              " '25',\n",
              " '41',\n",
              " '28',\n",
              " '27',\n",
              " '42',\n",
              " '45',\n",
              " '26',\n",
              " '43',\n",
              " '44']"
            ]
          },
          "metadata": {},
          "execution_count": 26
        }
      ]
    },
    {
      "cell_type": "markdown",
      "source": [
        "* gensim 패키지에서 제공하는 most_similar 매소드를 사용하여, 원하는 단어와 유사한 단어들을 찾는다."
      ],
      "metadata": {
        "id": "BI_7Ps1BUWbn"
      }
    },
    {
      "cell_type": "code",
      "source": [
        "for sim_word in model.wv.most_similar('양육'):\n",
        "    print(sim_word)"
      ],
      "metadata": {
        "colab": {
          "base_uri": "https://localhost:8080/"
        },
        "id": "ESQGGs1KTJao",
        "outputId": "07d65f1f-9ed2-43f1-ea05-8cd04d62c7b8"
      },
      "execution_count": null,
      "outputs": [
        {
          "output_type": "stream",
          "name": "stdout",
          "text": [
            "('없다', 0.19514502584934235)\n",
            "('시간', 0.17946234345436096)\n",
            "('자신', 0.13434460759162903)\n",
            "('직면', 0.13385093212127686)\n",
            "('로', 0.11614400893449783)\n",
            "('어려움', 0.11066042631864548)\n",
            "('스트레스', 0.11000760644674301)\n",
            "('있다', 0.07296178489923477)\n",
            "('책임', 0.07255975902080536)\n",
            "('연속', 0.0664588138461113)\n"
          ]
        }
      ]
    },
    {
      "cell_type": "code",
      "source": [
        "for sim_word in model.wv.most_similar('스트레스'):\n",
        "    print(sim_word)"
      ],
      "metadata": {
        "colab": {
          "base_uri": "https://localhost:8080/"
        },
        "id": "DHrI_bsUUqkD",
        "outputId": "fdd1eda1-41ff-4c94-9ab2-e59751448a74"
      },
      "execution_count": null,
      "outputs": [
        {
          "output_type": "stream",
          "name": "stdout",
          "text": [
            "('자신', 0.21584004163742065)\n",
            "('로', 0.20057031512260437)\n",
            "('책임', 0.19607211649417877)\n",
            "('시간', 0.19394062459468842)\n",
            "('없다', 0.17567293345928192)\n",
            "('연속', 0.11738966405391693)\n",
            "('양육', 0.11000760644674301)\n",
            "('니', 0.09916620701551437)\n",
            "('되다', 0.08507025241851807)\n",
            "('조언', 0.08054154366254807)\n"
          ]
        }
      ]
    },
    {
      "cell_type": "code",
      "source": [
        "for sim_word in model.wv.most_similar('의사소통'):\n",
        "    print(sim_word)"
      ],
      "metadata": {
        "colab": {
          "base_uri": "https://localhost:8080/"
        },
        "id": "J-ml0TsDUwSo",
        "outputId": "d4fc6fc8-e40e-4bd5-ff7c-6a1765e51b08"
      },
      "execution_count": null,
      "outputs": [
        {
          "output_type": "stream",
          "name": "stdout",
          "text": [
            "('않다', 0.1670808643102646)\n",
            "('낮잠', 0.1608380377292633)\n",
            "('패턴', 0.14830660820007324)\n",
            "('니', 0.14670372009277344)\n",
            "('귀하', 0.14138905704021454)\n",
            "('구합', 0.1379382461309433)\n",
            "('조언', 0.13486208021640778)\n",
            "('해주다', 0.12110861390829086)\n",
            "('경험', 0.12002924829721451)\n",
            "('공유', 0.11190614104270935)\n"
          ]
        }
      ]
    },
    {
      "cell_type": "code",
      "source": [
        "for sim_word in model.wv.most_similar('경험'):\n",
        "    print(sim_word)"
      ],
      "metadata": {
        "colab": {
          "base_uri": "https://localhost:8080/"
        },
        "id": "1YVcd5AEUyiZ",
        "outputId": "7520a350-4678-48e0-d502-c07f8b746a11"
      },
      "execution_count": null,
      "outputs": [
        {
          "output_type": "stream",
          "name": "stdout",
          "text": [
            "('조언', 0.48104962706565857)\n",
            "('구합', 0.45111462473869324)\n",
            "('니', 0.4473641812801361)\n",
            "('해주다', 0.42652592062950134)\n",
            "('주시', 0.3797415494918823)\n",
            "('면', 0.3415846824645996)\n",
            "('싶다', 0.3256727457046509)\n",
            "('공유', 0.31451958417892456)\n",
            "('아이', 0.30502280592918396)\n",
            "('감사하다', 0.298409104347229)\n"
          ]
        }
      ]
    },
    {
      "cell_type": "markdown",
      "source": [
        "#워드 임베딩 시각화"
      ],
      "metadata": {
        "id": "lrtYFRR1VGLZ"
      }
    },
    {
      "cell_type": "markdown",
      "source": [
        "## PCA 사용"
      ],
      "metadata": {
        "id": "tEYJBR8qWV94"
      }
    },
    {
      "cell_type": "code",
      "source": [
        "from sklearn.decomposition import PCA"
      ],
      "metadata": {
        "id": "OsmhRotNU9_A"
      },
      "execution_count": null,
      "outputs": []
    },
    {
      "cell_type": "code",
      "source": [
        "word_vector_list = [word_vectors[word] for word in vocabs]"
      ],
      "metadata": {
        "id": "lSjpNhI0Wh34"
      },
      "execution_count": null,
      "outputs": []
    },
    {
      "cell_type": "code",
      "source": [
        "word_vector_list[0]"
      ],
      "metadata": {
        "id": "X6UvIXjzWlML",
        "colab": {
          "base_uri": "https://localhost:8080/"
        },
        "outputId": "b1d20544-3d83-4525-d95a-41d5e76aa82c"
      },
      "execution_count": null,
      "outputs": [
        {
          "output_type": "execute_result",
          "data": {
            "text/plain": [
              "array([ 0.52509505,  0.54802674, -0.57877946, -0.56804276, -1.1118574 ,\n",
              "       -1.3708233 , -0.04939412, -0.84115773, -0.05212611,  0.09159563,\n",
              "       -0.51841474,  0.59061074,  0.22375986,  1.042792  , -1.8648032 ,\n",
              "       -0.830503  ,  0.03316216, -0.60595655,  0.47042975, -0.37691483,\n",
              "       -1.5157536 ,  0.22273964,  0.25091767,  0.8097353 , -1.2985102 ,\n",
              "       -0.49957046,  0.02083556,  0.8985678 ,  0.8007164 ,  0.22197242,\n",
              "       -0.08366506,  1.2704196 , -0.39526686, -1.5236193 ,  0.518972  ,\n",
              "        0.7817321 , -0.20542751, -1.015343  ,  0.956405  ,  0.6227189 ,\n",
              "       -1.9719491 ,  0.20024025,  0.5699544 ,  0.1312252 , -0.22866958,\n",
              "       -0.22659263,  1.409068  ,  0.6601408 , -1.0834441 ,  0.8848432 ,\n",
              "        0.84011245, -0.00510832, -0.04123035, -1.3356737 , -1.5636814 ,\n",
              "        0.68934596, -0.7617885 ,  0.29557544, -1.050398  ,  0.29479903,\n",
              "       -0.7705566 , -0.95189893, -0.96950346,  1.1183931 , -0.6535844 ,\n",
              "        0.8871024 ,  0.37498108,  0.4379541 ,  1.5203506 , -1.1001415 ,\n",
              "       -0.5406827 ,  0.58221686,  0.19663985, -0.38639387,  0.17608888,\n",
              "       -0.208252  ,  0.09137762, -0.19424424,  0.38018572,  0.09861574,\n",
              "       -1.0429599 ,  1.1367866 ,  0.7229872 ,  0.7670797 ,  0.5146213 ,\n",
              "       -0.04395412, -0.43703791,  1.0126846 , -0.7270931 ,  0.0134149 ,\n",
              "        0.39662865,  0.35282415, -0.27460292,  0.01407193, -1.5859067 ,\n",
              "       -1.1665643 , -0.20988508,  0.28808263,  1.4263926 ,  1.5006142 ],\n",
              "      dtype=float32)"
            ]
          },
          "metadata": {},
          "execution_count": 33
        }
      ]
    },
    {
      "cell_type": "code",
      "source": [
        "pca = PCA(n_components=2)\n",
        "xys = pca.fit_transform(word_vector_list)\n",
        "\n",
        "x_asix = xys[:, 0]\n",
        "y_axis = xys[:, 1]"
      ],
      "metadata": {
        "id": "AZFhamSgWn7d"
      },
      "execution_count": null,
      "outputs": []
    },
    {
      "cell_type": "code",
      "source": [
        "! pip install adjustText"
      ],
      "metadata": {
        "id": "2XFsk94xrSGg",
        "outputId": "f0125f81-0177-40c7-d292-f86e457fd896",
        "colab": {
          "base_uri": "https://localhost:8080/"
        }
      },
      "execution_count": null,
      "outputs": [
        {
          "output_type": "stream",
          "name": "stdout",
          "text": [
            "Collecting adjustText\n",
            "  Downloading adjustText-1.0.4-py3-none-any.whl (11 kB)\n",
            "Requirement already satisfied: numpy in /usr/local/lib/python3.10/dist-packages (from adjustText) (1.23.5)\n",
            "Requirement already satisfied: matplotlib in /usr/local/lib/python3.10/dist-packages (from adjustText) (3.7.1)\n",
            "Requirement already satisfied: scipy in /usr/local/lib/python3.10/dist-packages (from adjustText) (1.11.4)\n",
            "Requirement already satisfied: contourpy>=1.0.1 in /usr/local/lib/python3.10/dist-packages (from matplotlib->adjustText) (1.2.0)\n",
            "Requirement already satisfied: cycler>=0.10 in /usr/local/lib/python3.10/dist-packages (from matplotlib->adjustText) (0.12.1)\n",
            "Requirement already satisfied: fonttools>=4.22.0 in /usr/local/lib/python3.10/dist-packages (from matplotlib->adjustText) (4.47.2)\n",
            "Requirement already satisfied: kiwisolver>=1.0.1 in /usr/local/lib/python3.10/dist-packages (from matplotlib->adjustText) (1.4.5)\n",
            "Requirement already satisfied: packaging>=20.0 in /usr/local/lib/python3.10/dist-packages (from matplotlib->adjustText) (23.2)\n",
            "Requirement already satisfied: pillow>=6.2.0 in /usr/local/lib/python3.10/dist-packages (from matplotlib->adjustText) (9.4.0)\n",
            "Requirement already satisfied: pyparsing>=2.3.1 in /usr/local/lib/python3.10/dist-packages (from matplotlib->adjustText) (3.1.1)\n",
            "Requirement already satisfied: python-dateutil>=2.7 in /usr/local/lib/python3.10/dist-packages (from matplotlib->adjustText) (2.8.2)\n",
            "Requirement already satisfied: six>=1.5 in /usr/local/lib/python3.10/dist-packages (from python-dateutil>=2.7->matplotlib->adjustText) (1.16.0)\n",
            "Installing collected packages: adjustText\n",
            "Successfully installed adjustText-1.0.4\n"
          ]
        }
      ]
    },
    {
      "cell_type": "code",
      "source": [
        "import matplotlib.pyplot as plt\n",
        "from adjustText import adjust_text"
      ],
      "metadata": {
        "id": "RsRYGsKHrREy"
      },
      "execution_count": null,
      "outputs": []
    },
    {
      "cell_type": "code",
      "source": [
        "def plot_pca_graph(vocabs, x_axis, y_axis):\n",
        "    plt.figure(figsize=(10, 10))\n",
        "    plt.scatter(x_axis, y_axis, marker='o')\n",
        "\n",
        "    texts = []\n",
        "    for i, v in enumerate(vocabs):\n",
        "        texts.append(plt.text(x_axis[i], y_axis[i], v))\n",
        "\n",
        "    adjust_text(texts)"
      ],
      "metadata": {
        "id": "Xa0kfWsUWyDA"
      },
      "execution_count": null,
      "outputs": []
    },
    {
      "cell_type": "code",
      "source": [
        "plot_pca_graph(vocabs, x_asix, y_axis)"
      ],
      "metadata": {
        "id": "TD7T1fRIW83d",
        "colab": {
          "base_uri": "https://localhost:8080/",
          "height": 830
        },
        "outputId": "ade9fd26-c475-40b9-beb8-734680c154e9"
      },
      "execution_count": null,
      "outputs": [
        {
          "output_type": "display_data",
          "data": {
            "text/plain": [
              "<Figure size 1000x1000 with 1 Axes>"
            ],
            "image/png": "[encoded data removed]"
          },
          "metadata": {}
        }
      ]
    },
    {
      "cell_type": "code",
      "source": [],
      "metadata": {
        "id": "fRqIx9S8W_mV"
      },
      "execution_count": null,
      "outputs": []
    }
  ]
}