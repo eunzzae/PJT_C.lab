{
  "nbformat": 4,
  "nbformat_minor": 0,
  "metadata": {
    "colab": {
      "provenance": [],
      "machine_shape": "hm",
      "gpuType": "V100",
      "mount_file_id": "1pa13MW1Jio9c1liN20ZnVkyIMQOs-or_",
      "authorship_tag": "ABX9TyPEI9qi5V2JhD6ifPvZMUeu",
      "include_colab_link": true
    },
    "kernelspec": {
      "name": "python3",
      "display_name": "Python 3"
    },
    "language_info": {
      "name": "python"
    },
    "accelerator": "GPU"
  },
  "cells": [
    {
      "cell_type": "markdown",
      "metadata": {
        "id": "view-in-github",
        "colab_type": "text"
      },
      "source": [
        "<a href=\"https://colab.research.google.com/github/eunzzae/PJT_C.lab/blob/main/240131_%EC%BB%A4%EB%84%A5%EC%B8%A0%EB%9E%A9_simple_EDA(2)_%EC%9B%8C%EB%93%9C_%EC%9E%84%EB%B2%A0%EB%94%A9.ipynb\" target=\"_parent\"><img src=\"https://colab.research.google.com/assets/colab-badge.svg\" alt=\"Open In Colab\"/></a>"
      ]
    },
    {
      "cell_type": "code",
      "execution_count": null,
      "metadata": {
        "id": "0bk3tLw0ImJt",
        "colab": {
          "base_uri": "https://localhost:8080/"
        },
        "outputId": "0f89cc49-d676-42c8-a38e-cd74954a4e98"
      },
      "outputs": [
        {
          "output_type": "stream",
          "name": "stdout",
          "text": [
            "Drive already mounted at /content/drive; to attempt to forcibly remount, call drive.mount(\"/content/drive\", force_remount=True).\n"
          ]
        }
      ],
      "source": [
        "from google.colab import drive\n",
        "drive.mount('/content/drive')"
      ]
    },
    {
      "cell_type": "code",
      "source": [
        "# 데이터분석 4종 세트\n",
        "import numpy as np\n",
        "import pandas as pd\n",
        "import matplotlib.pyplot as plt\n",
        "import seaborn as sns\n"
      ],
      "metadata": {
        "id": "q73cUtdsJgVn"
      },
      "execution_count": null,
      "outputs": []
    },
    {
      "cell_type": "code",
      "source": [
        "base_path = '/content/drive/MyDrive/Colab Notebooks/data/connects_lab/버전관리/'\n",
        "customer_df = pd.read_excel(base_path+'Data_1_Simulated_Customer_Data_50k.xlsx')\n",
        "course_df = pd.read_excel(base_path+'Data_2_TalkD_coursemap_v2.xlsx')"
      ],
      "metadata": {
        "id": "fjGbskSBJjJ2"
      },
      "execution_count": null,
      "outputs": []
    },
    {
      "cell_type": "code",
      "source": [
        "customer_df.head()"
      ],
      "metadata": {
        "colab": {
          "base_uri": "https://localhost:8080/",
          "height": 293
        },
        "id": "AJLXYfyuKJ2O",
        "outputId": "12d65c60-6bf9-4db1-a3cb-93d2d6b8f6a2"
      },
      "execution_count": null,
      "outputs": [
        {
          "output_type": "execute_result",
          "data": {
            "text/plain": [
              "  Name  Age  Child_Age_Months  Number_of_Children  Gender Child_1_Gender  \\\n",
              "0  조서연   30                 3                   1  Female           Male   \n",
              "1  최하은   34                42                   1  Female         Female   \n",
              "2  이현우   34                27                   1    Male         Female   \n",
              "3  장예은   36                47                   2  Female         Female   \n",
              "4  최예은   32                22                   3  Female         Female   \n",
              "\n",
              "  Child_2_Gender Child_3_Gender         Parenting_Concerns  \\\n",
              "0            NaN            NaN      ['건강', '감정표현', '양육법']   \n",
              "1            NaN            NaN  ['수면', '부모역할', '양육 스트레스']   \n",
              "2            NaN            NaN  ['발달', '상호작용', '양육 스트레스']   \n",
              "3         Female            NaN  ['양육 스트레스', '수면', '감정표현']   \n",
              "4         Female           Male     ['관계', '감정표현', '부모역할']   \n",
              "\n",
              "   Parenting_Stress_Level                                   Parenting_Letter  \\\n",
              "0                       5  육아에 대한 고민을 나누고 싶어 글을 씁니다, 저는 30세의 엄마입니다. 양육의 어...   \n",
              "1                       5  안녕하세요, 저는 34세의 엄마입니다. 지치고 막막함을 느끼고 있습니다. 제 육아 ...   \n",
              "2                       4  안녕하세요, 저는 34세의 아빠입니다. 이러한 상황이 저를 매우 우울하게 만듭니다....   \n",
              "3                       4  이 글을 통해 도움을 구하고자 합니다. 저는 36세의 엄마입니다. 양육의 어려움에 ...   \n",
              "4                       1  안녕하세요, 저는 32세의 엄마입니다. 양육의 어려움에 직면하고 있습니다. 제 육아...   \n",
              "\n",
              "   Child_1_Age_Months  Child_2_Age_Months  Child_3_Age_Months  \n",
              "0                   3                 NaN                 NaN  \n",
              "1                  42                 NaN                 NaN  \n",
              "2                  27                 NaN                 NaN  \n",
              "3                  67                47.0                 NaN  \n",
              "4                 120                72.0                22.0  "
            ],
            "text/html": [
              "\n",
              "  <div id=\"df-f33cc97f-db61-4466-b98c-becd71b5fe2b\" class=\"colab-df-container\">\n",
              "    <div>\n",
              "<style scoped>\n",
              "    .dataframe tbody tr th:only-of-type {\n",
              "        vertical-align: middle;\n",
              "    }\n",
              "\n",
              "    .dataframe tbody tr th {\n",
              "        vertical-align: top;\n",
              "    }\n",
              "\n",
              "    .dataframe thead th {\n",
              "        text-align: right;\n",
              "    }\n",
              "</style>\n",
              "<table border=\"1\" class=\"dataframe\">\n",
              "  <thead>\n",
              "    <tr style=\"text-align: right;\">\n",
              "      <th></th>\n",
              "      <th>Name</th>\n",
              "      <th>Age</th>\n",
              "      <th>Child_Age_Months</th>\n",
              "      <th>Number_of_Children</th>\n",
              "      <th>Gender</th>\n",
              "      <th>Child_1_Gender</th>\n",
              "      <th>Child_2_Gender</th>\n",
              "      <th>Child_3_Gender</th>\n",
              "      <th>Parenting_Concerns</th>\n",
              "      <th>Parenting_Stress_Level</th>\n",
              "      <th>Parenting_Letter</th>\n",
              "      <th>Child_1_Age_Months</th>\n",
              "      <th>Child_2_Age_Months</th>\n",
              "      <th>Child_3_Age_Months</th>\n",
              "    </tr>\n",
              "  </thead>\n",
              "  <tbody>\n",
              "    <tr>\n",
              "      <th>0</th>\n",
              "      <td>조서연</td>\n",
              "      <td>30</td>\n",
              "      <td>3</td>\n",
              "      <td>1</td>\n",
              "      <td>Female</td>\n",
              "      <td>Male</td>\n",
              "      <td>NaN</td>\n",
              "      <td>NaN</td>\n",
              "      <td>['건강', '감정표현', '양육법']</td>\n",
              "      <td>5</td>\n",
              "      <td>육아에 대한 고민을 나누고 싶어 글을 씁니다, 저는 30세의 엄마입니다. 양육의 어...</td>\n",
              "      <td>3</td>\n",
              "      <td>NaN</td>\n",
              "      <td>NaN</td>\n",
              "    </tr>\n",
              "    <tr>\n",
              "      <th>1</th>\n",
              "      <td>최하은</td>\n",
              "      <td>34</td>\n",
              "      <td>42</td>\n",
              "      <td>1</td>\n",
              "      <td>Female</td>\n",
              "      <td>Female</td>\n",
              "      <td>NaN</td>\n",
              "      <td>NaN</td>\n",
              "      <td>['수면', '부모역할', '양육 스트레스']</td>\n",
              "      <td>5</td>\n",
              "      <td>안녕하세요, 저는 34세의 엄마입니다. 지치고 막막함을 느끼고 있습니다. 제 육아 ...</td>\n",
              "      <td>42</td>\n",
              "      <td>NaN</td>\n",
              "      <td>NaN</td>\n",
              "    </tr>\n",
              "    <tr>\n",
              "      <th>2</th>\n",
              "      <td>이현우</td>\n",
              "      <td>34</td>\n",
              "      <td>27</td>\n",
              "      <td>1</td>\n",
              "      <td>Male</td>\n",
              "      <td>Female</td>\n",
              "      <td>NaN</td>\n",
              "      <td>NaN</td>\n",
              "      <td>['발달', '상호작용', '양육 스트레스']</td>\n",
              "      <td>4</td>\n",
              "      <td>안녕하세요, 저는 34세의 아빠입니다. 이러한 상황이 저를 매우 우울하게 만듭니다....</td>\n",
              "      <td>27</td>\n",
              "      <td>NaN</td>\n",
              "      <td>NaN</td>\n",
              "    </tr>\n",
              "    <tr>\n",
              "      <th>3</th>\n",
              "      <td>장예은</td>\n",
              "      <td>36</td>\n",
              "      <td>47</td>\n",
              "      <td>2</td>\n",
              "      <td>Female</td>\n",
              "      <td>Female</td>\n",
              "      <td>Female</td>\n",
              "      <td>NaN</td>\n",
              "      <td>['양육 스트레스', '수면', '감정표현']</td>\n",
              "      <td>4</td>\n",
              "      <td>이 글을 통해 도움을 구하고자 합니다. 저는 36세의 엄마입니다. 양육의 어려움에 ...</td>\n",
              "      <td>67</td>\n",
              "      <td>47.0</td>\n",
              "      <td>NaN</td>\n",
              "    </tr>\n",
              "    <tr>\n",
              "      <th>4</th>\n",
              "      <td>최예은</td>\n",
              "      <td>32</td>\n",
              "      <td>22</td>\n",
              "      <td>3</td>\n",
              "      <td>Female</td>\n",
              "      <td>Female</td>\n",
              "      <td>Female</td>\n",
              "      <td>Male</td>\n",
              "      <td>['관계', '감정표현', '부모역할']</td>\n",
              "      <td>1</td>\n",
              "      <td>안녕하세요, 저는 32세의 엄마입니다. 양육의 어려움에 직면하고 있습니다. 제 육아...</td>\n",
              "      <td>120</td>\n",
              "      <td>72.0</td>\n",
              "      <td>22.0</td>\n",
              "    </tr>\n",
              "  </tbody>\n",
              "</table>\n",
              "</div>\n",
              "    <div class=\"colab-df-buttons\">\n",
              "\n",
              "  <div class=\"colab-df-container\">\n",
              "    <button class=\"colab-df-convert\" onclick=\"convertToInteractive('df-f33cc97f-db61-4466-b98c-becd71b5fe2b')\"\n",
              "            title=\"Convert this dataframe to an interactive table.\"\n",
              "            style=\"display:none;\">\n",
              "\n",
              "  <svg xmlns=\"http://www.w3.org/2000/svg\" height=\"24px\" viewBox=\"0 -960 960 960\">\n",
              "    <path d=\"M120-120v-720h720v720H120Zm60-500h600v-160H180v160Zm220 220h160v-160H400v160Zm0 220h160v-160H400v160ZM180-400h160v-160H180v160Zm440 0h160v-160H620v160ZM180-180h160v-160H180v160Zm440 0h160v-160H620v160Z\"/>\n",
              "  </svg>\n",
              "    </button>\n",
              "\n",
              "  <style>\n",
              "    .colab-df-container {\n",
              "      display:flex;\n",
              "      gap: 12px;\n",
              "    }\n",
              "\n",
              "    .colab-df-convert {\n",
              "      background-color: #E8F0FE;\n",
              "      border: none;\n",
              "      border-radius: 50%;\n",
              "      cursor: pointer;\n",
              "      display: none;\n",
              "      fill: #1967D2;\n",
              "      height: 32px;\n",
              "      padding: 0 0 0 0;\n",
              "      width: 32px;\n",
              "    }\n",
              "\n",
              "    .colab-df-convert:hover {\n",
              "      background-color: #E2EBFA;\n",
              "      box-shadow: 0px 1px 2px rgba(60, 64, 67, 0.3), 0px 1px 3px 1px rgba(60, 64, 67, 0.15);\n",
              "      fill: #174EA6;\n",
              "    }\n",
              "\n",
              "    .colab-df-buttons div {\n",
              "      margin-bottom: 4px;\n",
              "    }\n",
              "\n",
              "    [theme=dark] .colab-df-convert {\n",
              "      background-color: #3B4455;\n",
              "      fill: #D2E3FC;\n",
              "    }\n",
              "\n",
              "    [theme=dark] .colab-df-convert:hover {\n",
              "      background-color: #434B5C;\n",
              "      box-shadow: 0px 1px 3px 1px rgba(0, 0, 0, 0.15);\n",
              "      filter: drop-shadow(0px 1px 2px rgba(0, 0, 0, 0.3));\n",
              "      fill: #FFFFFF;\n",
              "    }\n",
              "  </style>\n",
              "\n",
              "    <script>\n",
              "      const buttonEl =\n",
              "        document.querySelector('#df-f33cc97f-db61-4466-b98c-becd71b5fe2b button.colab-df-convert');\n",
              "      buttonEl.style.display =\n",
              "        google.colab.kernel.accessAllowed ? 'block' : 'none';\n",
              "\n",
              "      async function convertToInteractive(key) {\n",
              "        const element = document.querySelector('#df-f33cc97f-db61-4466-b98c-becd71b5fe2b');\n",
              "        const dataTable =\n",
              "          await google.colab.kernel.invokeFunction('convertToInteractive',\n",
              "                                                    [key], {});\n",
              "        if (!dataTable) return;\n",
              "\n",
              "        const docLinkHtml = 'Like what you see? Visit the ' +\n",
              "          '<a target=\"_blank\" href=https://colab.research.google.com/notebooks/data_table.ipynb>data table notebook</a>'\n",
              "          + ' to learn more about interactive tables.';\n",
              "        element.innerHTML = '';\n",
              "        dataTable['output_type'] = 'display_data';\n",
              "        await google.colab.output.renderOutput(dataTable, element);\n",
              "        const docLink = document.createElement('div');\n",
              "        docLink.innerHTML = docLinkHtml;\n",
              "        element.appendChild(docLink);\n",
              "      }\n",
              "    </script>\n",
              "  </div>\n",
              "\n",
              "\n",
              "<div id=\"df-21157102-0745-4cbd-b464-d37bfc056ec3\">\n",
              "  <button class=\"colab-df-quickchart\" onclick=\"quickchart('df-21157102-0745-4cbd-b464-d37bfc056ec3')\"\n",
              "            title=\"Suggest charts\"\n",
              "            style=\"display:none;\">\n",
              "\n",
              "<svg xmlns=\"http://www.w3.org/2000/svg\" height=\"24px\"viewBox=\"0 0 24 24\"\n",
              "     width=\"24px\">\n",
              "    <g>\n",
              "        <path d=\"M19 3H5c-1.1 0-2 .9-2 2v14c0 1.1.9 2 2 2h14c1.1 0 2-.9 2-2V5c0-1.1-.9-2-2-2zM9 17H7v-7h2v7zm4 0h-2V7h2v10zm4 0h-2v-4h2v4z\"/>\n",
              "    </g>\n",
              "</svg>\n",
              "  </button>\n",
              "\n",
              "<style>\n",
              "  .colab-df-quickchart {\n",
              "      --bg-color: #E8F0FE;\n",
              "      --fill-color: #1967D2;\n",
              "      --hover-bg-color: #E2EBFA;\n",
              "      --hover-fill-color: #174EA6;\n",
              "      --disabled-fill-color: #AAA;\n",
              "      --disabled-bg-color: #DDD;\n",
              "  }\n",
              "\n",
              "  [theme=dark] .colab-df-quickchart {\n",
              "      --bg-color: #3B4455;\n",
              "      --fill-color: #D2E3FC;\n",
              "      --hover-bg-color: #434B5C;\n",
              "      --hover-fill-color: #FFFFFF;\n",
              "      --disabled-bg-color: #3B4455;\n",
              "      --disabled-fill-color: #666;\n",
              "  }\n",
              "\n",
              "  .colab-df-quickchart {\n",
              "    background-color: var(--bg-color);\n",
              "    border: none;\n",
              "    border-radius: 50%;\n",
              "    cursor: pointer;\n",
              "    display: none;\n",
              "    fill: var(--fill-color);\n",
              "    height: 32px;\n",
              "    padding: 0;\n",
              "    width: 32px;\n",
              "  }\n",
              "\n",
              "  .colab-df-quickchart:hover {\n",
              "    background-color: var(--hover-bg-color);\n",
              "    box-shadow: 0 1px 2px rgba(60, 64, 67, 0.3), 0 1px 3px 1px rgba(60, 64, 67, 0.15);\n",
              "    fill: var(--button-hover-fill-color);\n",
              "  }\n",
              "\n",
              "  .colab-df-quickchart-complete:disabled,\n",
              "  .colab-df-quickchart-complete:disabled:hover {\n",
              "    background-color: var(--disabled-bg-color);\n",
              "    fill: var(--disabled-fill-color);\n",
              "    box-shadow: none;\n",
              "  }\n",
              "\n",
              "  .colab-df-spinner {\n",
              "    border: 2px solid var(--fill-color);\n",
              "    border-color: transparent;\n",
              "    border-bottom-color: var(--fill-color);\n",
              "    animation:\n",
              "      spin 1s steps(1) infinite;\n",
              "  }\n",
              "\n",
              "  @keyframes spin {\n",
              "    0% {\n",
              "      border-color: transparent;\n",
              "      border-bottom-color: var(--fill-color);\n",
              "      border-left-color: var(--fill-color);\n",
              "    }\n",
              "    20% {\n",
              "      border-color: transparent;\n",
              "      border-left-color: var(--fill-color);\n",
              "      border-top-color: var(--fill-color);\n",
              "    }\n",
              "    30% {\n",
              "      border-color: transparent;\n",
              "      border-left-color: var(--fill-color);\n",
              "      border-top-color: var(--fill-color);\n",
              "      border-right-color: var(--fill-color);\n",
              "    }\n",
              "    40% {\n",
              "      border-color: transparent;\n",
              "      border-right-color: var(--fill-color);\n",
              "      border-top-color: var(--fill-color);\n",
              "    }\n",
              "    60% {\n",
              "      border-color: transparent;\n",
              "      border-right-color: var(--fill-color);\n",
              "    }\n",
              "    80% {\n",
              "      border-color: transparent;\n",
              "      border-right-color: var(--fill-color);\n",
              "      border-bottom-color: var(--fill-color);\n",
              "    }\n",
              "    90% {\n",
              "      border-color: transparent;\n",
              "      border-bottom-color: var(--fill-color);\n",
              "    }\n",
              "  }\n",
              "</style>\n",
              "\n",
              "  <script>\n",
              "    async function quickchart(key) {\n",
              "      const quickchartButtonEl =\n",
              "        document.querySelector('#' + key + ' button');\n",
              "      quickchartButtonEl.disabled = true;  // To prevent multiple clicks.\n",
              "      quickchartButtonEl.classList.add('colab-df-spinner');\n",
              "      try {\n",
              "        const charts = await google.colab.kernel.invokeFunction(\n",
              "            'suggestCharts', [key], {});\n",
              "      } catch (error) {\n",
              "        console.error('Error during call to suggestCharts:', error);\n",
              "      }\n",
              "      quickchartButtonEl.classList.remove('colab-df-spinner');\n",
              "      quickchartButtonEl.classList.add('colab-df-quickchart-complete');\n",
              "    }\n",
              "    (() => {\n",
              "      let quickchartButtonEl =\n",
              "        document.querySelector('#df-21157102-0745-4cbd-b464-d37bfc056ec3 button');\n",
              "      quickchartButtonEl.style.display =\n",
              "        google.colab.kernel.accessAllowed ? 'block' : 'none';\n",
              "    })();\n",
              "  </script>\n",
              "</div>\n",
              "\n",
              "    </div>\n",
              "  </div>\n"
            ]
          },
          "metadata": {},
          "execution_count": 4
        }
      ]
    },
    {
      "cell_type": "markdown",
      "source": [
        "# 한글 글꼴 설치"
      ],
      "metadata": {
        "id": "5f7Ryf8MeIBw"
      }
    },
    {
      "cell_type": "code",
      "source": [
        "!sudo apt-get install -y fonts-nanum\n",
        "!sudo fc-cache -fv\n",
        "!rm ~/.cache/matplotlib -rf\n"
      ],
      "metadata": {
        "colab": {
          "base_uri": "https://localhost:8080/"
        },
        "id": "ccDnBsW4eIfK",
        "outputId": "7ae95951-be8e-431a-c1b8-eb0c95e73073"
      },
      "execution_count": null,
      "outputs": [
        {
          "output_type": "stream",
          "name": "stdout",
          "text": [
            "Reading package lists... Done\n",
            "Building dependency tree... Done\n",
            "Reading state information... Done\n",
            "fonts-nanum is already the newest version (20200506-1).\n",
            "0 upgraded, 0 newly installed, 0 to remove and 31 not upgraded.\n",
            "/usr/share/fonts: caching, new cache contents: 0 fonts, 1 dirs\n",
            "/usr/share/fonts/truetype: caching, new cache contents: 0 fonts, 3 dirs\n",
            "/usr/share/fonts/truetype/humor-sans: caching, new cache contents: 1 fonts, 0 dirs\n",
            "/usr/share/fonts/truetype/liberation: caching, new cache contents: 16 fonts, 0 dirs\n",
            "/usr/share/fonts/truetype/nanum: caching, new cache contents: 12 fonts, 0 dirs\n",
            "/usr/local/share/fonts: caching, new cache contents: 0 fonts, 0 dirs\n",
            "/root/.local/share/fonts: skipping, no such directory\n",
            "/root/.fonts: skipping, no such directory\n",
            "/usr/share/fonts/truetype: skipping, looped directory detected\n",
            "/usr/share/fonts/truetype/humor-sans: skipping, looped directory detected\n",
            "/usr/share/fonts/truetype/liberation: skipping, looped directory detected\n",
            "/usr/share/fonts/truetype/nanum: skipping, looped directory detected\n",
            "/var/cache/fontconfig: cleaning cache directory\n",
            "/root/.cache/fontconfig: not cleaning non-existent cache directory\n",
            "/root/.fontconfig: not cleaning non-existent cache directory\n",
            "fc-cache: succeeded\n"
          ]
        }
      ]
    },
    {
      "cell_type": "code",
      "source": [
        "import matplotlib.pyplot as plt\n",
        "import matplotlib.font_manager as fm\n",
        "from matplotlib import rc\n",
        "\n",
        "plt.rc('font', family='NanumBarunGothic')\n",
        "plt.rcParams['axes.unicode_minus'] =False"
      ],
      "metadata": {
        "id": "XjJlKkmEeJcO"
      },
      "execution_count": null,
      "outputs": []
    },
    {
      "cell_type": "markdown",
      "source": [
        "# 데이터 확인"
      ],
      "metadata": {
        "id": "4C-2ZC_fJtx4"
      }
    },
    {
      "cell_type": "code",
      "source": [
        "cols_to_visualize = ['Age', 'Child_Age_Months', 'Number_of_Children','Gender','Parenting_Concerns']\n",
        "\n",
        "plt.figure(figsize=(30,10))\n",
        "for i, col in enumerate(cols_to_visualize):\n",
        "    plt.subplot(2,3,i+1)\n",
        "    sns.countplot(x=col, data=customer_df)\n",
        "    plt.xlabel(col)\n",
        "    plt.ylabel('Count')\n",
        "plt.tight_layout()\n",
        "plt.show()"
      ],
      "metadata": {
        "id": "K84A2v8zLffc",
        "colab": {
          "base_uri": "https://localhost:8080/",
          "height": 702
        },
        "outputId": "ad35c0f7-8e81-49c8-a3ee-853d813c56d4"
      },
      "execution_count": null,
      "outputs": [
        {
          "output_type": "display_data",
          "data": {
            "text/plain": [
              "<Figure size 3000x1000 with 5 Axes>"
            ],
            "image/png": "[encoded data removed]"
          },
          "metadata": {}
        }
      ]
    },
    {
      "cell_type": "code",
      "source": [
        "# 각 컬럼별 결측치 개수 확인\n",
        "missing_values = customer_df.isnull().sum()\n",
        "missing_values"
      ],
      "metadata": {
        "colab": {
          "base_uri": "https://localhost:8080/"
        },
        "id": "yoEhA4soR98R",
        "outputId": "01417e6c-5b06-4143-8dc2-15342edadae0"
      },
      "execution_count": null,
      "outputs": [
        {
          "output_type": "execute_result",
          "data": {
            "text/plain": [
              "Name                          0\n",
              "Age                           0\n",
              "Child_Age_Months              0\n",
              "Number_of_Children            0\n",
              "Gender                        0\n",
              "Child_1_Gender                0\n",
              "Child_2_Gender            35043\n",
              "Child_3_Gender            47526\n",
              "Parenting_Concerns            0\n",
              "Parenting_Stress_Level        0\n",
              "Parenting_Letter              0\n",
              "Child_1_Age_Months            0\n",
              "Child_2_Age_Months        35043\n",
              "Child_3_Age_Months        47526\n",
              "dtype: int64"
            ]
          },
          "metadata": {},
          "execution_count": 9
        }
      ]
    },
    {
      "cell_type": "code",
      "source": [
        "#결측치확인\n",
        "missing_data = customer_df.isnull().sum()\n",
        "\n",
        "# 시각화\n",
        "plt.figure(figsize= (15,5))\n",
        "sns.barplot(x=missing_data.index, y=missing_data.values)\n",
        "plt.xticks(rotation=90)\n",
        "plt.ylabel('Numver of missing values')\n",
        "plt.title('Number of missing values in each column')\n",
        "plt.show()"
      ],
      "metadata": {
        "colab": {
          "base_uri": "https://localhost:8080/",
          "height": 618
        },
        "id": "Pf7iXcZoSZBt",
        "outputId": "6d49853f-7dea-444b-ecd2-b644071732c3"
      },
      "execution_count": null,
      "outputs": [
        {
          "output_type": "display_data",
          "data": {
            "text/plain": [
              "<Figure size 1500x500 with 1 Axes>"
            ],
            "image/png": "[encoded data removed]"
          },
          "metadata": {}
        }
      ]
    },
    {
      "cell_type": "code",
      "source": [
        "# 주요 특성들 간 상관 관계 확인\n",
        "correlation_matrix = customer_df[['Age', 'Child_Age_Months', 'Number_of_Children','Gender','Parenting_Concerns', 'Parenting_Stress_Level','Parenting_Letter']].corr()\n",
        "\n",
        "plt.figure(figsize=(10,10))\n",
        "sns.heatmap(correlation_matrix, annot=True, cmap='coolwarm', linewidths=0.5)\n",
        "plt.title('Correlation Matrix pf Features')\n",
        "\n",
        "plt.show()"
      ],
      "metadata": {
        "colab": {
          "base_uri": "https://localhost:8080/",
          "height": 889
        },
        "id": "vg6mrhaTS0FW",
        "outputId": "9964c107-619e-4eb1-c870-ff32e9d33984"
      },
      "execution_count": null,
      "outputs": [
        {
          "output_type": "stream",
          "name": "stderr",
          "text": [
            "<ipython-input-11-bfe744010ea4>:2: FutureWarning: The default value of numeric_only in DataFrame.corr is deprecated. In a future version, it will default to False. Select only valid columns or specify the value of numeric_only to silence this warning.\n",
            "  correlation_matrix = customer_df[['Age', 'Child_Age_Months', 'Number_of_Children','Gender','Parenting_Concerns', 'Parenting_Stress_Level','Parenting_Letter']].corr()\n"
          ]
        },
        {
          "output_type": "display_data",
          "data": {
            "text/plain": [
              "<Figure size 1000x1000 with 2 Axes>"
            ],
            "image/png": "[encoded data removed]"
          },
          "metadata": {}
        }
      ]
    },
    {
      "cell_type": "markdown",
      "source": [
        "# 텍스트 전처리"
      ],
      "metadata": {
        "id": "_t532iVxJgKT"
      }
    },
    {
      "cell_type": "markdown",
      "source": [
        "## 데이터셋 내 중복 제거"
      ],
      "metadata": {
        "id": "cb4QvDWIJmJH"
      }
    },
    {
      "cell_type": "code",
      "source": [
        "customer_dup = customer_df.drop_duplicates(['Parenting_Concerns']).reset_index(drop=True)\n",
        "print(f'필터링된 데이터셋 총 개수 : {len(customer_dup)}')"
      ],
      "metadata": {
        "colab": {
          "base_uri": "https://localhost:8080/"
        },
        "id": "OYmrSuUaTTcF",
        "outputId": "7a4c8e99-4242-4e49-9d94-8957e622c694"
      },
      "execution_count": null,
      "outputs": [
        {
          "output_type": "stream",
          "name": "stdout",
          "text": [
            "필터링된 데이터셋 총 개수 : 990\n"
          ]
        }
      ]
    },
    {
      "cell_type": "code",
      "source": [
        "# 길이가 너무 짧은 데이터 제거\n",
        "# 문장 내 길이가 너무 짧은 단어 제거\n",
        "customer_df['Parenting_Letter'] = customer_df['Parenting_Letter'].apply(lambda x: ' '.join([token for token in x.split() if len(token) > 2]))\n",
        "customer_df['Parenting_Letter']"
      ],
      "metadata": {
        "colab": {
          "base_uri": "https://localhost:8080/"
        },
        "id": "BY-ef6pZN7rZ",
        "outputId": "58e627ea-33c3-4e86-c164-e7aef0c2b2de"
      },
      "execution_count": null,
      "outputs": [
        {
          "output_type": "execute_result",
          "data": {
            "text/plain": [
              "0        육아에 고민을 나누고 씁니다, 30세의 엄마입니다. 양육의 어려움에 직면하고 있습니...\n",
              "1        안녕하세요, 34세의 엄마입니다. 지치고 막막함을 느끼고 있습니다. 고민은 아이가 ...\n",
              "2        안녕하세요, 34세의 아빠입니다. 이러한 상황이 우울하게 만듭니다. 고민은 아이의 ...\n",
              "3        도움을 구하고자 합니다. 36세의 엄마입니다. 양육의 어려움에 직면하고 있습니다. ...\n",
              "4        안녕하세요, 32세의 엄마입니다. 양육의 어려움에 직면하고 있습니다. 고민은 아이와...\n",
              "                               ...                        \n",
              "49995    안녕하세요, 32세의 엄마입니다. 이러한 상황이 우울하게 만듭니다. 고민은 연속된 ...\n",
              "49996    도움을 구하고자 합니다. 34세의 엄마입니다. 이러한 상황이 우울하게 만듭니다. 고...\n",
              "49997    안녕하세요, 36세의 엄마입니다. 지치고 막막함을 느끼고 있습니다. 고민은 아이가 ...\n",
              "49998    안녕하세요, 35세의 엄마입니다. 이러한 상황이 우울하게 만듭니다. 고민은 아이와의...\n",
              "49999    육아에 고민을 나누고 씁니다, 32세의 엄마입니다. 양육의 어려움에 직면하고 있습니...\n",
              "Name: Parenting_Letter, Length: 50000, dtype: object"
            ]
          },
          "metadata": {},
          "execution_count": 13
        }
      ]
    },
    {
      "cell_type": "code",
      "source": [
        "# 전체 길이가 10이하이거나 단어가 5개 이하인 데이터 제거\n",
        "customer_df = customer_df[customer_df.Parenting_Letter.apply(lambda x: len(str(x)) > 10 and len(str(x).split()) > 5)].reset_index(drop=True)\n",
        "customer_df"
      ],
      "metadata": {
        "colab": {
          "base_uri": "https://localhost:8080/",
          "height": 597
        },
        "id": "47jvl_KoOxbE",
        "outputId": "2df46188-e861-4250-bbfd-ed89c4ade5a7"
      },
      "execution_count": null,
      "outputs": [
        {
          "output_type": "execute_result",
          "data": {
            "text/plain": [
              "      Name  Age  Child_Age_Months  Number_of_Children  Gender Child_1_Gender  \\\n",
              "0      조서연   30                 3                   1  Female           Male   \n",
              "1      최하은   34                42                   1  Female         Female   \n",
              "2      이현우   34                27                   1    Male         Female   \n",
              "3      장예은   36                47                   2  Female         Female   \n",
              "4      최예은   32                22                   3  Female         Female   \n",
              "...    ...  ...               ...                 ...     ...            ...   \n",
              "49995  정혜진   32                37                   2  Female         Female   \n",
              "49996  최지은   34                20                   1  Female           Male   \n",
              "49997  최혜진   36                52                   2  Female           Male   \n",
              "49998  김하은   35                58                   1  Female           Male   \n",
              "49999  박수민   32                 8                   1  Female           Male   \n",
              "\n",
              "      Child_2_Gender Child_3_Gender          Parenting_Concerns  \\\n",
              "0                NaN            NaN       ['건강', '감정표현', '양육법']   \n",
              "1                NaN            NaN   ['수면', '부모역할', '양육 스트레스']   \n",
              "2                NaN            NaN   ['발달', '상호작용', '양육 스트레스']   \n",
              "3             Female            NaN   ['양육 스트레스', '수면', '감정표현']   \n",
              "4             Female           Male      ['관계', '감정표현', '부모역할']   \n",
              "...              ...            ...                         ...   \n",
              "49995           Male            NaN  ['양육 스트레스', '학습지도', '양육법']   \n",
              "49996            NaN            NaN       ['수면', '식습관', '상호작용']   \n",
              "49997           Male            NaN     ['건강', '양육 스트레스', '수면']   \n",
              "49998            NaN            NaN       ['양육법', '상호작용', '관계']   \n",
              "49999            NaN            NaN    ['수면', '양육 스트레스', '식습관']   \n",
              "\n",
              "       Parenting_Stress_Level  \\\n",
              "0                           5   \n",
              "1                           5   \n",
              "2                           4   \n",
              "3                           4   \n",
              "4                           1   \n",
              "...                       ...   \n",
              "49995                       4   \n",
              "49996                       5   \n",
              "49997                       5   \n",
              "49998                       3   \n",
              "49999                       3   \n",
              "\n",
              "                                        Parenting_Letter  Child_1_Age_Months  \\\n",
              "0      육아에 고민을 나누고 씁니다, 30세의 엄마입니다. 양육의 어려움에 직면하고 있습니...                   3   \n",
              "1      안녕하세요, 34세의 엄마입니다. 지치고 막막함을 느끼고 있습니다. 고민은 아이가 ...                  42   \n",
              "2      안녕하세요, 34세의 아빠입니다. 이러한 상황이 우울하게 만듭니다. 고민은 아이의 ...                  27   \n",
              "3      도움을 구하고자 합니다. 36세의 엄마입니다. 양육의 어려움에 직면하고 있습니다. ...                  67   \n",
              "4      안녕하세요, 32세의 엄마입니다. 양육의 어려움에 직면하고 있습니다. 고민은 아이와...                 120   \n",
              "...                                                  ...                 ...   \n",
              "49995  안녕하세요, 32세의 엄마입니다. 이러한 상황이 우울하게 만듭니다. 고민은 연속된 ...                  87   \n",
              "49996  도움을 구하고자 합니다. 34세의 엄마입니다. 이러한 상황이 우울하게 만듭니다. 고...                  20   \n",
              "49997  안녕하세요, 36세의 엄마입니다. 지치고 막막함을 느끼고 있습니다. 고민은 아이가 ...                 118   \n",
              "49998  안녕하세요, 35세의 엄마입니다. 이러한 상황이 우울하게 만듭니다. 고민은 아이와의...                  58   \n",
              "49999  육아에 고민을 나누고 씁니다, 32세의 엄마입니다. 양육의 어려움에 직면하고 있습니...                   8   \n",
              "\n",
              "       Child_2_Age_Months  Child_3_Age_Months  \n",
              "0                     NaN                 NaN  \n",
              "1                     NaN                 NaN  \n",
              "2                     NaN                 NaN  \n",
              "3                    47.0                 NaN  \n",
              "4                    72.0                22.0  \n",
              "...                   ...                 ...  \n",
              "49995                37.0                 NaN  \n",
              "49996                 NaN                 NaN  \n",
              "49997                52.0                 NaN  \n",
              "49998                 NaN                 NaN  \n",
              "49999                 NaN                 NaN  \n",
              "\n",
              "[50000 rows x 14 columns]"
            ],
            "text/html": [
              "\n",
              "  <div id=\"df-656da7af-7b4d-4e10-9e7a-065a406587a1\" class=\"colab-df-container\">\n",
              "    <div>\n",
              "<style scoped>\n",
              "    .dataframe tbody tr th:only-of-type {\n",
              "        vertical-align: middle;\n",
              "    }\n",
              "\n",
              "    .dataframe tbody tr th {\n",
              "        vertical-align: top;\n",
              "    }\n",
              "\n",
              "    .dataframe thead th {\n",
              "        text-align: right;\n",
              "    }\n",
              "</style>\n",
              "<table border=\"1\" class=\"dataframe\">\n",
              "  <thead>\n",
              "    <tr style=\"text-align: right;\">\n",
              "      <th></th>\n",
              "      <th>Name</th>\n",
              "      <th>Age</th>\n",
              "      <th>Child_Age_Months</th>\n",
              "      <th>Number_of_Children</th>\n",
              "      <th>Gender</th>\n",
              "      <th>Child_1_Gender</th>\n",
              "      <th>Child_2_Gender</th>\n",
              "      <th>Child_3_Gender</th>\n",
              "      <th>Parenting_Concerns</th>\n",
              "      <th>Parenting_Stress_Level</th>\n",
              "      <th>Parenting_Letter</th>\n",
              "      <th>Child_1_Age_Months</th>\n",
              "      <th>Child_2_Age_Months</th>\n",
              "      <th>Child_3_Age_Months</th>\n",
              "    </tr>\n",
              "  </thead>\n",
              "  <tbody>\n",
              "    <tr>\n",
              "      <th>0</th>\n",
              "      <td>조서연</td>\n",
              "      <td>30</td>\n",
              "      <td>3</td>\n",
              "      <td>1</td>\n",
              "      <td>Female</td>\n",
              "      <td>Male</td>\n",
              "      <td>NaN</td>\n",
              "      <td>NaN</td>\n",
              "      <td>['건강', '감정표현', '양육법']</td>\n",
              "      <td>5</td>\n",
              "      <td>육아에 고민을 나누고 씁니다, 30세의 엄마입니다. 양육의 어려움에 직면하고 있습니...</td>\n",
              "      <td>3</td>\n",
              "      <td>NaN</td>\n",
              "      <td>NaN</td>\n",
              "    </tr>\n",
              "    <tr>\n",
              "      <th>1</th>\n",
              "      <td>최하은</td>\n",
              "      <td>34</td>\n",
              "      <td>42</td>\n",
              "      <td>1</td>\n",
              "      <td>Female</td>\n",
              "      <td>Female</td>\n",
              "      <td>NaN</td>\n",
              "      <td>NaN</td>\n",
              "      <td>['수면', '부모역할', '양육 스트레스']</td>\n",
              "      <td>5</td>\n",
              "      <td>안녕하세요, 34세의 엄마입니다. 지치고 막막함을 느끼고 있습니다. 고민은 아이가 ...</td>\n",
              "      <td>42</td>\n",
              "      <td>NaN</td>\n",
              "      <td>NaN</td>\n",
              "    </tr>\n",
              "    <tr>\n",
              "      <th>2</th>\n",
              "      <td>이현우</td>\n",
              "      <td>34</td>\n",
              "      <td>27</td>\n",
              "      <td>1</td>\n",
              "      <td>Male</td>\n",
              "      <td>Female</td>\n",
              "      <td>NaN</td>\n",
              "      <td>NaN</td>\n",
              "      <td>['발달', '상호작용', '양육 스트레스']</td>\n",
              "      <td>4</td>\n",
              "      <td>안녕하세요, 34세의 아빠입니다. 이러한 상황이 우울하게 만듭니다. 고민은 아이의 ...</td>\n",
              "      <td>27</td>\n",
              "      <td>NaN</td>\n",
              "      <td>NaN</td>\n",
              "    </tr>\n",
              "    <tr>\n",
              "      <th>3</th>\n",
              "      <td>장예은</td>\n",
              "      <td>36</td>\n",
              "      <td>47</td>\n",
              "      <td>2</td>\n",
              "      <td>Female</td>\n",
              "      <td>Female</td>\n",
              "      <td>Female</td>\n",
              "      <td>NaN</td>\n",
              "      <td>['양육 스트레스', '수면', '감정표현']</td>\n",
              "      <td>4</td>\n",
              "      <td>도움을 구하고자 합니다. 36세의 엄마입니다. 양육의 어려움에 직면하고 있습니다. ...</td>\n",
              "      <td>67</td>\n",
              "      <td>47.0</td>\n",
              "      <td>NaN</td>\n",
              "    </tr>\n",
              "    <tr>\n",
              "      <th>4</th>\n",
              "      <td>최예은</td>\n",
              "      <td>32</td>\n",
              "      <td>22</td>\n",
              "      <td>3</td>\n",
              "      <td>Female</td>\n",
              "      <td>Female</td>\n",
              "      <td>Female</td>\n",
              "      <td>Male</td>\n",
              "      <td>['관계', '감정표현', '부모역할']</td>\n",
              "      <td>1</td>\n",
              "      <td>안녕하세요, 32세의 엄마입니다. 양육의 어려움에 직면하고 있습니다. 고민은 아이와...</td>\n",
              "      <td>120</td>\n",
              "      <td>72.0</td>\n",
              "      <td>22.0</td>\n",
              "    </tr>\n",
              "    <tr>\n",
              "      <th>...</th>\n",
              "      <td>...</td>\n",
              "      <td>...</td>\n",
              "      <td>...</td>\n",
              "      <td>...</td>\n",
              "      <td>...</td>\n",
              "      <td>...</td>\n",
              "      <td>...</td>\n",
              "      <td>...</td>\n",
              "      <td>...</td>\n",
              "      <td>...</td>\n",
              "      <td>...</td>\n",
              "      <td>...</td>\n",
              "      <td>...</td>\n",
              "      <td>...</td>\n",
              "    </tr>\n",
              "    <tr>\n",
              "      <th>49995</th>\n",
              "      <td>정혜진</td>\n",
              "      <td>32</td>\n",
              "      <td>37</td>\n",
              "      <td>2</td>\n",
              "      <td>Female</td>\n",
              "      <td>Female</td>\n",
              "      <td>Male</td>\n",
              "      <td>NaN</td>\n",
              "      <td>['양육 스트레스', '학습지도', '양육법']</td>\n",
              "      <td>4</td>\n",
              "      <td>안녕하세요, 32세의 엄마입니다. 이러한 상황이 우울하게 만듭니다. 고민은 연속된 ...</td>\n",
              "      <td>87</td>\n",
              "      <td>37.0</td>\n",
              "      <td>NaN</td>\n",
              "    </tr>\n",
              "    <tr>\n",
              "      <th>49996</th>\n",
              "      <td>최지은</td>\n",
              "      <td>34</td>\n",
              "      <td>20</td>\n",
              "      <td>1</td>\n",
              "      <td>Female</td>\n",
              "      <td>Male</td>\n",
              "      <td>NaN</td>\n",
              "      <td>NaN</td>\n",
              "      <td>['수면', '식습관', '상호작용']</td>\n",
              "      <td>5</td>\n",
              "      <td>도움을 구하고자 합니다. 34세의 엄마입니다. 이러한 상황이 우울하게 만듭니다. 고...</td>\n",
              "      <td>20</td>\n",
              "      <td>NaN</td>\n",
              "      <td>NaN</td>\n",
              "    </tr>\n",
              "    <tr>\n",
              "      <th>49997</th>\n",
              "      <td>최혜진</td>\n",
              "      <td>36</td>\n",
              "      <td>52</td>\n",
              "      <td>2</td>\n",
              "      <td>Female</td>\n",
              "      <td>Male</td>\n",
              "      <td>Male</td>\n",
              "      <td>NaN</td>\n",
              "      <td>['건강', '양육 스트레스', '수면']</td>\n",
              "      <td>5</td>\n",
              "      <td>안녕하세요, 36세의 엄마입니다. 지치고 막막함을 느끼고 있습니다. 고민은 아이가 ...</td>\n",
              "      <td>118</td>\n",
              "      <td>52.0</td>\n",
              "      <td>NaN</td>\n",
              "    </tr>\n",
              "    <tr>\n",
              "      <th>49998</th>\n",
              "      <td>김하은</td>\n",
              "      <td>35</td>\n",
              "      <td>58</td>\n",
              "      <td>1</td>\n",
              "      <td>Female</td>\n",
              "      <td>Male</td>\n",
              "      <td>NaN</td>\n",
              "      <td>NaN</td>\n",
              "      <td>['양육법', '상호작용', '관계']</td>\n",
              "      <td>3</td>\n",
              "      <td>안녕하세요, 35세의 엄마입니다. 이러한 상황이 우울하게 만듭니다. 고민은 아이와의...</td>\n",
              "      <td>58</td>\n",
              "      <td>NaN</td>\n",
              "      <td>NaN</td>\n",
              "    </tr>\n",
              "    <tr>\n",
              "      <th>49999</th>\n",
              "      <td>박수민</td>\n",
              "      <td>32</td>\n",
              "      <td>8</td>\n",
              "      <td>1</td>\n",
              "      <td>Female</td>\n",
              "      <td>Male</td>\n",
              "      <td>NaN</td>\n",
              "      <td>NaN</td>\n",
              "      <td>['수면', '양육 스트레스', '식습관']</td>\n",
              "      <td>3</td>\n",
              "      <td>육아에 고민을 나누고 씁니다, 32세의 엄마입니다. 양육의 어려움에 직면하고 있습니...</td>\n",
              "      <td>8</td>\n",
              "      <td>NaN</td>\n",
              "      <td>NaN</td>\n",
              "    </tr>\n",
              "  </tbody>\n",
              "</table>\n",
              "<p>50000 rows × 14 columns</p>\n",
              "</div>\n",
              "    <div class=\"colab-df-buttons\">\n",
              "\n",
              "  <div class=\"colab-df-container\">\n",
              "    <button class=\"colab-df-convert\" onclick=\"convertToInteractive('df-656da7af-7b4d-4e10-9e7a-065a406587a1')\"\n",
              "            title=\"Convert this dataframe to an interactive table.\"\n",
              "            style=\"display:none;\">\n",
              "\n",
              "  <svg xmlns=\"http://www.w3.org/2000/svg\" height=\"24px\" viewBox=\"0 -960 960 960\">\n",
              "    <path d=\"M120-120v-720h720v720H120Zm60-500h600v-160H180v160Zm220 220h160v-160H400v160Zm0 220h160v-160H400v160ZM180-400h160v-160H180v160Zm440 0h160v-160H620v160ZM180-180h160v-160H180v160Zm440 0h160v-160H620v160Z\"/>\n",
              "  </svg>\n",
              "    </button>\n",
              "\n",
              "  <style>\n",
              "    .colab-df-container {\n",
              "      display:flex;\n",
              "      gap: 12px;\n",
              "    }\n",
              "\n",
              "    .colab-df-convert {\n",
              "      background-color: #E8F0FE;\n",
              "      border: none;\n",
              "      border-radius: 50%;\n",
              "      cursor: pointer;\n",
              "      display: none;\n",
              "      fill: #1967D2;\n",
              "      height: 32px;\n",
              "      padding: 0 0 0 0;\n",
              "      width: 32px;\n",
              "    }\n",
              "\n",
              "    .colab-df-convert:hover {\n",
              "      background-color: #E2EBFA;\n",
              "      box-shadow: 0px 1px 2px rgba(60, 64, 67, 0.3), 0px 1px 3px 1px rgba(60, 64, 67, 0.15);\n",
              "      fill: #174EA6;\n",
              "    }\n",
              "\n",
              "    .colab-df-buttons div {\n",
              "      margin-bottom: 4px;\n",
              "    }\n",
              "\n",
              "    [theme=dark] .colab-df-convert {\n",
              "      background-color: #3B4455;\n",
              "      fill: #D2E3FC;\n",
              "    }\n",
              "\n",
              "    [theme=dark] .colab-df-convert:hover {\n",
              "      background-color: #434B5C;\n",
              "      box-shadow: 0px 1px 3px 1px rgba(0, 0, 0, 0.15);\n",
              "      filter: drop-shadow(0px 1px 2px rgba(0, 0, 0, 0.3));\n",
              "      fill: #FFFFFF;\n",
              "    }\n",
              "  </style>\n",
              "\n",
              "    <script>\n",
              "      const buttonEl =\n",
              "        document.querySelector('#df-656da7af-7b4d-4e10-9e7a-065a406587a1 button.colab-df-convert');\n",
              "      buttonEl.style.display =\n",
              "        google.colab.kernel.accessAllowed ? 'block' : 'none';\n",
              "\n",
              "      async function convertToInteractive(key) {\n",
              "        const element = document.querySelector('#df-656da7af-7b4d-4e10-9e7a-065a406587a1');\n",
              "        const dataTable =\n",
              "          await google.colab.kernel.invokeFunction('convertToInteractive',\n",
              "                                                    [key], {});\n",
              "        if (!dataTable) return;\n",
              "\n",
              "        const docLinkHtml = 'Like what you see? Visit the ' +\n",
              "          '<a target=\"_blank\" href=https://colab.research.google.com/notebooks/data_table.ipynb>data table notebook</a>'\n",
              "          + ' to learn more about interactive tables.';\n",
              "        element.innerHTML = '';\n",
              "        dataTable['output_type'] = 'display_data';\n",
              "        await google.colab.output.renderOutput(dataTable, element);\n",
              "        const docLink = document.createElement('div');\n",
              "        docLink.innerHTML = docLinkHtml;\n",
              "        element.appendChild(docLink);\n",
              "      }\n",
              "    </script>\n",
              "  </div>\n",
              "\n",
              "\n",
              "<div id=\"df-c3656003-2765-42f8-9c19-42a8b477c572\">\n",
              "  <button class=\"colab-df-quickchart\" onclick=\"quickchart('df-c3656003-2765-42f8-9c19-42a8b477c572')\"\n",
              "            title=\"Suggest charts\"\n",
              "            style=\"display:none;\">\n",
              "\n",
              "<svg xmlns=\"http://www.w3.org/2000/svg\" height=\"24px\"viewBox=\"0 0 24 24\"\n",
              "     width=\"24px\">\n",
              "    <g>\n",
              "        <path d=\"M19 3H5c-1.1 0-2 .9-2 2v14c0 1.1.9 2 2 2h14c1.1 0 2-.9 2-2V5c0-1.1-.9-2-2-2zM9 17H7v-7h2v7zm4 0h-2V7h2v10zm4 0h-2v-4h2v4z\"/>\n",
              "    </g>\n",
              "</svg>\n",
              "  </button>\n",
              "\n",
              "<style>\n",
              "  .colab-df-quickchart {\n",
              "      --bg-color: #E8F0FE;\n",
              "      --fill-color: #1967D2;\n",
              "      --hover-bg-color: #E2EBFA;\n",
              "      --hover-fill-color: #174EA6;\n",
              "      --disabled-fill-color: #AAA;\n",
              "      --disabled-bg-color: #DDD;\n",
              "  }\n",
              "\n",
              "  [theme=dark] .colab-df-quickchart {\n",
              "      --bg-color: #3B4455;\n",
              "      --fill-color: #D2E3FC;\n",
              "      --hover-bg-color: #434B5C;\n",
              "      --hover-fill-color: #FFFFFF;\n",
              "      --disabled-bg-color: #3B4455;\n",
              "      --disabled-fill-color: #666;\n",
              "  }\n",
              "\n",
              "  .colab-df-quickchart {\n",
              "    background-color: var(--bg-color);\n",
              "    border: none;\n",
              "    border-radius: 50%;\n",
              "    cursor: pointer;\n",
              "    display: none;\n",
              "    fill: var(--fill-color);\n",
              "    height: 32px;\n",
              "    padding: 0;\n",
              "    width: 32px;\n",
              "  }\n",
              "\n",
              "  .colab-df-quickchart:hover {\n",
              "    background-color: var(--hover-bg-color);\n",
              "    box-shadow: 0 1px 2px rgba(60, 64, 67, 0.3), 0 1px 3px 1px rgba(60, 64, 67, 0.15);\n",
              "    fill: var(--button-hover-fill-color);\n",
              "  }\n",
              "\n",
              "  .colab-df-quickchart-complete:disabled,\n",
              "  .colab-df-quickchart-complete:disabled:hover {\n",
              "    background-color: var(--disabled-bg-color);\n",
              "    fill: var(--disabled-fill-color);\n",
              "    box-shadow: none;\n",
              "  }\n",
              "\n",
              "  .colab-df-spinner {\n",
              "    border: 2px solid var(--fill-color);\n",
              "    border-color: transparent;\n",
              "    border-bottom-color: var(--fill-color);\n",
              "    animation:\n",
              "      spin 1s steps(1) infinite;\n",
              "  }\n",
              "\n",
              "  @keyframes spin {\n",
              "    0% {\n",
              "      border-color: transparent;\n",
              "      border-bottom-color: var(--fill-color);\n",
              "      border-left-color: var(--fill-color);\n",
              "    }\n",
              "    20% {\n",
              "      border-color: transparent;\n",
              "      border-left-color: var(--fill-color);\n",
              "      border-top-color: var(--fill-color);\n",
              "    }\n",
              "    30% {\n",
              "      border-color: transparent;\n",
              "      border-left-color: var(--fill-color);\n",
              "      border-top-color: var(--fill-color);\n",
              "      border-right-color: var(--fill-color);\n",
              "    }\n",
              "    40% {\n",
              "      border-color: transparent;\n",
              "      border-right-color: var(--fill-color);\n",
              "      border-top-color: var(--fill-color);\n",
              "    }\n",
              "    60% {\n",
              "      border-color: transparent;\n",
              "      border-right-color: var(--fill-color);\n",
              "    }\n",
              "    80% {\n",
              "      border-color: transparent;\n",
              "      border-right-color: var(--fill-color);\n",
              "      border-bottom-color: var(--fill-color);\n",
              "    }\n",
              "    90% {\n",
              "      border-color: transparent;\n",
              "      border-bottom-color: var(--fill-color);\n",
              "    }\n",
              "  }\n",
              "</style>\n",
              "\n",
              "  <script>\n",
              "    async function quickchart(key) {\n",
              "      const quickchartButtonEl =\n",
              "        document.querySelector('#' + key + ' button');\n",
              "      quickchartButtonEl.disabled = true;  // To prevent multiple clicks.\n",
              "      quickchartButtonEl.classList.add('colab-df-spinner');\n",
              "      try {\n",
              "        const charts = await google.colab.kernel.invokeFunction(\n",
              "            'suggestCharts', [key], {});\n",
              "      } catch (error) {\n",
              "        console.error('Error during call to suggestCharts:', error);\n",
              "      }\n",
              "      quickchartButtonEl.classList.remove('colab-df-spinner');\n",
              "      quickchartButtonEl.classList.add('colab-df-quickchart-complete');\n",
              "    }\n",
              "    (() => {\n",
              "      let quickchartButtonEl =\n",
              "        document.querySelector('#df-c3656003-2765-42f8-9c19-42a8b477c572 button');\n",
              "      quickchartButtonEl.style.display =\n",
              "        google.colab.kernel.accessAllowed ? 'block' : 'none';\n",
              "    })();\n",
              "  </script>\n",
              "</div>\n",
              "\n",
              "  <div id=\"id_abcc53c1-c055-4123-921b-11e5cd72df4a\">\n",
              "    <style>\n",
              "      .colab-df-generate {\n",
              "        background-color: #E8F0FE;\n",
              "        border: none;\n",
              "        border-radius: 50%;\n",
              "        cursor: pointer;\n",
              "        display: none;\n",
              "        fill: #1967D2;\n",
              "        height: 32px;\n",
              "        padding: 0 0 0 0;\n",
              "        width: 32px;\n",
              "      }\n",
              "\n",
              "      .colab-df-generate:hover {\n",
              "        background-color: #E2EBFA;\n",
              "        box-shadow: 0px 1px 2px rgba(60, 64, 67, 0.3), 0px 1px 3px 1px rgba(60, 64, 67, 0.15);\n",
              "        fill: #174EA6;\n",
              "      }\n",
              "\n",
              "      [theme=dark] .colab-df-generate {\n",
              "        background-color: #3B4455;\n",
              "        fill: #D2E3FC;\n",
              "      }\n",
              "\n",
              "      [theme=dark] .colab-df-generate:hover {\n",
              "        background-color: #434B5C;\n",
              "        box-shadow: 0px 1px 3px 1px rgba(0, 0, 0, 0.15);\n",
              "        filter: drop-shadow(0px 1px 2px rgba(0, 0, 0, 0.3));\n",
              "        fill: #FFFFFF;\n",
              "      }\n",
              "    </style>\n",
              "    <button class=\"colab-df-generate\" onclick=\"generateWithVariable('customer_df')\"\n",
              "            title=\"Generate code using this dataframe.\"\n",
              "            style=\"display:none;\">\n",
              "\n",
              "  <svg xmlns=\"http://www.w3.org/2000/svg\" height=\"24px\"viewBox=\"0 0 24 24\"\n",
              "       width=\"24px\">\n",
              "    <path d=\"M7,19H8.4L18.45,9,17,7.55,7,17.6ZM5,21V16.75L18.45,3.32a2,2,0,0,1,2.83,0l1.4,1.43a1.91,1.91,0,0,1,.58,1.4,1.91,1.91,0,0,1-.58,1.4L9.25,21ZM18.45,9,17,7.55Zm-12,3A5.31,5.31,0,0,0,4.9,8.1,5.31,5.31,0,0,0,1,6.5,5.31,5.31,0,0,0,4.9,4.9,5.31,5.31,0,0,0,6.5,1,5.31,5.31,0,0,0,8.1,4.9,5.31,5.31,0,0,0,12,6.5,5.46,5.46,0,0,0,6.5,12Z\"/>\n",
              "  </svg>\n",
              "    </button>\n",
              "    <script>\n",
              "      (() => {\n",
              "      const buttonEl =\n",
              "        document.querySelector('#id_abcc53c1-c055-4123-921b-11e5cd72df4a button.colab-df-generate');\n",
              "      buttonEl.style.display =\n",
              "        google.colab.kernel.accessAllowed ? 'block' : 'none';\n",
              "\n",
              "      buttonEl.onclick = () => {\n",
              "        google.colab.notebook.generateWithVariable('customer_df');\n",
              "      }\n",
              "      })();\n",
              "    </script>\n",
              "  </div>\n",
              "\n",
              "    </div>\n",
              "  </div>\n"
            ]
          },
          "metadata": {},
          "execution_count": 14
        }
      ]
    },
    {
      "cell_type": "markdown",
      "source": [
        "## 문장 토큰화"
      ],
      "metadata": {
        "id": "eAUhEnjPP3dQ"
      }
    },
    {
      "cell_type": "code",
      "source": [
        "!pip install konlpy"
      ],
      "metadata": {
        "colab": {
          "base_uri": "https://localhost:8080/"
        },
        "id": "OVuWQ6ROPhmD",
        "outputId": "3b205d3f-4287-4803-f57f-6136c8d8142c"
      },
      "execution_count": null,
      "outputs": [
        {
          "output_type": "stream",
          "name": "stdout",
          "text": [
            "Requirement already satisfied: konlpy in /usr/local/lib/python3.10/dist-packages (0.6.0)\n",
            "Requirement already satisfied: JPype1>=0.7.0 in /usr/local/lib/python3.10/dist-packages (from konlpy) (1.5.0)\n",
            "Requirement already satisfied: lxml>=4.1.0 in /usr/local/lib/python3.10/dist-packages (from konlpy) (4.9.4)\n",
            "Requirement already satisfied: numpy>=1.6 in /usr/local/lib/python3.10/dist-packages (from konlpy) (1.23.5)\n",
            "Requirement already satisfied: packaging in /usr/local/lib/python3.10/dist-packages (from JPype1>=0.7.0->konlpy) (23.2)\n"
          ]
        }
      ]
    },
    {
      "cell_type": "code",
      "source": [
        "import konlpy\n",
        "from konlpy.tag import Okt\n",
        "\n",
        "# Initialize the Okt tokenizer\n",
        "okt = Okt()\n",
        "\n",
        "# Function to tokenize the text and extract words of length 2\n",
        "def extract_two_letter_words(text):\n",
        "    tokens = okt.morphs(text)\n",
        "    two_letter_words = [word for word in tokens if len(word) == 2]\n",
        "    return two_letter_words\n",
        "\n",
        "# Apply the function to the 'Parenting_Letter' column\n",
        "customer_df['Two_Letter_Words'] = customer_df['Parenting_Letter'].apply(extract_two_letter_words)\n",
        "\n",
        "# Display the results\n",
        "customer_df[['Parenting_Letter', 'Two_Letter_Words']].head()\n"
      ],
      "metadata": {
        "id": "j_C4tiiFP7z-",
        "colab": {
          "base_uri": "https://localhost:8080/",
          "height": 206
        },
        "outputId": "7c0c4c39-bd58-4fc6-d025-6d5a3d01f323"
      },
      "execution_count": null,
      "outputs": [
        {
          "output_type": "execute_result",
          "data": {
            "text/plain": [
              "                                    Parenting_Letter  \\\n",
              "0  육아에 고민을 나누고 씁니다, 30세의 엄마입니다. 양육의 어려움에 직면하고 있습니...   \n",
              "1  안녕하세요, 34세의 엄마입니다. 지치고 막막함을 느끼고 있습니다. 고민은 아이가 ...   \n",
              "2  안녕하세요, 34세의 아빠입니다. 이러한 상황이 우울하게 만듭니다. 고민은 아이의 ...   \n",
              "3  도움을 구하고자 합니다. 36세의 엄마입니다. 양육의 어려움에 직면하고 있습니다. ...   \n",
              "4  안녕하세요, 32세의 엄마입니다. 양육의 어려움에 직면하고 있습니다. 고민은 아이와...   \n",
              "\n",
              "                                    Two_Letter_Words  \n",
              "0  [육아, 고민, 30, 엄마, 양육, 직면, 하고, 고민, 아이, 면역, 보여, 방...  \n",
              "1  [34, 엄마, 고민, 아이, 낮잠, 않아, 패턴, 개선, 하고, 연속, 양육, 책...  \n",
              "2  [34, 아빠, 상황, 고민, 아이, 단계, 평균, 보다, 같아, 발달, 방법, 연...  \n",
              "3  [도움, 36, 엄마, 양육, 직면, 하고, 고민, 연속, 양육, 책임, 자신, 시...  \n",
              "4  [32, 엄마, 양육, 직면, 하고, 고민, 아이, 와의, 개선, 방법, 아이, 조...  "
            ],
            "text/html": [
              "\n",
              "  <div id=\"df-b3e67bdb-1bbf-4721-8429-730287d48e7c\" class=\"colab-df-container\">\n",
              "    <div>\n",
              "<style scoped>\n",
              "    .dataframe tbody tr th:only-of-type {\n",
              "        vertical-align: middle;\n",
              "    }\n",
              "\n",
              "    .dataframe tbody tr th {\n",
              "        vertical-align: top;\n",
              "    }\n",
              "\n",
              "    .dataframe thead th {\n",
              "        text-align: right;\n",
              "    }\n",
              "</style>\n",
              "<table border=\"1\" class=\"dataframe\">\n",
              "  <thead>\n",
              "    <tr style=\"text-align: right;\">\n",
              "      <th></th>\n",
              "      <th>Parenting_Letter</th>\n",
              "      <th>Two_Letter_Words</th>\n",
              "    </tr>\n",
              "  </thead>\n",
              "  <tbody>\n",
              "    <tr>\n",
              "      <th>0</th>\n",
              "      <td>육아에 고민을 나누고 씁니다, 30세의 엄마입니다. 양육의 어려움에 직면하고 있습니...</td>\n",
              "      <td>[육아, 고민, 30, 엄마, 양육, 직면, 하고, 고민, 아이, 면역, 보여, 방...</td>\n",
              "    </tr>\n",
              "    <tr>\n",
              "      <th>1</th>\n",
              "      <td>안녕하세요, 34세의 엄마입니다. 지치고 막막함을 느끼고 있습니다. 고민은 아이가 ...</td>\n",
              "      <td>[34, 엄마, 고민, 아이, 낮잠, 않아, 패턴, 개선, 하고, 연속, 양육, 책...</td>\n",
              "    </tr>\n",
              "    <tr>\n",
              "      <th>2</th>\n",
              "      <td>안녕하세요, 34세의 아빠입니다. 이러한 상황이 우울하게 만듭니다. 고민은 아이의 ...</td>\n",
              "      <td>[34, 아빠, 상황, 고민, 아이, 단계, 평균, 보다, 같아, 발달, 방법, 연...</td>\n",
              "    </tr>\n",
              "    <tr>\n",
              "      <th>3</th>\n",
              "      <td>도움을 구하고자 합니다. 36세의 엄마입니다. 양육의 어려움에 직면하고 있습니다. ...</td>\n",
              "      <td>[도움, 36, 엄마, 양육, 직면, 하고, 고민, 연속, 양육, 책임, 자신, 시...</td>\n",
              "    </tr>\n",
              "    <tr>\n",
              "      <th>4</th>\n",
              "      <td>안녕하세요, 32세의 엄마입니다. 양육의 어려움에 직면하고 있습니다. 고민은 아이와...</td>\n",
              "      <td>[32, 엄마, 양육, 직면, 하고, 고민, 아이, 와의, 개선, 방법, 아이, 조...</td>\n",
              "    </tr>\n",
              "  </tbody>\n",
              "</table>\n",
              "</div>\n",
              "    <div class=\"colab-df-buttons\">\n",
              "\n",
              "  <div class=\"colab-df-container\">\n",
              "    <button class=\"colab-df-convert\" onclick=\"convertToInteractive('df-b3e67bdb-1bbf-4721-8429-730287d48e7c')\"\n",
              "            title=\"Convert this dataframe to an interactive table.\"\n",
              "            style=\"display:none;\">\n",
              "\n",
              "  <svg xmlns=\"http://www.w3.org/2000/svg\" height=\"24px\" viewBox=\"0 -960 960 960\">\n",
              "    <path d=\"M120-120v-720h720v720H120Zm60-500h600v-160H180v160Zm220 220h160v-160H400v160Zm0 220h160v-160H400v160ZM180-400h160v-160H180v160Zm440 0h160v-160H620v160ZM180-180h160v-160H180v160Zm440 0h160v-160H620v160Z\"/>\n",
              "  </svg>\n",
              "    </button>\n",
              "\n",
              "  <style>\n",
              "    .colab-df-container {\n",
              "      display:flex;\n",
              "      gap: 12px;\n",
              "    }\n",
              "\n",
              "    .colab-df-convert {\n",
              "      background-color: #E8F0FE;\n",
              "      border: none;\n",
              "      border-radius: 50%;\n",
              "      cursor: pointer;\n",
              "      display: none;\n",
              "      fill: #1967D2;\n",
              "      height: 32px;\n",
              "      padding: 0 0 0 0;\n",
              "      width: 32px;\n",
              "    }\n",
              "\n",
              "    .colab-df-convert:hover {\n",
              "      background-color: #E2EBFA;\n",
              "      box-shadow: 0px 1px 2px rgba(60, 64, 67, 0.3), 0px 1px 3px 1px rgba(60, 64, 67, 0.15);\n",
              "      fill: #174EA6;\n",
              "    }\n",
              "\n",
              "    .colab-df-buttons div {\n",
              "      margin-bottom: 4px;\n",
              "    }\n",
              "\n",
              "    [theme=dark] .colab-df-convert {\n",
              "      background-color: #3B4455;\n",
              "      fill: #D2E3FC;\n",
              "    }\n",
              "\n",
              "    [theme=dark] .colab-df-convert:hover {\n",
              "      background-color: #434B5C;\n",
              "      box-shadow: 0px 1px 3px 1px rgba(0, 0, 0, 0.15);\n",
              "      filter: drop-shadow(0px 1px 2px rgba(0, 0, 0, 0.3));\n",
              "      fill: #FFFFFF;\n",
              "    }\n",
              "  </style>\n",
              "\n",
              "    <script>\n",
              "      const buttonEl =\n",
              "        document.querySelector('#df-b3e67bdb-1bbf-4721-8429-730287d48e7c button.colab-df-convert');\n",
              "      buttonEl.style.display =\n",
              "        google.colab.kernel.accessAllowed ? 'block' : 'none';\n",
              "\n",
              "      async function convertToInteractive(key) {\n",
              "        const element = document.querySelector('#df-b3e67bdb-1bbf-4721-8429-730287d48e7c');\n",
              "        const dataTable =\n",
              "          await google.colab.kernel.invokeFunction('convertToInteractive',\n",
              "                                                    [key], {});\n",
              "        if (!dataTable) return;\n",
              "\n",
              "        const docLinkHtml = 'Like what you see? Visit the ' +\n",
              "          '<a target=\"_blank\" href=https://colab.research.google.com/notebooks/data_table.ipynb>data table notebook</a>'\n",
              "          + ' to learn more about interactive tables.';\n",
              "        element.innerHTML = '';\n",
              "        dataTable['output_type'] = 'display_data';\n",
              "        await google.colab.output.renderOutput(dataTable, element);\n",
              "        const docLink = document.createElement('div');\n",
              "        docLink.innerHTML = docLinkHtml;\n",
              "        element.appendChild(docLink);\n",
              "      }\n",
              "    </script>\n",
              "  </div>\n",
              "\n",
              "\n",
              "<div id=\"df-59962433-4127-4d6d-859e-04d7e0729b4c\">\n",
              "  <button class=\"colab-df-quickchart\" onclick=\"quickchart('df-59962433-4127-4d6d-859e-04d7e0729b4c')\"\n",
              "            title=\"Suggest charts\"\n",
              "            style=\"display:none;\">\n",
              "\n",
              "<svg xmlns=\"http://www.w3.org/2000/svg\" height=\"24px\"viewBox=\"0 0 24 24\"\n",
              "     width=\"24px\">\n",
              "    <g>\n",
              "        <path d=\"M19 3H5c-1.1 0-2 .9-2 2v14c0 1.1.9 2 2 2h14c1.1 0 2-.9 2-2V5c0-1.1-.9-2-2-2zM9 17H7v-7h2v7zm4 0h-2V7h2v10zm4 0h-2v-4h2v4z\"/>\n",
              "    </g>\n",
              "</svg>\n",
              "  </button>\n",
              "\n",
              "<style>\n",
              "  .colab-df-quickchart {\n",
              "      --bg-color: #E8F0FE;\n",
              "      --fill-color: #1967D2;\n",
              "      --hover-bg-color: #E2EBFA;\n",
              "      --hover-fill-color: #174EA6;\n",
              "      --disabled-fill-color: #AAA;\n",
              "      --disabled-bg-color: #DDD;\n",
              "  }\n",
              "\n",
              "  [theme=dark] .colab-df-quickchart {\n",
              "      --bg-color: #3B4455;\n",
              "      --fill-color: #D2E3FC;\n",
              "      --hover-bg-color: #434B5C;\n",
              "      --hover-fill-color: #FFFFFF;\n",
              "      --disabled-bg-color: #3B4455;\n",
              "      --disabled-fill-color: #666;\n",
              "  }\n",
              "\n",
              "  .colab-df-quickchart {\n",
              "    background-color: var(--bg-color);\n",
              "    border: none;\n",
              "    border-radius: 50%;\n",
              "    cursor: pointer;\n",
              "    display: none;\n",
              "    fill: var(--fill-color);\n",
              "    height: 32px;\n",
              "    padding: 0;\n",
              "    width: 32px;\n",
              "  }\n",
              "\n",
              "  .colab-df-quickchart:hover {\n",
              "    background-color: var(--hover-bg-color);\n",
              "    box-shadow: 0 1px 2px rgba(60, 64, 67, 0.3), 0 1px 3px 1px rgba(60, 64, 67, 0.15);\n",
              "    fill: var(--button-hover-fill-color);\n",
              "  }\n",
              "\n",
              "  .colab-df-quickchart-complete:disabled,\n",
              "  .colab-df-quickchart-complete:disabled:hover {\n",
              "    background-color: var(--disabled-bg-color);\n",
              "    fill: var(--disabled-fill-color);\n",
              "    box-shadow: none;\n",
              "  }\n",
              "\n",
              "  .colab-df-spinner {\n",
              "    border: 2px solid var(--fill-color);\n",
              "    border-color: transparent;\n",
              "    border-bottom-color: var(--fill-color);\n",
              "    animation:\n",
              "      spin 1s steps(1) infinite;\n",
              "  }\n",
              "\n",
              "  @keyframes spin {\n",
              "    0% {\n",
              "      border-color: transparent;\n",
              "      border-bottom-color: var(--fill-color);\n",
              "      border-left-color: var(--fill-color);\n",
              "    }\n",
              "    20% {\n",
              "      border-color: transparent;\n",
              "      border-left-color: var(--fill-color);\n",
              "      border-top-color: var(--fill-color);\n",
              "    }\n",
              "    30% {\n",
              "      border-color: transparent;\n",
              "      border-left-color: var(--fill-color);\n",
              "      border-top-color: var(--fill-color);\n",
              "      border-right-color: var(--fill-color);\n",
              "    }\n",
              "    40% {\n",
              "      border-color: transparent;\n",
              "      border-right-color: var(--fill-color);\n",
              "      border-top-color: var(--fill-color);\n",
              "    }\n",
              "    60% {\n",
              "      border-color: transparent;\n",
              "      border-right-color: var(--fill-color);\n",
              "    }\n",
              "    80% {\n",
              "      border-color: transparent;\n",
              "      border-right-color: var(--fill-color);\n",
              "      border-bottom-color: var(--fill-color);\n",
              "    }\n",
              "    90% {\n",
              "      border-color: transparent;\n",
              "      border-bottom-color: var(--fill-color);\n",
              "    }\n",
              "  }\n",
              "</style>\n",
              "\n",
              "  <script>\n",
              "    async function quickchart(key) {\n",
              "      const quickchartButtonEl =\n",
              "        document.querySelector('#' + key + ' button');\n",
              "      quickchartButtonEl.disabled = true;  // To prevent multiple clicks.\n",
              "      quickchartButtonEl.classList.add('colab-df-spinner');\n",
              "      try {\n",
              "        const charts = await google.colab.kernel.invokeFunction(\n",
              "            'suggestCharts', [key], {});\n",
              "      } catch (error) {\n",
              "        console.error('Error during call to suggestCharts:', error);\n",
              "      }\n",
              "      quickchartButtonEl.classList.remove('colab-df-spinner');\n",
              "      quickchartButtonEl.classList.add('colab-df-quickchart-complete');\n",
              "    }\n",
              "    (() => {\n",
              "      let quickchartButtonEl =\n",
              "        document.querySelector('#df-59962433-4127-4d6d-859e-04d7e0729b4c button');\n",
              "      quickchartButtonEl.style.display =\n",
              "        google.colab.kernel.accessAllowed ? 'block' : 'none';\n",
              "    })();\n",
              "  </script>\n",
              "</div>\n",
              "\n",
              "    </div>\n",
              "  </div>\n"
            ]
          },
          "metadata": {},
          "execution_count": 16
        }
      ]
    },
    {
      "cell_type": "markdown",
      "source": [
        "## 데이터 분포 확인"
      ],
      "metadata": {
        "id": "fG_ktGRRSN8w"
      }
    },
    {
      "cell_type": "code",
      "source": [
        "# # 불용어 정의\n",
        "# stopwords = ['의','가','이','은','들','는','좀','잘','걍','과','도','를','으로','자','에','와','한','하다']"
      ],
      "metadata": {
        "id": "3AgDxpqZuMnv"
      },
      "execution_count": null,
      "outputs": []
    },
    {
      "cell_type": "code",
      "source": [
        "# customer = list(customer['Parenting_Letter'])"
      ],
      "metadata": {
        "id": "Z69uSd2huNx5"
      },
      "execution_count": null,
      "outputs": []
    },
    {
      "cell_type": "code",
      "source": [
        "# # 형태소 분석기 OKT를 사용한 토큰화 작업\n",
        "# okt = Okt()\n",
        "\n",
        "# tokenized_data = []\n",
        "\n",
        "# for sentence in customer:\n",
        "#     temp_X = okt.morphs(sentence, stem=True) # 토큰화\n",
        "#     temp_X = [word for word in temp_X if not word in stopwords] # 불용어 제거\n",
        "#     tokenized_data.append(temp_X)"
      ],
      "metadata": {
        "id": "5AD3mlGcuNq8"
      },
      "execution_count": null,
      "outputs": []
    },
    {
      "cell_type": "code",
      "source": [],
      "metadata": {
        "id": "pcdOQ6cXuNeG"
      },
      "execution_count": null,
      "outputs": []
    },
    {
      "cell_type": "code",
      "source": [
        "# print('고민의 최대 길이 : ', max(len(concern) for concern in tokenized_data))\n",
        "# print('고민의 평균 길이 : ', sum(map(len, tokenized_data))/len(tokenized_data))\n",
        "# plt.hist([len(concern) for concern in tokenized_data], bins=20)\n",
        "# plt.xlabel('length of samples')\n",
        "# plt.ylabel('number of samples')\n",
        "# plt.show()"
      ],
      "metadata": {
        "id": "oyEzo5O8R1Rh"
      },
      "execution_count": null,
      "outputs": []
    },
    {
      "cell_type": "markdown",
      "source": [
        "## 워드 임베딩 구축"
      ],
      "metadata": {
        "id": "lYnGojP3Sy2W"
      }
    },
    {
      "cell_type": "code",
      "source": [
        "from gensim.models import Word2Vec"
      ],
      "metadata": {
        "id": "cQMgOJPSSuIo"
      },
      "execution_count": null,
      "outputs": []
    },
    {
      "cell_type": "markdown",
      "source": [
        "* gensim에서 제공하는 Word2Vec 모듈을 사용하여 토큰화 된 고민 데이터를 학습한다."
      ],
      "metadata": {
        "id": "MWjppWLYUdNb"
      }
    },
    {
      "cell_type": "code",
      "source": [
        "embedding_dim = 100\n",
        "\n",
        "# \"100차원의 벡터로 모델을 초기화하고, 각 중심 단어 주변에서 앞뒤로 5개의 단어를 살펴보며 첫 번째 에포크의 학습을 수행합니다.\"\n",
        "\n",
        "model = Word2Vec(\n",
        "    sentences = customer_df['Two_Letter_Words'],\n",
        "    vector_size=embedding_dim, # size 대신 vector_size로 변경\n",
        "    window=5,\n",
        "    min_count=5,\n",
        "    workers=4,\n",
        "    epochs=100, # iter 대신 epochs로 변경\n",
        "    sg=0)"
      ],
      "metadata": {
        "id": "rMvM5PXeS2TF"
      },
      "execution_count": null,
      "outputs": []
    },
    {
      "cell_type": "code",
      "source": [
        "# 학습이 완료되면 구축한 임베딩 핼렬의 크기 확인\n",
        "print(model.wv.vectors.shape)"
      ],
      "metadata": {
        "colab": {
          "base_uri": "https://localhost:8080/"
        },
        "id": "33GoUlJwTw_6",
        "outputId": "8f405a42-c3ba-4cfc-9480-c284e8b294f9"
      },
      "execution_count": null,
      "outputs": [
        {
          "output_type": "stream",
          "name": "stdout",
          "text": [
            "(63, 100)\n"
          ]
        }
      ]
    },
    {
      "cell_type": "markdown",
      "source": [
        "* 단어 사전에는 총 95개의 단어가 존재하며, 각각의 단어는 미리 설정한 embedding_dim=100 차원으로 구성되어 있음"
      ],
      "metadata": {
        "id": "D6xKyWu8T8rY"
      }
    },
    {
      "cell_type": "code",
      "source": [
        "word_vectors = model.wv\n",
        "vocabs = list(word_vectors.key_to_index.keys())\n"
      ],
      "metadata": {
        "id": "HV4Oz-wsTw8v"
      },
      "execution_count": null,
      "outputs": []
    },
    {
      "cell_type": "code",
      "source": [
        "vocabs[:100]"
      ],
      "metadata": {
        "colab": {
          "base_uri": "https://localhost:8080/"
        },
        "id": "hVKelzKmTw6P",
        "outputId": "997faf12-f871-400f-f685-0b92f6f21055"
      },
      "execution_count": null,
      "outputs": [
        {
          "output_type": "execute_result",
          "data": {
            "text/plain": [
              "['아이',\n",
              " '고민',\n",
              " '엄마',\n",
              " '방법',\n",
              " '도움',\n",
              " '하고',\n",
              " '양육',\n",
              " '개선',\n",
              " '직면',\n",
              " '귀하',\n",
              " '경험',\n",
              " '공유',\n",
              " '육아',\n",
              " '구합',\n",
              " '조언',\n",
              " '상황',\n",
              " '주시',\n",
              " '와의',\n",
              " '상태',\n",
              " '거부',\n",
              " '식단',\n",
              " '편식',\n",
              " '걱정',\n",
              " '보여',\n",
              " '면역',\n",
              " '같아',\n",
              " '단계',\n",
              " '보다',\n",
              " '평균',\n",
              " '발달',\n",
              " '패턴',\n",
              " '낮잠',\n",
              " '않아',\n",
              " '있어',\n",
              " '지원',\n",
              " '해야',\n",
              " '조절',\n",
              " '시간',\n",
              " '자신',\n",
              " '책임',\n",
              " '연속',\n",
              " '아빠',\n",
              " '34',\n",
              " '35',\n",
              " '33',\n",
              " '36',\n",
              " '32',\n",
              " '37',\n",
              " '38',\n",
              " '31',\n",
              " '39',\n",
              " '30',\n",
              " '29',\n",
              " '40',\n",
              " '25',\n",
              " '41',\n",
              " '28',\n",
              " '27',\n",
              " '42',\n",
              " '45',\n",
              " '26',\n",
              " '43',\n",
              " '44']"
            ]
          },
          "metadata": {},
          "execution_count": 25
        }
      ]
    },
    {
      "cell_type": "markdown",
      "source": [
        "* gensim 패키지에서 제공하는 most_similar 매소드를 사용하여, 원하는 단어와 유사한 단어들을 찾는다."
      ],
      "metadata": {
        "id": "BI_7Ps1BUWbn"
      }
    },
    {
      "cell_type": "code",
      "source": [
        "for sim_word in model.wv.most_similar('양육'):\n",
        "    print(sim_word)"
      ],
      "metadata": {
        "colab": {
          "base_uri": "https://localhost:8080/"
        },
        "id": "ESQGGs1KTJao",
        "outputId": "de4ffc59-9275-4921-d9f1-df5a58d6bb72"
      },
      "execution_count": null,
      "outputs": [
        {
          "output_type": "stream",
          "name": "stdout",
          "text": [
            "('시간', 0.17897525429725647)\n",
            "('자신', 0.12421148270368576)\n",
            "('육아', 0.12411817163228989)\n",
            "('책임', 0.08446313440799713)\n",
            "('도움', 0.07040523737668991)\n",
            "('37', 0.06198059767484665)\n",
            "('27', 0.060386985540390015)\n",
            "('39', 0.05877959355711937)\n",
            "('25', 0.055526040494441986)\n",
            "('33', 0.053237684071063995)\n"
          ]
        }
      ]
    },
    {
      "cell_type": "markdown",
      "source": [
        "#워드 임베딩 시각화"
      ],
      "metadata": {
        "id": "lrtYFRR1VGLZ"
      }
    },
    {
      "cell_type": "markdown",
      "source": [
        "## PCA 사용"
      ],
      "metadata": {
        "id": "tEYJBR8qWV94"
      }
    },
    {
      "cell_type": "code",
      "source": [
        "from sklearn.decomposition import PCA"
      ],
      "metadata": {
        "id": "OsmhRotNU9_A"
      },
      "execution_count": null,
      "outputs": []
    },
    {
      "cell_type": "code",
      "source": [
        "word_vector_list = [word_vectors[word] for word in vocabs]"
      ],
      "metadata": {
        "id": "lSjpNhI0Wh34"
      },
      "execution_count": null,
      "outputs": []
    },
    {
      "cell_type": "code",
      "source": [
        "word_vector_list[0]"
      ],
      "metadata": {
        "id": "X6UvIXjzWlML",
        "colab": {
          "base_uri": "https://localhost:8080/"
        },
        "outputId": "cdb6d3ce-b4c6-4cf4-d331-b3c95ea66420"
      },
      "execution_count": null,
      "outputs": [
        {
          "output_type": "execute_result",
          "data": {
            "text/plain": [
              "array([-0.17968413, -0.96877605,  0.5278027 , -1.4793204 ,  0.01242284,\n",
              "        0.37273443, -0.49903175, -0.555848  ,  1.6357281 , -0.07792214,\n",
              "       -0.74756354,  2.0143929 ,  1.5123988 , -0.7682775 , -0.3108821 ,\n",
              "        0.85014504, -0.9386365 ,  0.88255256,  0.15189761,  0.7096974 ,\n",
              "        0.34684345, -0.29397315,  0.6653975 ,  2.0499234 ,  0.1266675 ,\n",
              "       -0.6410832 ,  0.3647982 ,  0.8645909 ,  0.1058011 , -1.2718245 ,\n",
              "        0.5002769 ,  0.7415599 , -0.2571042 ,  0.54615897, -0.17635287,\n",
              "        0.35756394,  1.1796957 ,  0.25347432,  0.68209064, -1.0629824 ,\n",
              "        0.48078135,  0.19765778,  0.11867406,  0.368111  , -0.43446168,\n",
              "       -1.8831712 , -0.34981057,  0.90572995,  1.0840449 , -0.5159008 ,\n",
              "       -0.5323505 ,  0.09793225,  0.16429359, -1.204947  ,  0.31611544,\n",
              "        1.082913  , -0.2573808 ,  0.22693117,  0.89637774,  0.01895257,\n",
              "        0.1439702 ,  0.40172306,  0.49278095, -0.8482193 ,  0.33208603,\n",
              "        0.10123548, -0.04733703,  1.4843005 , -0.54133916, -0.82894677,\n",
              "       -0.38874882,  0.82914865,  0.97325236, -0.3830979 , -0.24005602,\n",
              "       -0.91300553,  1.462928  ,  0.49411592,  0.22140148,  0.39449197,\n",
              "       -0.01974666, -0.5101249 ,  0.4035658 ,  0.5964461 , -0.7197815 ,\n",
              "       -1.3774213 ,  1.5508358 , -0.49318296,  0.45771044,  0.32583475,\n",
              "        1.3209771 ,  0.6911985 ,  0.19442137, -0.25357857,  0.24590555,\n",
              "        1.2903038 ,  0.07677379, -0.28001148,  1.8841859 ,  1.7903287 ],\n",
              "      dtype=float32)"
            ]
          },
          "metadata": {},
          "execution_count": 30
        }
      ]
    },
    {
      "cell_type": "code",
      "source": [
        "pca = PCA(n_components=2)\n",
        "xys = pca.fit_transform(word_vector_list)\n",
        "\n",
        "x_asix = xys[:, 0]\n",
        "y_axis = xys[:, 1]"
      ],
      "metadata": {
        "id": "AZFhamSgWn7d"
      },
      "execution_count": null,
      "outputs": []
    },
    {
      "cell_type": "code",
      "source": [
        "! pip install adjustText"
      ],
      "metadata": {
        "colab": {
          "base_uri": "https://localhost:8080/"
        },
        "id": "2XFsk94xrSGg",
        "outputId": "f8458e93-2aa9-4f5e-c91a-74d0ab2bafaa"
      },
      "execution_count": null,
      "outputs": [
        {
          "output_type": "stream",
          "name": "stdout",
          "text": [
            "Collecting adjustText\n",
            "  Downloading adjustText-1.0.4-py3-none-any.whl (11 kB)\n",
            "Requirement already satisfied: numpy in /usr/local/lib/python3.10/dist-packages (from adjustText) (1.23.5)\n",
            "Requirement already satisfied: matplotlib in /usr/local/lib/python3.10/dist-packages (from adjustText) (3.7.1)\n",
            "Requirement already satisfied: scipy in /usr/local/lib/python3.10/dist-packages (from adjustText) (1.11.4)\n",
            "Requirement already satisfied: contourpy>=1.0.1 in /usr/local/lib/python3.10/dist-packages (from matplotlib->adjustText) (1.2.0)\n",
            "Requirement already satisfied: cycler>=0.10 in /usr/local/lib/python3.10/dist-packages (from matplotlib->adjustText) (0.12.1)\n",
            "Requirement already satisfied: fonttools>=4.22.0 in /usr/local/lib/python3.10/dist-packages (from matplotlib->adjustText) (4.47.2)\n",
            "Requirement already satisfied: kiwisolver>=1.0.1 in /usr/local/lib/python3.10/dist-packages (from matplotlib->adjustText) (1.4.5)\n",
            "Requirement already satisfied: packaging>=20.0 in /usr/local/lib/python3.10/dist-packages (from matplotlib->adjustText) (23.2)\n",
            "Requirement already satisfied: pillow>=6.2.0 in /usr/local/lib/python3.10/dist-packages (from matplotlib->adjustText) (9.4.0)\n",
            "Requirement already satisfied: pyparsing>=2.3.1 in /usr/local/lib/python3.10/dist-packages (from matplotlib->adjustText) (3.1.1)\n",
            "Requirement already satisfied: python-dateutil>=2.7 in /usr/local/lib/python3.10/dist-packages (from matplotlib->adjustText) (2.8.2)\n",
            "Requirement already satisfied: six>=1.5 in /usr/local/lib/python3.10/dist-packages (from python-dateutil>=2.7->matplotlib->adjustText) (1.16.0)\n",
            "Installing collected packages: adjustText\n",
            "Successfully installed adjustText-1.0.4\n"
          ]
        }
      ]
    },
    {
      "cell_type": "code",
      "source": [
        "import matplotlib.pyplot as plt\n",
        "from adjustText import adjust_text"
      ],
      "metadata": {
        "id": "RsRYGsKHrREy"
      },
      "execution_count": null,
      "outputs": []
    },
    {
      "cell_type": "code",
      "source": [
        "def plot_pca_graph(vocabs, x_axis, y_axis):\n",
        "    plt.figure(figsize=(10, 10))\n",
        "    plt.scatter(x_axis, y_axis, marker='o')\n",
        "\n",
        "    texts = []\n",
        "    for i, v in enumerate(vocabs):\n",
        "        texts.append(plt.text(x_axis[i], y_axis[i], v))\n",
        "\n",
        "    adjust_text(texts)"
      ],
      "metadata": {
        "id": "Xa0kfWsUWyDA"
      },
      "execution_count": null,
      "outputs": []
    },
    {
      "cell_type": "code",
      "source": [
        "plot_pca_graph(vocabs, x_asix, y_axis)"
      ],
      "metadata": {
        "id": "TD7T1fRIW83d",
        "colab": {
          "base_uri": "https://localhost:8080/",
          "height": 830
        },
        "outputId": "ff6afb00-5059-44df-c284-f2c24141c12a"
      },
      "execution_count": null,
      "outputs": [
        {
          "output_type": "display_data",
          "data": {
            "text/plain": [
              "<Figure size 1000x1000 with 1 Axes>"
            ],
            "image/png": "[encoded data removed]"
          },
          "metadata": {}
        }
      ]
    },
    {
      "cell_type": "code",
      "source": [],
      "metadata": {
        "id": "fRqIx9S8W_mV"
      },
      "execution_count": null,
      "outputs": []
    }
  ]
}