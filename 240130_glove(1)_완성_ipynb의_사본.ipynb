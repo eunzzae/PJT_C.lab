{
  "cells": [
    {
      "cell_type": "markdown",
      "metadata": {
        "id": "view-in-github",
        "colab_type": "text"
      },
      "source": [
        "<a href=\"https://colab.research.google.com/github/eunzzae/PJT_C.lab/blob/main/240130_glove(1)_%EC%99%84%EC%84%B1_ipynb%EC%9D%98_%EC%82%AC%EB%B3%B8.ipynb\" target=\"_parent\"><img src=\"https://colab.research.google.com/assets/colab-badge.svg\" alt=\"Open In Colab\"/></a>"
      ]
    },
    {
      "cell_type": "markdown",
      "metadata": {
        "id": "Dpg-mZ0c8WYB"
      },
      "source": [
        "* <참고>\n",
        "https://jxnjxn.tistory.com/49#6._%ED%99%9C%EC%9A%A9_:_%EC%9B%8C%EB%93%9C_%EC%9E%84%EB%B2%A0%EB%94%A9%EB%90%9C_%EB%B2%A1%ED%84%B0%EB%A1%9C_%EB%AC%B8%EC%9E%A5_%EB%8B%A8%EC%9C%84_%EC%9E%84%EB%B2%A0%EB%94%A9"
      ]
    },
    {
      "cell_type": "code",
      "execution_count": null,
      "metadata": {
        "colab": {
          "base_uri": "https://localhost:8080/"
        },
        "id": "c3weT6Yd7NSP",
        "outputId": "d6a7ede7-e26b-4071-cde8-154c4cd1e921"
      },
      "outputs": [
        {
          "output_type": "stream",
          "name": "stdout",
          "text": [
            "Drive already mounted at /content/drive; to attempt to forcibly remount, call drive.mount(\"/content/drive\", force_remount=True).\n"
          ]
        }
      ],
      "source": [
        "from google.colab import drive\n",
        "drive.mount('/content/drive')"
      ]
    },
    {
      "cell_type": "markdown",
      "metadata": {
        "id": "MVMiWoyL1H7H"
      },
      "source": [
        "# import 라이브러리"
      ]
    },
    {
      "cell_type": "code",
      "execution_count": null,
      "metadata": {
        "colab": {
          "base_uri": "https://localhost:8080/"
        },
        "id": "Gbf_gpd31Dtn",
        "outputId": "509ca874-377e-46a4-c2e0-b38d38a23f53"
      },
      "outputs": [
        {
          "output_type": "stream",
          "name": "stdout",
          "text": [
            "Requirement already satisfied: glove-python3 in /usr/local/lib/python3.10/dist-packages (0.1.0)\n",
            "Requirement already satisfied: numpy in /usr/local/lib/python3.10/dist-packages (from glove-python3) (1.23.5)\n",
            "Requirement already satisfied: scipy in /usr/local/lib/python3.10/dist-packages (from glove-python3) (1.11.4)\n"
          ]
        }
      ],
      "source": [
        "# colab 환경에 glove 설치\n",
        "! pip install glove-python3"
      ]
    },
    {
      "cell_type": "code",
      "execution_count": null,
      "metadata": {
        "colab": {
          "base_uri": "https://localhost:8080/"
        },
        "id": "cyko1qxs1F_G",
        "outputId": "e1c45ef3-f907-4d39-8dd5-09ef61ca5832"
      },
      "outputs": [
        {
          "output_type": "stream",
          "name": "stdout",
          "text": [
            "glove-python3                    0.1.0\n"
          ]
        }
      ],
      "source": [
        "pip list | grep glove"
      ]
    },
    {
      "cell_type": "code",
      "execution_count": null,
      "metadata": {
        "id": "1z1os7O67kiN",
        "colab": {
          "base_uri": "https://localhost:8080/"
        },
        "outputId": "6ffdc33a-c9f7-4a45-af9a-a45940679bd3"
      },
      "outputs": [
        {
          "output_type": "stream",
          "name": "stderr",
          "text": [
            "/usr/local/lib/python3.10/dist-packages/numpy/core/getlimits.py:500: UserWarning: The value of the smallest subnormal for <class 'numpy.float64'> type is zero.\n",
            "  setattr(self, word, getattr(machar, word).flat[0])\n",
            "/usr/local/lib/python3.10/dist-packages/numpy/core/getlimits.py:89: UserWarning: The value of the smallest subnormal for <class 'numpy.float64'> type is zero.\n",
            "  return self._float_to_str(self.smallest_subnormal)\n",
            "/usr/local/lib/python3.10/dist-packages/numpy/core/getlimits.py:500: UserWarning: The value of the smallest subnormal for <class 'numpy.float32'> type is zero.\n",
            "  setattr(self, word, getattr(machar, word).flat[0])\n",
            "/usr/local/lib/python3.10/dist-packages/numpy/core/getlimits.py:89: UserWarning: The value of the smallest subnormal for <class 'numpy.float32'> type is zero.\n",
            "  return self._float_to_str(self.smallest_subnormal)\n"
          ]
        }
      ],
      "source": [
        "from glove import Corpus, Glove"
      ]
    },
    {
      "cell_type": "code",
      "execution_count": null,
      "metadata": {
        "id": "v1JJLF0k1Klk"
      },
      "outputs": [],
      "source": [
        "# import nltk\n",
        "# nltk.download('punkt')"
      ]
    },
    {
      "cell_type": "code",
      "source": [
        "import numpy as np\n",
        "from tensorflow.keras.models import Sequential\n",
        "from tensorflow.keras.layers import Embedding, Dense\n",
        "from tensorflow.keras.preprocessing.text import Tokenizer\n"
      ],
      "metadata": {
        "id": "hwstp5HCQ8H1"
      },
      "execution_count": null,
      "outputs": []
    },
    {
      "cell_type": "code",
      "source": [
        "!sudo apt-get install -y fonts-nanum\n",
        "!sudo fc-cache -fv\n",
        "!rm ~/.cache/matplotlib -rf\n"
      ],
      "metadata": {
        "colab": {
          "base_uri": "https://localhost:8080/"
        },
        "id": "JtfiemINc8Yu",
        "outputId": "d4c1412b-0d35-4559-ec50-1db38c84f77a"
      },
      "execution_count": null,
      "outputs": [
        {
          "output_type": "stream",
          "name": "stdout",
          "text": [
            "Reading package lists... Done\n",
            "Building dependency tree... Done\n",
            "Reading state information... Done\n",
            "fonts-nanum is already the newest version (20200506-1).\n",
            "0 upgraded, 0 newly installed, 0 to remove and 31 not upgraded.\n",
            "/usr/share/fonts: caching, new cache contents: 0 fonts, 1 dirs\n",
            "/usr/share/fonts/truetype: caching, new cache contents: 0 fonts, 3 dirs\n",
            "/usr/share/fonts/truetype/humor-sans: caching, new cache contents: 1 fonts, 0 dirs\n",
            "/usr/share/fonts/truetype/liberation: caching, new cache contents: 16 fonts, 0 dirs\n",
            "/usr/share/fonts/truetype/nanum: caching, new cache contents: 12 fonts, 0 dirs\n",
            "/usr/local/share/fonts: caching, new cache contents: 0 fonts, 0 dirs\n",
            "/root/.local/share/fonts: skipping, no such directory\n",
            "/root/.fonts: skipping, no such directory\n",
            "/usr/share/fonts/truetype: skipping, looped directory detected\n",
            "/usr/share/fonts/truetype/humor-sans: skipping, looped directory detected\n",
            "/usr/share/fonts/truetype/liberation: skipping, looped directory detected\n",
            "/usr/share/fonts/truetype/nanum: skipping, looped directory detected\n",
            "/var/cache/fontconfig: cleaning cache directory\n",
            "/root/.cache/fontconfig: not cleaning non-existent cache directory\n",
            "/root/.fontconfig: not cleaning non-existent cache directory\n",
            "fc-cache: succeeded\n"
          ]
        }
      ]
    },
    {
      "cell_type": "code",
      "source": [
        "import matplotlib.pyplot as plt\n",
        "import matplotlib.font_manager as fm\n",
        "from matplotlib import rc\n",
        "\n",
        "plt.rc('font', family='NanumBarunGothic')\n",
        "plt.rcParams['axes.unicode_minus'] =False"
      ],
      "metadata": {
        "id": "yM9XF_bwdAP7"
      },
      "execution_count": null,
      "outputs": []
    },
    {
      "cell_type": "markdown",
      "source": [
        "# GloVe 임베딩 파일 로드"
      ],
      "metadata": {
        "id": "aGmAcnMrwFcF"
      }
    },
    {
      "cell_type": "code",
      "source": [
        "embeddings_index = {}\n",
        "with open('/content/drive/MyDrive/Colab Notebooks/단어임베딩/data/word-embeddings/glove/glove.txt', encoding='utf8') as f:\n",
        "    for line in f:\n",
        "        values = line.split()\n",
        "        word = values[0]\n",
        "        coefs = np.asarray(values[1:], dtype='float32')\n",
        "        embeddings_index[word] = coefs\n"
      ],
      "metadata": {
        "id": "9ErX-k_5RAyU"
      },
      "execution_count": null,
      "outputs": []
    },
    {
      "cell_type": "markdown",
      "source": [
        "# 단어 데이터 준비 및 정수 인코딩"
      ],
      "metadata": {
        "id": "YIlWm6PQROfd"
      }
    },
    {
      "cell_type": "code",
      "source": [
        "# 데이터분석 4종 세트\n",
        "import numpy as np\n",
        "import pandas as pd\n",
        "import matplotlib.pyplot as plt\n",
        "import seaborn as sns\n"
      ],
      "metadata": {
        "id": "Xn_EpzU-TUjY"
      },
      "execution_count": null,
      "outputs": []
    },
    {
      "cell_type": "code",
      "source": [
        "base_path = '/content/drive/MyDrive/Colab Notebooks/data/connects_lab/'\n",
        "customer_df = pd.read_csv(base_path+'Data_1_TalkD_customer_240124_modi.csv', encoding='utf-8')\n",
        "course_df = pd.read_csv(base_path+'Data_2_TalkD_course_240124_modi.csv',encoding='utf-8')\n",
        "rating_df = pd.read_csv(base_path+'Data_3_ratings_df_240124_modi.csv',encoding='utf-8')"
      ],
      "metadata": {
        "id": "MPEAehG6TUgP"
      },
      "execution_count": null,
      "outputs": []
    },
    {
      "cell_type": "code",
      "source": [
        "# Extract and flatten the keywords from the 'Parenting_Concerns' and '관련 육아고민' columns\n",
        "parenting_concerns = customer_df['Parenting_Concerns'].str.split(', ')\n",
        "customer_words = [word.strip() for sublist in parenting_concerns for word in sublist]\n",
        "course_concerns = course_df['관련 육아고민'].str.split(', ')\n",
        "course_words = [word.strip() for sublist in course_concerns for word in sublist]\n",
        "\n",
        "# Create a unique list of keywords\n",
        "combined_words = list(set(customer_words + course_words))"
      ],
      "metadata": {
        "id": "FcymkmO5TUHr"
      },
      "execution_count": null,
      "outputs": []
    },
    {
      "cell_type": "code",
      "source": [
        "# Initialize and fit the tokenizer\n",
        "tokenizer = Tokenizer()\n",
        "tokenizer.fit_on_texts(combined_words)\n",
        "\n",
        "# Convert the texts to sequences and flatten to 1D array\n",
        "sequences = tokenizer.texts_to_sequences(combined_words)\n",
        "data = np.array([item for sublist in sequences for item in sublist])"
      ],
      "metadata": {
        "id": "9itbjfwwwHa3"
      },
      "execution_count": null,
      "outputs": []
    },
    {
      "cell_type": "code",
      "source": [
        "print(data)"
      ],
      "metadata": {
        "colab": {
          "base_uri": "https://localhost:8080/"
        },
        "id": "VlV2bD-BSE21",
        "outputId": "4be98da6-06cd-4d99-da64-21c3e61ccbd1"
      },
      "execution_count": null,
      "outputs": [
        {
          "output_type": "stream",
          "name": "stdout",
          "text": [
            "[ 3  4  5  6  7  8  9 10  1 11 12 13 14 15  2  1  2 16]\n"
          ]
        }
      ]
    },
    {
      "cell_type": "markdown",
      "source": [
        "# 임베딩 매트릭스 생성"
      ],
      "metadata": {
        "id": "vq1F8rQRRcjI"
      }
    },
    {
      "cell_type": "code",
      "source": [
        "# Define the embedding layer\n",
        "embedding_dim = 100\n",
        "word_index = tokenizer.word_index\n",
        "num_words = len(word_index) + 1\n",
        "embeddings_index = {word: np.random.rand(embedding_dim) for word in word_index.keys()}  # Dummy embeddings\n",
        "embedding_matrix = np.zeros((num_words, embedding_dim))\n",
        "for word, i in word_index.items():\n",
        "    embedding_vector = embeddings_index.get(word)\n",
        "    if embedding_vector is not None:\n",
        "        embedding_matrix[i] = embedding_vector"
      ],
      "metadata": {
        "id": "TjzInch-wHYN"
      },
      "execution_count": null,
      "outputs": []
    },
    {
      "cell_type": "markdown",
      "source": [
        "# 모델 정의 및 컴파일"
      ],
      "metadata": {
        "id": "_U8p7kH4Rfvx"
      }
    },
    {
      "cell_type": "code",
      "source": [
        "# Define the model\n",
        "model = Sequential()\n",
        "model.add(Embedding(num_words, embedding_dim, input_length=1, weights=[embedding_matrix], trainable=False))\n",
        "model.add(Dense(16, activation='relu'))\n",
        "num_classes = 10  # Define your number of classes here\n",
        "model.add(Dense(num_classes, activation='softmax'))\n",
        "\n",
        "# Compile the model\n",
        "model.compile(loss='sparse_categorical_crossentropy', optimizer='adam', metrics=['accuracy'])\n"
      ],
      "metadata": {
        "id": "4bnSzb00wHNx"
      },
      "execution_count": null,
      "outputs": []
    },
    {
      "cell_type": "code",
      "source": [
        "# Reshape data for training and use the data itself as labels (modify as needed)\n",
        "data = data.reshape(-1, 1)\n",
        "labels = data\n",
        "model.fit(data, labels, epochs=3, batch_size=32)"
      ],
      "metadata": {
        "colab": {
          "base_uri": "https://localhost:8080/"
        },
        "id": "k-zLvHJGRioz",
        "outputId": "d59fcb06-bf02-44f1-e526-fedc1ae80f51"
      },
      "execution_count": null,
      "outputs": [
        {
          "output_type": "stream",
          "name": "stdout",
          "text": [
            "Epoch 1/3\n",
            "1/1 [==============================] - 1s 1s/step - loss: nan - accuracy: 0.0556\n",
            "Epoch 2/3\n",
            "1/1 [==============================] - 0s 8ms/step - loss: nan - accuracy: 0.0000e+00\n",
            "Epoch 3/3\n",
            "1/1 [==============================] - 0s 8ms/step - loss: nan - accuracy: 0.0000e+00\n"
          ]
        },
        {
          "output_type": "execute_result",
          "data": {
            "text/plain": [
              "<keras.src.callbacks.History at 0x7f54bfbd75b0>"
            ]
          },
          "metadata": {},
          "execution_count": 17
        }
      ]
    },
    {
      "cell_type": "code",
      "source": [],
      "metadata": {
        "id": "CBta12rPSYtB"
      },
      "execution_count": null,
      "outputs": []
    },
    {
      "cell_type": "markdown",
      "metadata": {
        "id": "LBgB2evi9PzY"
      },
      "source": []
    },
    {
      "cell_type": "code",
      "source": [
        "import numpy as np\n",
        "import matplotlib.pyplot as plt\n",
        "from sklearn.manifold import TSNE\n",
        "from tensorflow.keras.models import Model\n",
        "from sklearn.decomposition import PCA"
      ],
      "metadata": {
        "id": "LfcL7XVTSZhP"
      },
      "execution_count": null,
      "outputs": []
    },
    {
      "cell_type": "code",
      "source": [],
      "metadata": {
        "id": "e4suZroZWBWk"
      },
      "execution_count": null,
      "outputs": []
    },
    {
      "cell_type": "code",
      "source": [
        "# 'model'은 앞서 정의하고 학습한 Keras 모델입니다.\n",
        "embedding_layer = model.layers[0]\n",
        "weights = embedding_layer.get_weights()[0]\n"
      ],
      "metadata": {
        "id": "qeLIMZj4SdH2"
      },
      "execution_count": null,
      "outputs": []
    },
    {
      "cell_type": "markdown",
      "source": [
        "# T-SNE 시각화"
      ],
      "metadata": {
        "id": "ssndozPMlR7W"
      }
    },
    {
      "cell_type": "code",
      "source": [
        "n_samples = weights.shape[0]\n",
        "perplexity_value = min(40, n_samples - 1)  # perplexity는 n_samples보다 작아야 함\n",
        "\n",
        "tsne = TSNE(n_components=2, verbose=1, perplexity=perplexity_value, n_iter=300)\n",
        "tsne_results = tsne.fit_transform(weights)\n"
      ],
      "metadata": {
        "id": "2qVafdV3SgDZ",
        "colab": {
          "base_uri": "https://localhost:8080/"
        },
        "outputId": "9a803799-5f01-455a-d0fa-25b7e80ca009"
      },
      "execution_count": null,
      "outputs": [
        {
          "output_type": "stream",
          "name": "stdout",
          "text": [
            "[t-SNE] Computing 16 nearest neighbors...\n",
            "[t-SNE] Indexed 17 samples in 0.000s...\n",
            "[t-SNE] Computed neighbors for 17 samples in 0.156s...\n",
            "[t-SNE] Computed conditional probabilities for sample 17 / 17\n",
            "[t-SNE] Mean sigma: 35.909351\n",
            "[t-SNE] KL divergence after 250 iterations with early exaggeration: 38.700264\n",
            "[t-SNE] KL divergence after 300 iterations: 0.370601\n"
          ]
        }
      ]
    },
    {
      "cell_type": "code",
      "source": [
        "plt.figure(figsize=(10, 10))\n",
        "\n",
        "# 무작위 오프셋을 위한 범위 설정\n",
        "offset_range = 10  # 오프셋 범위를 조정할 수 있습니다.\n",
        "\n",
        "for i, word in enumerate(word_index.keys()):\n",
        "    if i >= 1000:  # 처음 1000개 단어만 표시\n",
        "        break\n",
        "    x, y = tsne_results[i, 0], tsne_results[i, 1]\n",
        "    # 무작위 오프셋 추가\n",
        "    x_offset = np.random.uniform(-offset_range, offset_range)\n",
        "    y_offset = np.random.uniform(-offset_range, offset_range)\n",
        "\n",
        "    plt.scatter(x, y)\n",
        "    plt.annotate(word, xy=(x, y), xytext=(x_offset, y_offset),\n",
        "                 textcoords='offset points', ha='right', va='bottom')\n",
        "\n",
        "plt.show()"
      ],
      "metadata": {
        "id": "Etcjc4N_ShR8",
        "colab": {
          "base_uri": "https://localhost:8080/",
          "height": 830
        },
        "outputId": "e196c464-6816-4f5c-e1f9-4d84074ef4ea"
      },
      "execution_count": null,
      "outputs": [
        {
          "output_type": "display_data",
          "data": {
            "text/plain": [
              "<Figure size 1000x1000 with 1 Axes>"
            ],
            "image/png": "[encoded data removed]"
          },
          "metadata": {}
        }
      ]
    },
    {
      "cell_type": "markdown",
      "source": [
        "# PCA 시각화"
      ],
      "metadata": {
        "id": "ZNSSRI86lOln"
      }
    },
    {
      "cell_type": "code",
      "source": [
        "from sklearn.decomposition import PCA\n",
        "import matplotlib.pyplot as plt\n",
        "\n",
        "# PCA 인스턴스 생성 및 학습\n",
        "pca = PCA(n_components=2)\n",
        "pca_results = pca.fit_transform(weights)"
      ],
      "metadata": {
        "id": "mYPlDhbfQI0F"
      },
      "execution_count": null,
      "outputs": []
    },
    {
      "cell_type": "code",
      "source": [
        "import numpy as np\n",
        "\n",
        "# 시각화\n",
        "plt.figure(figsize=(10,10))\n",
        "\n",
        "# 무작위 오프셋을 위한 범위 설정\n",
        "offset_range = 10  # 오프셋 범위를 조정할 수 있습니다.\n",
        "\n",
        "for i, word in enumerate(word_index.keys()):\n",
        "    if i >= 1000:  # 처음 1000개 단어만 표시\n",
        "        break\n",
        "    x, y = pca_results[i, 0], pca_results[i, 1]\n",
        "    # 무작위 오프셋 추가\n",
        "    x_offset = np.random.uniform(-offset_range, offset_range)\n",
        "    y_offset = np.random.uniform(-offset_range, offset_range)\n",
        "\n",
        "    plt.scatter(x, y)\n",
        "    plt.annotate(word, xy=(x, y), xytext=(x_offset, y_offset),\n",
        "                 textcoords='offset points', ha='right', va='bottom')\n",
        "\n",
        "plt.show()\n"
      ],
      "metadata": {
        "id": "ArfhadvrSsk9",
        "colab": {
          "base_uri": "https://localhost:8080/",
          "height": 830
        },
        "outputId": "f73a4c58-85a0-4bd2-bfbd-4344346f01be"
      },
      "execution_count": null,
      "outputs": [
        {
          "output_type": "display_data",
          "data": {
            "text/plain": [
              "<Figure size 1000x1000 with 1 Axes>"
            ],
            "image/png": "[encoded data removed]"
          },
          "metadata": {}
        }
      ]
    },
    {
      "cell_type": "code",
      "source": [],
      "metadata": {
        "id": "EyxRZNNJQKhg"
      },
      "execution_count": null,
      "outputs": []
    }
  ],
  "metadata": {
    "accelerator": "GPU",
    "colab": {
      "machine_shape": "hm",
      "provenance": [],
      "gpuType": "T4",
      "mount_file_id": "1jjQJadFSzJsOVOXeAGzL-T1vQ8v5iQdE",
      "authorship_tag": "ABX9TyMCc9L8SJpnVD/xmpaELmTE",
      "include_colab_link": true
    },
    "kernelspec": {
      "display_name": "Python 3",
      "name": "python3"
    },
    "language_info": {
      "name": "python"
    }
  },
  "nbformat": 4,
  "nbformat_minor": 0
}